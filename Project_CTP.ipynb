{
  "nbformat": 4,
  "nbformat_minor": 0,
  "metadata": {
    "colab": {
      "provenance": [],
      "collapsed_sections": [
        "rIat_IKKTss6",
        "YZcCyfnaT5gj",
        "-o9HviiFcQZ1",
        "1-fK1pWbsSRw",
        "93IQBMtInyi-"
      ],
      "toc_visible": true,
      "include_colab_link": true
    },
    "kernelspec": {
      "name": "python3",
      "display_name": "Python 3"
    },
    "language_info": {
      "name": "python"
    },
    "gpuClass": "premium",
    "widgets": {
      "application/vnd.jupyter.widget-state+json": {
        "b9514f43c0064b628b524fb1cb668933": {
          "model_module": "@jupyter-widgets/controls",
          "model_name": "HBoxModel",
          "model_module_version": "1.5.0",
          "state": {
            "_dom_classes": [],
            "_model_module": "@jupyter-widgets/controls",
            "_model_module_version": "1.5.0",
            "_model_name": "HBoxModel",
            "_view_count": null,
            "_view_module": "@jupyter-widgets/controls",
            "_view_module_version": "1.5.0",
            "_view_name": "HBoxView",
            "box_style": "",
            "children": [
              "IPY_MODEL_f2dbc717f2e14ac88889b15d32cc3d20",
              "IPY_MODEL_d02e4ebe044e48968104c25ef7ddf3c2",
              "IPY_MODEL_eed7934f53d94f6dbbc300e1e57e2d8f"
            ],
            "layout": "IPY_MODEL_ffda26b2342a4d74be5de7b30241c7d5"
          }
        },
        "f2dbc717f2e14ac88889b15d32cc3d20": {
          "model_module": "@jupyter-widgets/controls",
          "model_name": "HTMLModel",
          "model_module_version": "1.5.0",
          "state": {
            "_dom_classes": [],
            "_model_module": "@jupyter-widgets/controls",
            "_model_module_version": "1.5.0",
            "_model_name": "HTMLModel",
            "_view_count": null,
            "_view_module": "@jupyter-widgets/controls",
            "_view_module_version": "1.5.0",
            "_view_name": "HTMLView",
            "description": "",
            "description_tooltip": null,
            "layout": "IPY_MODEL_93c3f222a9ca44ffba0ef197db504638",
            "placeholder": "​",
            "style": "IPY_MODEL_097b81484c034702bbc0ba86e3ffdd36",
            "value": "Downloading: 100%"
          }
        },
        "d02e4ebe044e48968104c25ef7ddf3c2": {
          "model_module": "@jupyter-widgets/controls",
          "model_name": "FloatProgressModel",
          "model_module_version": "1.5.0",
          "state": {
            "_dom_classes": [],
            "_model_module": "@jupyter-widgets/controls",
            "_model_module_version": "1.5.0",
            "_model_name": "FloatProgressModel",
            "_view_count": null,
            "_view_module": "@jupyter-widgets/controls",
            "_view_module_version": "1.5.0",
            "_view_name": "ProgressView",
            "bar_style": "success",
            "description": "",
            "description_tooltip": null,
            "layout": "IPY_MODEL_567ad829456e418198e83ec7e0c6c70b",
            "max": 385,
            "min": 0,
            "orientation": "horizontal",
            "style": "IPY_MODEL_266972e2d7484836995dd39fa5d2b47b",
            "value": 385
          }
        },
        "eed7934f53d94f6dbbc300e1e57e2d8f": {
          "model_module": "@jupyter-widgets/controls",
          "model_name": "HTMLModel",
          "model_module_version": "1.5.0",
          "state": {
            "_dom_classes": [],
            "_model_module": "@jupyter-widgets/controls",
            "_model_module_version": "1.5.0",
            "_model_name": "HTMLModel",
            "_view_count": null,
            "_view_module": "@jupyter-widgets/controls",
            "_view_module_version": "1.5.0",
            "_view_name": "HTMLView",
            "description": "",
            "description_tooltip": null,
            "layout": "IPY_MODEL_3cc91cd7d35849a185506e044d29e7bc",
            "placeholder": "​",
            "style": "IPY_MODEL_cb6a2b2273594daeb495ca4c21b1a624",
            "value": " 385/385 [00:00&lt;00:00, 14.4kB/s]"
          }
        },
        "ffda26b2342a4d74be5de7b30241c7d5": {
          "model_module": "@jupyter-widgets/base",
          "model_name": "LayoutModel",
          "model_module_version": "1.2.0",
          "state": {
            "_model_module": "@jupyter-widgets/base",
            "_model_module_version": "1.2.0",
            "_model_name": "LayoutModel",
            "_view_count": null,
            "_view_module": "@jupyter-widgets/base",
            "_view_module_version": "1.2.0",
            "_view_name": "LayoutView",
            "align_content": null,
            "align_items": null,
            "align_self": null,
            "border": null,
            "bottom": null,
            "display": null,
            "flex": null,
            "flex_flow": null,
            "grid_area": null,
            "grid_auto_columns": null,
            "grid_auto_flow": null,
            "grid_auto_rows": null,
            "grid_column": null,
            "grid_gap": null,
            "grid_row": null,
            "grid_template_areas": null,
            "grid_template_columns": null,
            "grid_template_rows": null,
            "height": null,
            "justify_content": null,
            "justify_items": null,
            "left": null,
            "margin": null,
            "max_height": null,
            "max_width": null,
            "min_height": null,
            "min_width": null,
            "object_fit": null,
            "object_position": null,
            "order": null,
            "overflow": null,
            "overflow_x": null,
            "overflow_y": null,
            "padding": null,
            "right": null,
            "top": null,
            "visibility": null,
            "width": null
          }
        },
        "93c3f222a9ca44ffba0ef197db504638": {
          "model_module": "@jupyter-widgets/base",
          "model_name": "LayoutModel",
          "model_module_version": "1.2.0",
          "state": {
            "_model_module": "@jupyter-widgets/base",
            "_model_module_version": "1.2.0",
            "_model_name": "LayoutModel",
            "_view_count": null,
            "_view_module": "@jupyter-widgets/base",
            "_view_module_version": "1.2.0",
            "_view_name": "LayoutView",
            "align_content": null,
            "align_items": null,
            "align_self": null,
            "border": null,
            "bottom": null,
            "display": null,
            "flex": null,
            "flex_flow": null,
            "grid_area": null,
            "grid_auto_columns": null,
            "grid_auto_flow": null,
            "grid_auto_rows": null,
            "grid_column": null,
            "grid_gap": null,
            "grid_row": null,
            "grid_template_areas": null,
            "grid_template_columns": null,
            "grid_template_rows": null,
            "height": null,
            "justify_content": null,
            "justify_items": null,
            "left": null,
            "margin": null,
            "max_height": null,
            "max_width": null,
            "min_height": null,
            "min_width": null,
            "object_fit": null,
            "object_position": null,
            "order": null,
            "overflow": null,
            "overflow_x": null,
            "overflow_y": null,
            "padding": null,
            "right": null,
            "top": null,
            "visibility": null,
            "width": null
          }
        },
        "097b81484c034702bbc0ba86e3ffdd36": {
          "model_module": "@jupyter-widgets/controls",
          "model_name": "DescriptionStyleModel",
          "model_module_version": "1.5.0",
          "state": {
            "_model_module": "@jupyter-widgets/controls",
            "_model_module_version": "1.5.0",
            "_model_name": "DescriptionStyleModel",
            "_view_count": null,
            "_view_module": "@jupyter-widgets/base",
            "_view_module_version": "1.2.0",
            "_view_name": "StyleView",
            "description_width": ""
          }
        },
        "567ad829456e418198e83ec7e0c6c70b": {
          "model_module": "@jupyter-widgets/base",
          "model_name": "LayoutModel",
          "model_module_version": "1.2.0",
          "state": {
            "_model_module": "@jupyter-widgets/base",
            "_model_module_version": "1.2.0",
            "_model_name": "LayoutModel",
            "_view_count": null,
            "_view_module": "@jupyter-widgets/base",
            "_view_module_version": "1.2.0",
            "_view_name": "LayoutView",
            "align_content": null,
            "align_items": null,
            "align_self": null,
            "border": null,
            "bottom": null,
            "display": null,
            "flex": null,
            "flex_flow": null,
            "grid_area": null,
            "grid_auto_columns": null,
            "grid_auto_flow": null,
            "grid_auto_rows": null,
            "grid_column": null,
            "grid_gap": null,
            "grid_row": null,
            "grid_template_areas": null,
            "grid_template_columns": null,
            "grid_template_rows": null,
            "height": null,
            "justify_content": null,
            "justify_items": null,
            "left": null,
            "margin": null,
            "max_height": null,
            "max_width": null,
            "min_height": null,
            "min_width": null,
            "object_fit": null,
            "object_position": null,
            "order": null,
            "overflow": null,
            "overflow_x": null,
            "overflow_y": null,
            "padding": null,
            "right": null,
            "top": null,
            "visibility": null,
            "width": null
          }
        },
        "266972e2d7484836995dd39fa5d2b47b": {
          "model_module": "@jupyter-widgets/controls",
          "model_name": "ProgressStyleModel",
          "model_module_version": "1.5.0",
          "state": {
            "_model_module": "@jupyter-widgets/controls",
            "_model_module_version": "1.5.0",
            "_model_name": "ProgressStyleModel",
            "_view_count": null,
            "_view_module": "@jupyter-widgets/base",
            "_view_module_version": "1.2.0",
            "_view_name": "StyleView",
            "bar_color": null,
            "description_width": ""
          }
        },
        "3cc91cd7d35849a185506e044d29e7bc": {
          "model_module": "@jupyter-widgets/base",
          "model_name": "LayoutModel",
          "model_module_version": "1.2.0",
          "state": {
            "_model_module": "@jupyter-widgets/base",
            "_model_module_version": "1.2.0",
            "_model_name": "LayoutModel",
            "_view_count": null,
            "_view_module": "@jupyter-widgets/base",
            "_view_module_version": "1.2.0",
            "_view_name": "LayoutView",
            "align_content": null,
            "align_items": null,
            "align_self": null,
            "border": null,
            "bottom": null,
            "display": null,
            "flex": null,
            "flex_flow": null,
            "grid_area": null,
            "grid_auto_columns": null,
            "grid_auto_flow": null,
            "grid_auto_rows": null,
            "grid_column": null,
            "grid_gap": null,
            "grid_row": null,
            "grid_template_areas": null,
            "grid_template_columns": null,
            "grid_template_rows": null,
            "height": null,
            "justify_content": null,
            "justify_items": null,
            "left": null,
            "margin": null,
            "max_height": null,
            "max_width": null,
            "min_height": null,
            "min_width": null,
            "object_fit": null,
            "object_position": null,
            "order": null,
            "overflow": null,
            "overflow_x": null,
            "overflow_y": null,
            "padding": null,
            "right": null,
            "top": null,
            "visibility": null,
            "width": null
          }
        },
        "cb6a2b2273594daeb495ca4c21b1a624": {
          "model_module": "@jupyter-widgets/controls",
          "model_name": "DescriptionStyleModel",
          "model_module_version": "1.5.0",
          "state": {
            "_model_module": "@jupyter-widgets/controls",
            "_model_module_version": "1.5.0",
            "_model_name": "DescriptionStyleModel",
            "_view_count": null,
            "_view_module": "@jupyter-widgets/base",
            "_view_module_version": "1.2.0",
            "_view_name": "StyleView",
            "description_width": ""
          }
        },
        "08afb3207f1d40d282d640bbe952673c": {
          "model_module": "@jupyter-widgets/controls",
          "model_name": "HBoxModel",
          "model_module_version": "1.5.0",
          "state": {
            "_dom_classes": [],
            "_model_module": "@jupyter-widgets/controls",
            "_model_module_version": "1.5.0",
            "_model_name": "HBoxModel",
            "_view_count": null,
            "_view_module": "@jupyter-widgets/controls",
            "_view_module_version": "1.5.0",
            "_view_name": "HBoxView",
            "box_style": "",
            "children": [
              "IPY_MODEL_52e11b0fb5204910ab1c793b2a002689",
              "IPY_MODEL_e048ec4e8b0949a6852fed585e358a91",
              "IPY_MODEL_948bcb78c4ce4ed68165ad4e97d0ae32"
            ],
            "layout": "IPY_MODEL_e36da56a4ba749b8aef36f2915aed988"
          }
        },
        "52e11b0fb5204910ab1c793b2a002689": {
          "model_module": "@jupyter-widgets/controls",
          "model_name": "HTMLModel",
          "model_module_version": "1.5.0",
          "state": {
            "_dom_classes": [],
            "_model_module": "@jupyter-widgets/controls",
            "_model_module_version": "1.5.0",
            "_model_name": "HTMLModel",
            "_view_count": null,
            "_view_module": "@jupyter-widgets/controls",
            "_view_module_version": "1.5.0",
            "_view_name": "HTMLView",
            "description": "",
            "description_tooltip": null,
            "layout": "IPY_MODEL_bc8b011daf0e4911ba0182a30d250c8f",
            "placeholder": "​",
            "style": "IPY_MODEL_979bee49a3564ac6941b81095d2e6542",
            "value": "Downloading: 100%"
          }
        },
        "e048ec4e8b0949a6852fed585e358a91": {
          "model_module": "@jupyter-widgets/controls",
          "model_name": "FloatProgressModel",
          "model_module_version": "1.5.0",
          "state": {
            "_dom_classes": [],
            "_model_module": "@jupyter-widgets/controls",
            "_model_module_version": "1.5.0",
            "_model_name": "FloatProgressModel",
            "_view_count": null,
            "_view_module": "@jupyter-widgets/controls",
            "_view_module_version": "1.5.0",
            "_view_name": "ProgressView",
            "bar_style": "success",
            "description": "",
            "description_tooltip": null,
            "layout": "IPY_MODEL_eb03e22af5b5496c892741042f44c66c",
            "max": 442221694,
            "min": 0,
            "orientation": "horizontal",
            "style": "IPY_MODEL_ce80c6fbb0a14b3a99811346a6d07e40",
            "value": 442221694
          }
        },
        "948bcb78c4ce4ed68165ad4e97d0ae32": {
          "model_module": "@jupyter-widgets/controls",
          "model_name": "HTMLModel",
          "model_module_version": "1.5.0",
          "state": {
            "_dom_classes": [],
            "_model_module": "@jupyter-widgets/controls",
            "_model_module_version": "1.5.0",
            "_model_name": "HTMLModel",
            "_view_count": null,
            "_view_module": "@jupyter-widgets/controls",
            "_view_module_version": "1.5.0",
            "_view_name": "HTMLView",
            "description": "",
            "description_tooltip": null,
            "layout": "IPY_MODEL_5365129695b6412aa9a402751bf4a38e",
            "placeholder": "​",
            "style": "IPY_MODEL_6a5710c751084f2180c546e03c029d7e",
            "value": " 442M/442M [00:09&lt;00:00, 65.0MB/s]"
          }
        },
        "e36da56a4ba749b8aef36f2915aed988": {
          "model_module": "@jupyter-widgets/base",
          "model_name": "LayoutModel",
          "model_module_version": "1.2.0",
          "state": {
            "_model_module": "@jupyter-widgets/base",
            "_model_module_version": "1.2.0",
            "_model_name": "LayoutModel",
            "_view_count": null,
            "_view_module": "@jupyter-widgets/base",
            "_view_module_version": "1.2.0",
            "_view_name": "LayoutView",
            "align_content": null,
            "align_items": null,
            "align_self": null,
            "border": null,
            "bottom": null,
            "display": null,
            "flex": null,
            "flex_flow": null,
            "grid_area": null,
            "grid_auto_columns": null,
            "grid_auto_flow": null,
            "grid_auto_rows": null,
            "grid_column": null,
            "grid_gap": null,
            "grid_row": null,
            "grid_template_areas": null,
            "grid_template_columns": null,
            "grid_template_rows": null,
            "height": null,
            "justify_content": null,
            "justify_items": null,
            "left": null,
            "margin": null,
            "max_height": null,
            "max_width": null,
            "min_height": null,
            "min_width": null,
            "object_fit": null,
            "object_position": null,
            "order": null,
            "overflow": null,
            "overflow_x": null,
            "overflow_y": null,
            "padding": null,
            "right": null,
            "top": null,
            "visibility": null,
            "width": null
          }
        },
        "bc8b011daf0e4911ba0182a30d250c8f": {
          "model_module": "@jupyter-widgets/base",
          "model_name": "LayoutModel",
          "model_module_version": "1.2.0",
          "state": {
            "_model_module": "@jupyter-widgets/base",
            "_model_module_version": "1.2.0",
            "_model_name": "LayoutModel",
            "_view_count": null,
            "_view_module": "@jupyter-widgets/base",
            "_view_module_version": "1.2.0",
            "_view_name": "LayoutView",
            "align_content": null,
            "align_items": null,
            "align_self": null,
            "border": null,
            "bottom": null,
            "display": null,
            "flex": null,
            "flex_flow": null,
            "grid_area": null,
            "grid_auto_columns": null,
            "grid_auto_flow": null,
            "grid_auto_rows": null,
            "grid_column": null,
            "grid_gap": null,
            "grid_row": null,
            "grid_template_areas": null,
            "grid_template_columns": null,
            "grid_template_rows": null,
            "height": null,
            "justify_content": null,
            "justify_items": null,
            "left": null,
            "margin": null,
            "max_height": null,
            "max_width": null,
            "min_height": null,
            "min_width": null,
            "object_fit": null,
            "object_position": null,
            "order": null,
            "overflow": null,
            "overflow_x": null,
            "overflow_y": null,
            "padding": null,
            "right": null,
            "top": null,
            "visibility": null,
            "width": null
          }
        },
        "979bee49a3564ac6941b81095d2e6542": {
          "model_module": "@jupyter-widgets/controls",
          "model_name": "DescriptionStyleModel",
          "model_module_version": "1.5.0",
          "state": {
            "_model_module": "@jupyter-widgets/controls",
            "_model_module_version": "1.5.0",
            "_model_name": "DescriptionStyleModel",
            "_view_count": null,
            "_view_module": "@jupyter-widgets/base",
            "_view_module_version": "1.2.0",
            "_view_name": "StyleView",
            "description_width": ""
          }
        },
        "eb03e22af5b5496c892741042f44c66c": {
          "model_module": "@jupyter-widgets/base",
          "model_name": "LayoutModel",
          "model_module_version": "1.2.0",
          "state": {
            "_model_module": "@jupyter-widgets/base",
            "_model_module_version": "1.2.0",
            "_model_name": "LayoutModel",
            "_view_count": null,
            "_view_module": "@jupyter-widgets/base",
            "_view_module_version": "1.2.0",
            "_view_name": "LayoutView",
            "align_content": null,
            "align_items": null,
            "align_self": null,
            "border": null,
            "bottom": null,
            "display": null,
            "flex": null,
            "flex_flow": null,
            "grid_area": null,
            "grid_auto_columns": null,
            "grid_auto_flow": null,
            "grid_auto_rows": null,
            "grid_column": null,
            "grid_gap": null,
            "grid_row": null,
            "grid_template_areas": null,
            "grid_template_columns": null,
            "grid_template_rows": null,
            "height": null,
            "justify_content": null,
            "justify_items": null,
            "left": null,
            "margin": null,
            "max_height": null,
            "max_width": null,
            "min_height": null,
            "min_width": null,
            "object_fit": null,
            "object_position": null,
            "order": null,
            "overflow": null,
            "overflow_x": null,
            "overflow_y": null,
            "padding": null,
            "right": null,
            "top": null,
            "visibility": null,
            "width": null
          }
        },
        "ce80c6fbb0a14b3a99811346a6d07e40": {
          "model_module": "@jupyter-widgets/controls",
          "model_name": "ProgressStyleModel",
          "model_module_version": "1.5.0",
          "state": {
            "_model_module": "@jupyter-widgets/controls",
            "_model_module_version": "1.5.0",
            "_model_name": "ProgressStyleModel",
            "_view_count": null,
            "_view_module": "@jupyter-widgets/base",
            "_view_module_version": "1.2.0",
            "_view_name": "StyleView",
            "bar_color": null,
            "description_width": ""
          }
        },
        "5365129695b6412aa9a402751bf4a38e": {
          "model_module": "@jupyter-widgets/base",
          "model_name": "LayoutModel",
          "model_module_version": "1.2.0",
          "state": {
            "_model_module": "@jupyter-widgets/base",
            "_model_module_version": "1.2.0",
            "_model_name": "LayoutModel",
            "_view_count": null,
            "_view_module": "@jupyter-widgets/base",
            "_view_module_version": "1.2.0",
            "_view_name": "LayoutView",
            "align_content": null,
            "align_items": null,
            "align_self": null,
            "border": null,
            "bottom": null,
            "display": null,
            "flex": null,
            "flex_flow": null,
            "grid_area": null,
            "grid_auto_columns": null,
            "grid_auto_flow": null,
            "grid_auto_rows": null,
            "grid_column": null,
            "grid_gap": null,
            "grid_row": null,
            "grid_template_areas": null,
            "grid_template_columns": null,
            "grid_template_rows": null,
            "height": null,
            "justify_content": null,
            "justify_items": null,
            "left": null,
            "margin": null,
            "max_height": null,
            "max_width": null,
            "min_height": null,
            "min_width": null,
            "object_fit": null,
            "object_position": null,
            "order": null,
            "overflow": null,
            "overflow_x": null,
            "overflow_y": null,
            "padding": null,
            "right": null,
            "top": null,
            "visibility": null,
            "width": null
          }
        },
        "6a5710c751084f2180c546e03c029d7e": {
          "model_module": "@jupyter-widgets/controls",
          "model_name": "DescriptionStyleModel",
          "model_module_version": "1.5.0",
          "state": {
            "_model_module": "@jupyter-widgets/controls",
            "_model_module_version": "1.5.0",
            "_model_name": "DescriptionStyleModel",
            "_view_count": null,
            "_view_module": "@jupyter-widgets/base",
            "_view_module_version": "1.2.0",
            "_view_name": "StyleView",
            "description_width": ""
          }
        },
        "24dea5377dd548acb3e50bdd9efcd8f0": {
          "model_module": "@jupyter-widgets/controls",
          "model_name": "HBoxModel",
          "model_module_version": "1.5.0",
          "state": {
            "_dom_classes": [],
            "_model_module": "@jupyter-widgets/controls",
            "_model_module_version": "1.5.0",
            "_model_name": "HBoxModel",
            "_view_count": null,
            "_view_module": "@jupyter-widgets/controls",
            "_view_module_version": "1.5.0",
            "_view_name": "HBoxView",
            "box_style": "",
            "children": [
              "IPY_MODEL_0448f2849549435d89c5ec327936171e",
              "IPY_MODEL_2916003d858e4eb4a26bc2d51f0f44ad",
              "IPY_MODEL_45cfb15e8b564ab09699c7ca5ef6cb08"
            ],
            "layout": "IPY_MODEL_fa768070666b4888bad7c355b1e9c883"
          }
        },
        "0448f2849549435d89c5ec327936171e": {
          "model_module": "@jupyter-widgets/controls",
          "model_name": "HTMLModel",
          "model_module_version": "1.5.0",
          "state": {
            "_dom_classes": [],
            "_model_module": "@jupyter-widgets/controls",
            "_model_module_version": "1.5.0",
            "_model_name": "HTMLModel",
            "_view_count": null,
            "_view_module": "@jupyter-widgets/controls",
            "_view_module_version": "1.5.0",
            "_view_name": "HTMLView",
            "description": "",
            "description_tooltip": null,
            "layout": "IPY_MODEL_3fdcbe6ab8ce4b96b561fa7f07a325b9",
            "placeholder": "​",
            "style": "IPY_MODEL_e7e0c3b576fc4c9e9b3d93073dbdeee5",
            "value": "Downloading: 100%"
          }
        },
        "2916003d858e4eb4a26bc2d51f0f44ad": {
          "model_module": "@jupyter-widgets/controls",
          "model_name": "FloatProgressModel",
          "model_module_version": "1.5.0",
          "state": {
            "_dom_classes": [],
            "_model_module": "@jupyter-widgets/controls",
            "_model_module_version": "1.5.0",
            "_model_name": "FloatProgressModel",
            "_view_count": null,
            "_view_module": "@jupyter-widgets/controls",
            "_view_module_version": "1.5.0",
            "_view_name": "ProgressView",
            "bar_style": "success",
            "description": "",
            "description_tooltip": null,
            "layout": "IPY_MODEL_6784e805583945fcbd5cb9e630897a9f",
            "max": 227845,
            "min": 0,
            "orientation": "horizontal",
            "style": "IPY_MODEL_8a2be908a4ec47dd9bb4f37f1f3cdfbd",
            "value": 227845
          }
        },
        "45cfb15e8b564ab09699c7ca5ef6cb08": {
          "model_module": "@jupyter-widgets/controls",
          "model_name": "HTMLModel",
          "model_module_version": "1.5.0",
          "state": {
            "_dom_classes": [],
            "_model_module": "@jupyter-widgets/controls",
            "_model_module_version": "1.5.0",
            "_model_name": "HTMLModel",
            "_view_count": null,
            "_view_module": "@jupyter-widgets/controls",
            "_view_module_version": "1.5.0",
            "_view_name": "HTMLView",
            "description": "",
            "description_tooltip": null,
            "layout": "IPY_MODEL_316d81e04bb64bfb9bdc8c4c7732a353",
            "placeholder": "​",
            "style": "IPY_MODEL_eb2ef5bfdb8d4750bb59232b2c78b25f",
            "value": " 228k/228k [00:00&lt;00:00, 1.71MB/s]"
          }
        },
        "fa768070666b4888bad7c355b1e9c883": {
          "model_module": "@jupyter-widgets/base",
          "model_name": "LayoutModel",
          "model_module_version": "1.2.0",
          "state": {
            "_model_module": "@jupyter-widgets/base",
            "_model_module_version": "1.2.0",
            "_model_name": "LayoutModel",
            "_view_count": null,
            "_view_module": "@jupyter-widgets/base",
            "_view_module_version": "1.2.0",
            "_view_name": "LayoutView",
            "align_content": null,
            "align_items": null,
            "align_self": null,
            "border": null,
            "bottom": null,
            "display": null,
            "flex": null,
            "flex_flow": null,
            "grid_area": null,
            "grid_auto_columns": null,
            "grid_auto_flow": null,
            "grid_auto_rows": null,
            "grid_column": null,
            "grid_gap": null,
            "grid_row": null,
            "grid_template_areas": null,
            "grid_template_columns": null,
            "grid_template_rows": null,
            "height": null,
            "justify_content": null,
            "justify_items": null,
            "left": null,
            "margin": null,
            "max_height": null,
            "max_width": null,
            "min_height": null,
            "min_width": null,
            "object_fit": null,
            "object_position": null,
            "order": null,
            "overflow": null,
            "overflow_x": null,
            "overflow_y": null,
            "padding": null,
            "right": null,
            "top": null,
            "visibility": null,
            "width": null
          }
        },
        "3fdcbe6ab8ce4b96b561fa7f07a325b9": {
          "model_module": "@jupyter-widgets/base",
          "model_name": "LayoutModel",
          "model_module_version": "1.2.0",
          "state": {
            "_model_module": "@jupyter-widgets/base",
            "_model_module_version": "1.2.0",
            "_model_name": "LayoutModel",
            "_view_count": null,
            "_view_module": "@jupyter-widgets/base",
            "_view_module_version": "1.2.0",
            "_view_name": "LayoutView",
            "align_content": null,
            "align_items": null,
            "align_self": null,
            "border": null,
            "bottom": null,
            "display": null,
            "flex": null,
            "flex_flow": null,
            "grid_area": null,
            "grid_auto_columns": null,
            "grid_auto_flow": null,
            "grid_auto_rows": null,
            "grid_column": null,
            "grid_gap": null,
            "grid_row": null,
            "grid_template_areas": null,
            "grid_template_columns": null,
            "grid_template_rows": null,
            "height": null,
            "justify_content": null,
            "justify_items": null,
            "left": null,
            "margin": null,
            "max_height": null,
            "max_width": null,
            "min_height": null,
            "min_width": null,
            "object_fit": null,
            "object_position": null,
            "order": null,
            "overflow": null,
            "overflow_x": null,
            "overflow_y": null,
            "padding": null,
            "right": null,
            "top": null,
            "visibility": null,
            "width": null
          }
        },
        "e7e0c3b576fc4c9e9b3d93073dbdeee5": {
          "model_module": "@jupyter-widgets/controls",
          "model_name": "DescriptionStyleModel",
          "model_module_version": "1.5.0",
          "state": {
            "_model_module": "@jupyter-widgets/controls",
            "_model_module_version": "1.5.0",
            "_model_name": "DescriptionStyleModel",
            "_view_count": null,
            "_view_module": "@jupyter-widgets/base",
            "_view_module_version": "1.2.0",
            "_view_name": "StyleView",
            "description_width": ""
          }
        },
        "6784e805583945fcbd5cb9e630897a9f": {
          "model_module": "@jupyter-widgets/base",
          "model_name": "LayoutModel",
          "model_module_version": "1.2.0",
          "state": {
            "_model_module": "@jupyter-widgets/base",
            "_model_module_version": "1.2.0",
            "_model_name": "LayoutModel",
            "_view_count": null,
            "_view_module": "@jupyter-widgets/base",
            "_view_module_version": "1.2.0",
            "_view_name": "LayoutView",
            "align_content": null,
            "align_items": null,
            "align_self": null,
            "border": null,
            "bottom": null,
            "display": null,
            "flex": null,
            "flex_flow": null,
            "grid_area": null,
            "grid_auto_columns": null,
            "grid_auto_flow": null,
            "grid_auto_rows": null,
            "grid_column": null,
            "grid_gap": null,
            "grid_row": null,
            "grid_template_areas": null,
            "grid_template_columns": null,
            "grid_template_rows": null,
            "height": null,
            "justify_content": null,
            "justify_items": null,
            "left": null,
            "margin": null,
            "max_height": null,
            "max_width": null,
            "min_height": null,
            "min_width": null,
            "object_fit": null,
            "object_position": null,
            "order": null,
            "overflow": null,
            "overflow_x": null,
            "overflow_y": null,
            "padding": null,
            "right": null,
            "top": null,
            "visibility": null,
            "width": null
          }
        },
        "8a2be908a4ec47dd9bb4f37f1f3cdfbd": {
          "model_module": "@jupyter-widgets/controls",
          "model_name": "ProgressStyleModel",
          "model_module_version": "1.5.0",
          "state": {
            "_model_module": "@jupyter-widgets/controls",
            "_model_module_version": "1.5.0",
            "_model_name": "ProgressStyleModel",
            "_view_count": null,
            "_view_module": "@jupyter-widgets/base",
            "_view_module_version": "1.2.0",
            "_view_name": "StyleView",
            "bar_color": null,
            "description_width": ""
          }
        },
        "316d81e04bb64bfb9bdc8c4c7732a353": {
          "model_module": "@jupyter-widgets/base",
          "model_name": "LayoutModel",
          "model_module_version": "1.2.0",
          "state": {
            "_model_module": "@jupyter-widgets/base",
            "_model_module_version": "1.2.0",
            "_model_name": "LayoutModel",
            "_view_count": null,
            "_view_module": "@jupyter-widgets/base",
            "_view_module_version": "1.2.0",
            "_view_name": "LayoutView",
            "align_content": null,
            "align_items": null,
            "align_self": null,
            "border": null,
            "bottom": null,
            "display": null,
            "flex": null,
            "flex_flow": null,
            "grid_area": null,
            "grid_auto_columns": null,
            "grid_auto_flow": null,
            "grid_auto_rows": null,
            "grid_column": null,
            "grid_gap": null,
            "grid_row": null,
            "grid_template_areas": null,
            "grid_template_columns": null,
            "grid_template_rows": null,
            "height": null,
            "justify_content": null,
            "justify_items": null,
            "left": null,
            "margin": null,
            "max_height": null,
            "max_width": null,
            "min_height": null,
            "min_width": null,
            "object_fit": null,
            "object_position": null,
            "order": null,
            "overflow": null,
            "overflow_x": null,
            "overflow_y": null,
            "padding": null,
            "right": null,
            "top": null,
            "visibility": null,
            "width": null
          }
        },
        "eb2ef5bfdb8d4750bb59232b2c78b25f": {
          "model_module": "@jupyter-widgets/controls",
          "model_name": "DescriptionStyleModel",
          "model_module_version": "1.5.0",
          "state": {
            "_model_module": "@jupyter-widgets/controls",
            "_model_module_version": "1.5.0",
            "_model_name": "DescriptionStyleModel",
            "_view_count": null,
            "_view_module": "@jupyter-widgets/base",
            "_view_module_version": "1.2.0",
            "_view_name": "StyleView",
            "description_width": ""
          }
        },
        "64c650611e5e418dae14bda413436d68": {
          "model_module": "@jupyter-widgets/controls",
          "model_name": "HBoxModel",
          "model_module_version": "1.5.0",
          "state": {
            "_dom_classes": [],
            "_model_module": "@jupyter-widgets/controls",
            "_model_module_version": "1.5.0",
            "_model_name": "HBoxModel",
            "_view_count": null,
            "_view_module": "@jupyter-widgets/controls",
            "_view_module_version": "1.5.0",
            "_view_name": "HBoxView",
            "box_style": "",
            "children": [
              "IPY_MODEL_5ff4a21c289c475daf240ec2f2028dc4",
              "IPY_MODEL_60db8e2133094898aff901ae37d3cd18",
              "IPY_MODEL_204009c8afcb4dbfa56576e06a09bd2c"
            ],
            "layout": "IPY_MODEL_d6bfc086b720425a9c9e9a07584000bc"
          }
        },
        "5ff4a21c289c475daf240ec2f2028dc4": {
          "model_module": "@jupyter-widgets/controls",
          "model_name": "HTMLModel",
          "model_module_version": "1.5.0",
          "state": {
            "_dom_classes": [],
            "_model_module": "@jupyter-widgets/controls",
            "_model_module_version": "1.5.0",
            "_model_name": "HTMLModel",
            "_view_count": null,
            "_view_module": "@jupyter-widgets/controls",
            "_view_module_version": "1.5.0",
            "_view_name": "HTMLView",
            "description": "",
            "description_tooltip": null,
            "layout": "IPY_MODEL_b244b857ef8d41d6b3017d3cebf658e1",
            "placeholder": "​",
            "style": "IPY_MODEL_2d1583203403472688dd16761068fc91",
            "value": "100%"
          }
        },
        "60db8e2133094898aff901ae37d3cd18": {
          "model_module": "@jupyter-widgets/controls",
          "model_name": "FloatProgressModel",
          "model_module_version": "1.5.0",
          "state": {
            "_dom_classes": [],
            "_model_module": "@jupyter-widgets/controls",
            "_model_module_version": "1.5.0",
            "_model_name": "FloatProgressModel",
            "_view_count": null,
            "_view_module": "@jupyter-widgets/controls",
            "_view_module_version": "1.5.0",
            "_view_name": "ProgressView",
            "bar_style": "success",
            "description": "",
            "description_tooltip": null,
            "layout": "IPY_MODEL_87b1d564de934b0895bf0f7ea0faf834",
            "max": 2549,
            "min": 0,
            "orientation": "horizontal",
            "style": "IPY_MODEL_6cbe345c86f7483fba1a0825accf175d",
            "value": 2549
          }
        },
        "204009c8afcb4dbfa56576e06a09bd2c": {
          "model_module": "@jupyter-widgets/controls",
          "model_name": "HTMLModel",
          "model_module_version": "1.5.0",
          "state": {
            "_dom_classes": [],
            "_model_module": "@jupyter-widgets/controls",
            "_model_module_version": "1.5.0",
            "_model_name": "HTMLModel",
            "_view_count": null,
            "_view_module": "@jupyter-widgets/controls",
            "_view_module_version": "1.5.0",
            "_view_name": "HTMLView",
            "description": "",
            "description_tooltip": null,
            "layout": "IPY_MODEL_6a12666d81ea4d70a90ae34606b79af8",
            "placeholder": "​",
            "style": "IPY_MODEL_49921464a50149209309bf6d96911e72",
            "value": " 2549/2549 [08:46&lt;00:00,  4.97it/s]"
          }
        },
        "d6bfc086b720425a9c9e9a07584000bc": {
          "model_module": "@jupyter-widgets/base",
          "model_name": "LayoutModel",
          "model_module_version": "1.2.0",
          "state": {
            "_model_module": "@jupyter-widgets/base",
            "_model_module_version": "1.2.0",
            "_model_name": "LayoutModel",
            "_view_count": null,
            "_view_module": "@jupyter-widgets/base",
            "_view_module_version": "1.2.0",
            "_view_name": "LayoutView",
            "align_content": null,
            "align_items": null,
            "align_self": null,
            "border": null,
            "bottom": null,
            "display": null,
            "flex": null,
            "flex_flow": null,
            "grid_area": null,
            "grid_auto_columns": null,
            "grid_auto_flow": null,
            "grid_auto_rows": null,
            "grid_column": null,
            "grid_gap": null,
            "grid_row": null,
            "grid_template_areas": null,
            "grid_template_columns": null,
            "grid_template_rows": null,
            "height": null,
            "justify_content": null,
            "justify_items": null,
            "left": null,
            "margin": null,
            "max_height": null,
            "max_width": null,
            "min_height": null,
            "min_width": null,
            "object_fit": null,
            "object_position": null,
            "order": null,
            "overflow": null,
            "overflow_x": null,
            "overflow_y": null,
            "padding": null,
            "right": null,
            "top": null,
            "visibility": null,
            "width": null
          }
        },
        "b244b857ef8d41d6b3017d3cebf658e1": {
          "model_module": "@jupyter-widgets/base",
          "model_name": "LayoutModel",
          "model_module_version": "1.2.0",
          "state": {
            "_model_module": "@jupyter-widgets/base",
            "_model_module_version": "1.2.0",
            "_model_name": "LayoutModel",
            "_view_count": null,
            "_view_module": "@jupyter-widgets/base",
            "_view_module_version": "1.2.0",
            "_view_name": "LayoutView",
            "align_content": null,
            "align_items": null,
            "align_self": null,
            "border": null,
            "bottom": null,
            "display": null,
            "flex": null,
            "flex_flow": null,
            "grid_area": null,
            "grid_auto_columns": null,
            "grid_auto_flow": null,
            "grid_auto_rows": null,
            "grid_column": null,
            "grid_gap": null,
            "grid_row": null,
            "grid_template_areas": null,
            "grid_template_columns": null,
            "grid_template_rows": null,
            "height": null,
            "justify_content": null,
            "justify_items": null,
            "left": null,
            "margin": null,
            "max_height": null,
            "max_width": null,
            "min_height": null,
            "min_width": null,
            "object_fit": null,
            "object_position": null,
            "order": null,
            "overflow": null,
            "overflow_x": null,
            "overflow_y": null,
            "padding": null,
            "right": null,
            "top": null,
            "visibility": null,
            "width": null
          }
        },
        "2d1583203403472688dd16761068fc91": {
          "model_module": "@jupyter-widgets/controls",
          "model_name": "DescriptionStyleModel",
          "model_module_version": "1.5.0",
          "state": {
            "_model_module": "@jupyter-widgets/controls",
            "_model_module_version": "1.5.0",
            "_model_name": "DescriptionStyleModel",
            "_view_count": null,
            "_view_module": "@jupyter-widgets/base",
            "_view_module_version": "1.2.0",
            "_view_name": "StyleView",
            "description_width": ""
          }
        },
        "87b1d564de934b0895bf0f7ea0faf834": {
          "model_module": "@jupyter-widgets/base",
          "model_name": "LayoutModel",
          "model_module_version": "1.2.0",
          "state": {
            "_model_module": "@jupyter-widgets/base",
            "_model_module_version": "1.2.0",
            "_model_name": "LayoutModel",
            "_view_count": null,
            "_view_module": "@jupyter-widgets/base",
            "_view_module_version": "1.2.0",
            "_view_name": "LayoutView",
            "align_content": null,
            "align_items": null,
            "align_self": null,
            "border": null,
            "bottom": null,
            "display": null,
            "flex": null,
            "flex_flow": null,
            "grid_area": null,
            "grid_auto_columns": null,
            "grid_auto_flow": null,
            "grid_auto_rows": null,
            "grid_column": null,
            "grid_gap": null,
            "grid_row": null,
            "grid_template_areas": null,
            "grid_template_columns": null,
            "grid_template_rows": null,
            "height": null,
            "justify_content": null,
            "justify_items": null,
            "left": null,
            "margin": null,
            "max_height": null,
            "max_width": null,
            "min_height": null,
            "min_width": null,
            "object_fit": null,
            "object_position": null,
            "order": null,
            "overflow": null,
            "overflow_x": null,
            "overflow_y": null,
            "padding": null,
            "right": null,
            "top": null,
            "visibility": null,
            "width": null
          }
        },
        "6cbe345c86f7483fba1a0825accf175d": {
          "model_module": "@jupyter-widgets/controls",
          "model_name": "ProgressStyleModel",
          "model_module_version": "1.5.0",
          "state": {
            "_model_module": "@jupyter-widgets/controls",
            "_model_module_version": "1.5.0",
            "_model_name": "ProgressStyleModel",
            "_view_count": null,
            "_view_module": "@jupyter-widgets/base",
            "_view_module_version": "1.2.0",
            "_view_name": "StyleView",
            "bar_color": null,
            "description_width": ""
          }
        },
        "6a12666d81ea4d70a90ae34606b79af8": {
          "model_module": "@jupyter-widgets/base",
          "model_name": "LayoutModel",
          "model_module_version": "1.2.0",
          "state": {
            "_model_module": "@jupyter-widgets/base",
            "_model_module_version": "1.2.0",
            "_model_name": "LayoutModel",
            "_view_count": null,
            "_view_module": "@jupyter-widgets/base",
            "_view_module_version": "1.2.0",
            "_view_name": "LayoutView",
            "align_content": null,
            "align_items": null,
            "align_self": null,
            "border": null,
            "bottom": null,
            "display": null,
            "flex": null,
            "flex_flow": null,
            "grid_area": null,
            "grid_auto_columns": null,
            "grid_auto_flow": null,
            "grid_auto_rows": null,
            "grid_column": null,
            "grid_gap": null,
            "grid_row": null,
            "grid_template_areas": null,
            "grid_template_columns": null,
            "grid_template_rows": null,
            "height": null,
            "justify_content": null,
            "justify_items": null,
            "left": null,
            "margin": null,
            "max_height": null,
            "max_width": null,
            "min_height": null,
            "min_width": null,
            "object_fit": null,
            "object_position": null,
            "order": null,
            "overflow": null,
            "overflow_x": null,
            "overflow_y": null,
            "padding": null,
            "right": null,
            "top": null,
            "visibility": null,
            "width": null
          }
        },
        "49921464a50149209309bf6d96911e72": {
          "model_module": "@jupyter-widgets/controls",
          "model_name": "DescriptionStyleModel",
          "model_module_version": "1.5.0",
          "state": {
            "_model_module": "@jupyter-widgets/controls",
            "_model_module_version": "1.5.0",
            "_model_name": "DescriptionStyleModel",
            "_view_count": null,
            "_view_module": "@jupyter-widgets/base",
            "_view_module_version": "1.2.0",
            "_view_name": "StyleView",
            "description_width": ""
          }
        },
        "a05a50c123bc4e5da5eb1ff2fbc9e4a6": {
          "model_module": "@jupyter-widgets/controls",
          "model_name": "HBoxModel",
          "model_module_version": "1.5.0",
          "state": {
            "_dom_classes": [],
            "_model_module": "@jupyter-widgets/controls",
            "_model_module_version": "1.5.0",
            "_model_name": "HBoxModel",
            "_view_count": null,
            "_view_module": "@jupyter-widgets/controls",
            "_view_module_version": "1.5.0",
            "_view_name": "HBoxView",
            "box_style": "",
            "children": [
              "IPY_MODEL_599763b078384c949dafe4cebf991517",
              "IPY_MODEL_948f636e9bee4ad1aee374bae38ed85e",
              "IPY_MODEL_15966c67ce374b3b8d4ca73c9a30a112"
            ],
            "layout": "IPY_MODEL_a711d8534c9947c8b0737270e6ddbd83"
          }
        },
        "599763b078384c949dafe4cebf991517": {
          "model_module": "@jupyter-widgets/controls",
          "model_name": "HTMLModel",
          "model_module_version": "1.5.0",
          "state": {
            "_dom_classes": [],
            "_model_module": "@jupyter-widgets/controls",
            "_model_module_version": "1.5.0",
            "_model_name": "HTMLModel",
            "_view_count": null,
            "_view_module": "@jupyter-widgets/controls",
            "_view_module_version": "1.5.0",
            "_view_name": "HTMLView",
            "description": "",
            "description_tooltip": null,
            "layout": "IPY_MODEL_27bc0064d69c4e298470e362feba0b27",
            "placeholder": "​",
            "style": "IPY_MODEL_42446a037a1646d99448b16b12f60600",
            "value": "100%"
          }
        },
        "948f636e9bee4ad1aee374bae38ed85e": {
          "model_module": "@jupyter-widgets/controls",
          "model_name": "FloatProgressModel",
          "model_module_version": "1.5.0",
          "state": {
            "_dom_classes": [],
            "_model_module": "@jupyter-widgets/controls",
            "_model_module_version": "1.5.0",
            "_model_name": "FloatProgressModel",
            "_view_count": null,
            "_view_module": "@jupyter-widgets/controls",
            "_view_module_version": "1.5.0",
            "_view_name": "ProgressView",
            "bar_style": "success",
            "description": "",
            "description_tooltip": null,
            "layout": "IPY_MODEL_90f6bb474d1d4e5b923f2d49d1eb17fc",
            "max": 752,
            "min": 0,
            "orientation": "horizontal",
            "style": "IPY_MODEL_e4eba7c68c1847ecbecff17303e9c0c0",
            "value": 752
          }
        },
        "15966c67ce374b3b8d4ca73c9a30a112": {
          "model_module": "@jupyter-widgets/controls",
          "model_name": "HTMLModel",
          "model_module_version": "1.5.0",
          "state": {
            "_dom_classes": [],
            "_model_module": "@jupyter-widgets/controls",
            "_model_module_version": "1.5.0",
            "_model_name": "HTMLModel",
            "_view_count": null,
            "_view_module": "@jupyter-widgets/controls",
            "_view_module_version": "1.5.0",
            "_view_name": "HTMLView",
            "description": "",
            "description_tooltip": null,
            "layout": "IPY_MODEL_bb604c240bf34fdcacbbe2b465759c9c",
            "placeholder": "​",
            "style": "IPY_MODEL_11c07f31e86c42ff973a6429356b3471",
            "value": " 752/752 [01:34&lt;00:00,  5.32it/s]"
          }
        },
        "a711d8534c9947c8b0737270e6ddbd83": {
          "model_module": "@jupyter-widgets/base",
          "model_name": "LayoutModel",
          "model_module_version": "1.2.0",
          "state": {
            "_model_module": "@jupyter-widgets/base",
            "_model_module_version": "1.2.0",
            "_model_name": "LayoutModel",
            "_view_count": null,
            "_view_module": "@jupyter-widgets/base",
            "_view_module_version": "1.2.0",
            "_view_name": "LayoutView",
            "align_content": null,
            "align_items": null,
            "align_self": null,
            "border": null,
            "bottom": null,
            "display": null,
            "flex": null,
            "flex_flow": null,
            "grid_area": null,
            "grid_auto_columns": null,
            "grid_auto_flow": null,
            "grid_auto_rows": null,
            "grid_column": null,
            "grid_gap": null,
            "grid_row": null,
            "grid_template_areas": null,
            "grid_template_columns": null,
            "grid_template_rows": null,
            "height": null,
            "justify_content": null,
            "justify_items": null,
            "left": null,
            "margin": null,
            "max_height": null,
            "max_width": null,
            "min_height": null,
            "min_width": null,
            "object_fit": null,
            "object_position": null,
            "order": null,
            "overflow": null,
            "overflow_x": null,
            "overflow_y": null,
            "padding": null,
            "right": null,
            "top": null,
            "visibility": null,
            "width": null
          }
        },
        "27bc0064d69c4e298470e362feba0b27": {
          "model_module": "@jupyter-widgets/base",
          "model_name": "LayoutModel",
          "model_module_version": "1.2.0",
          "state": {
            "_model_module": "@jupyter-widgets/base",
            "_model_module_version": "1.2.0",
            "_model_name": "LayoutModel",
            "_view_count": null,
            "_view_module": "@jupyter-widgets/base",
            "_view_module_version": "1.2.0",
            "_view_name": "LayoutView",
            "align_content": null,
            "align_items": null,
            "align_self": null,
            "border": null,
            "bottom": null,
            "display": null,
            "flex": null,
            "flex_flow": null,
            "grid_area": null,
            "grid_auto_columns": null,
            "grid_auto_flow": null,
            "grid_auto_rows": null,
            "grid_column": null,
            "grid_gap": null,
            "grid_row": null,
            "grid_template_areas": null,
            "grid_template_columns": null,
            "grid_template_rows": null,
            "height": null,
            "justify_content": null,
            "justify_items": null,
            "left": null,
            "margin": null,
            "max_height": null,
            "max_width": null,
            "min_height": null,
            "min_width": null,
            "object_fit": null,
            "object_position": null,
            "order": null,
            "overflow": null,
            "overflow_x": null,
            "overflow_y": null,
            "padding": null,
            "right": null,
            "top": null,
            "visibility": null,
            "width": null
          }
        },
        "42446a037a1646d99448b16b12f60600": {
          "model_module": "@jupyter-widgets/controls",
          "model_name": "DescriptionStyleModel",
          "model_module_version": "1.5.0",
          "state": {
            "_model_module": "@jupyter-widgets/controls",
            "_model_module_version": "1.5.0",
            "_model_name": "DescriptionStyleModel",
            "_view_count": null,
            "_view_module": "@jupyter-widgets/base",
            "_view_module_version": "1.2.0",
            "_view_name": "StyleView",
            "description_width": ""
          }
        },
        "90f6bb474d1d4e5b923f2d49d1eb17fc": {
          "model_module": "@jupyter-widgets/base",
          "model_name": "LayoutModel",
          "model_module_version": "1.2.0",
          "state": {
            "_model_module": "@jupyter-widgets/base",
            "_model_module_version": "1.2.0",
            "_model_name": "LayoutModel",
            "_view_count": null,
            "_view_module": "@jupyter-widgets/base",
            "_view_module_version": "1.2.0",
            "_view_name": "LayoutView",
            "align_content": null,
            "align_items": null,
            "align_self": null,
            "border": null,
            "bottom": null,
            "display": null,
            "flex": null,
            "flex_flow": null,
            "grid_area": null,
            "grid_auto_columns": null,
            "grid_auto_flow": null,
            "grid_auto_rows": null,
            "grid_column": null,
            "grid_gap": null,
            "grid_row": null,
            "grid_template_areas": null,
            "grid_template_columns": null,
            "grid_template_rows": null,
            "height": null,
            "justify_content": null,
            "justify_items": null,
            "left": null,
            "margin": null,
            "max_height": null,
            "max_width": null,
            "min_height": null,
            "min_width": null,
            "object_fit": null,
            "object_position": null,
            "order": null,
            "overflow": null,
            "overflow_x": null,
            "overflow_y": null,
            "padding": null,
            "right": null,
            "top": null,
            "visibility": null,
            "width": null
          }
        },
        "e4eba7c68c1847ecbecff17303e9c0c0": {
          "model_module": "@jupyter-widgets/controls",
          "model_name": "ProgressStyleModel",
          "model_module_version": "1.5.0",
          "state": {
            "_model_module": "@jupyter-widgets/controls",
            "_model_module_version": "1.5.0",
            "_model_name": "ProgressStyleModel",
            "_view_count": null,
            "_view_module": "@jupyter-widgets/base",
            "_view_module_version": "1.2.0",
            "_view_name": "StyleView",
            "bar_color": null,
            "description_width": ""
          }
        },
        "bb604c240bf34fdcacbbe2b465759c9c": {
          "model_module": "@jupyter-widgets/base",
          "model_name": "LayoutModel",
          "model_module_version": "1.2.0",
          "state": {
            "_model_module": "@jupyter-widgets/base",
            "_model_module_version": "1.2.0",
            "_model_name": "LayoutModel",
            "_view_count": null,
            "_view_module": "@jupyter-widgets/base",
            "_view_module_version": "1.2.0",
            "_view_name": "LayoutView",
            "align_content": null,
            "align_items": null,
            "align_self": null,
            "border": null,
            "bottom": null,
            "display": null,
            "flex": null,
            "flex_flow": null,
            "grid_area": null,
            "grid_auto_columns": null,
            "grid_auto_flow": null,
            "grid_auto_rows": null,
            "grid_column": null,
            "grid_gap": null,
            "grid_row": null,
            "grid_template_areas": null,
            "grid_template_columns": null,
            "grid_template_rows": null,
            "height": null,
            "justify_content": null,
            "justify_items": null,
            "left": null,
            "margin": null,
            "max_height": null,
            "max_width": null,
            "min_height": null,
            "min_width": null,
            "object_fit": null,
            "object_position": null,
            "order": null,
            "overflow": null,
            "overflow_x": null,
            "overflow_y": null,
            "padding": null,
            "right": null,
            "top": null,
            "visibility": null,
            "width": null
          }
        },
        "11c07f31e86c42ff973a6429356b3471": {
          "model_module": "@jupyter-widgets/controls",
          "model_name": "DescriptionStyleModel",
          "model_module_version": "1.5.0",
          "state": {
            "_model_module": "@jupyter-widgets/controls",
            "_model_module_version": "1.5.0",
            "_model_name": "DescriptionStyleModel",
            "_view_count": null,
            "_view_module": "@jupyter-widgets/base",
            "_view_module_version": "1.2.0",
            "_view_name": "StyleView",
            "description_width": ""
          }
        },
        "274aff5db1b0432f83750436ea3740d8": {
          "model_module": "@jupyter-widgets/controls",
          "model_name": "HBoxModel",
          "model_module_version": "1.5.0",
          "state": {
            "_dom_classes": [],
            "_model_module": "@jupyter-widgets/controls",
            "_model_module_version": "1.5.0",
            "_model_name": "HBoxModel",
            "_view_count": null,
            "_view_module": "@jupyter-widgets/controls",
            "_view_module_version": "1.5.0",
            "_view_name": "HBoxView",
            "box_style": "",
            "children": [
              "IPY_MODEL_b629083f66114279a6e44aac12358a4b",
              "IPY_MODEL_6b4ed2ed40404789a864a90236ad7b2d",
              "IPY_MODEL_3d952c9be4b24d16a46cce2458b0092a"
            ],
            "layout": "IPY_MODEL_49961adf2fe14d1ea9bf05596876cbd5"
          }
        },
        "b629083f66114279a6e44aac12358a4b": {
          "model_module": "@jupyter-widgets/controls",
          "model_name": "HTMLModel",
          "model_module_version": "1.5.0",
          "state": {
            "_dom_classes": [],
            "_model_module": "@jupyter-widgets/controls",
            "_model_module_version": "1.5.0",
            "_model_name": "HTMLModel",
            "_view_count": null,
            "_view_module": "@jupyter-widgets/controls",
            "_view_module_version": "1.5.0",
            "_view_name": "HTMLView",
            "description": "",
            "description_tooltip": null,
            "layout": "IPY_MODEL_c62c3699f5714b0986e9ebe2a98dd8fc",
            "placeholder": "​",
            "style": "IPY_MODEL_a09df85485af4342ae503a7a24b565d6",
            "value": "100%"
          }
        },
        "6b4ed2ed40404789a864a90236ad7b2d": {
          "model_module": "@jupyter-widgets/controls",
          "model_name": "FloatProgressModel",
          "model_module_version": "1.5.0",
          "state": {
            "_dom_classes": [],
            "_model_module": "@jupyter-widgets/controls",
            "_model_module_version": "1.5.0",
            "_model_name": "FloatProgressModel",
            "_view_count": null,
            "_view_module": "@jupyter-widgets/controls",
            "_view_module_version": "1.5.0",
            "_view_name": "ProgressView",
            "bar_style": "success",
            "description": "",
            "description_tooltip": null,
            "layout": "IPY_MODEL_3c28b5e5b9b14471975c9088037e41b3",
            "max": 2549,
            "min": 0,
            "orientation": "horizontal",
            "style": "IPY_MODEL_ac4d2fe8af874b9bb8559e7b7a6b6d3f",
            "value": 2549
          }
        },
        "3d952c9be4b24d16a46cce2458b0092a": {
          "model_module": "@jupyter-widgets/controls",
          "model_name": "HTMLModel",
          "model_module_version": "1.5.0",
          "state": {
            "_dom_classes": [],
            "_model_module": "@jupyter-widgets/controls",
            "_model_module_version": "1.5.0",
            "_model_name": "HTMLModel",
            "_view_count": null,
            "_view_module": "@jupyter-widgets/controls",
            "_view_module_version": "1.5.0",
            "_view_name": "HTMLView",
            "description": "",
            "description_tooltip": null,
            "layout": "IPY_MODEL_94a69dd4995441f6b59cf9537c1d5e38",
            "placeholder": "​",
            "style": "IPY_MODEL_8c073908d28e46c98aed99577dc87e6a",
            "value": " 2549/2549 [08:46&lt;00:00,  4.96it/s]"
          }
        },
        "49961adf2fe14d1ea9bf05596876cbd5": {
          "model_module": "@jupyter-widgets/base",
          "model_name": "LayoutModel",
          "model_module_version": "1.2.0",
          "state": {
            "_model_module": "@jupyter-widgets/base",
            "_model_module_version": "1.2.0",
            "_model_name": "LayoutModel",
            "_view_count": null,
            "_view_module": "@jupyter-widgets/base",
            "_view_module_version": "1.2.0",
            "_view_name": "LayoutView",
            "align_content": null,
            "align_items": null,
            "align_self": null,
            "border": null,
            "bottom": null,
            "display": null,
            "flex": null,
            "flex_flow": null,
            "grid_area": null,
            "grid_auto_columns": null,
            "grid_auto_flow": null,
            "grid_auto_rows": null,
            "grid_column": null,
            "grid_gap": null,
            "grid_row": null,
            "grid_template_areas": null,
            "grid_template_columns": null,
            "grid_template_rows": null,
            "height": null,
            "justify_content": null,
            "justify_items": null,
            "left": null,
            "margin": null,
            "max_height": null,
            "max_width": null,
            "min_height": null,
            "min_width": null,
            "object_fit": null,
            "object_position": null,
            "order": null,
            "overflow": null,
            "overflow_x": null,
            "overflow_y": null,
            "padding": null,
            "right": null,
            "top": null,
            "visibility": null,
            "width": null
          }
        },
        "c62c3699f5714b0986e9ebe2a98dd8fc": {
          "model_module": "@jupyter-widgets/base",
          "model_name": "LayoutModel",
          "model_module_version": "1.2.0",
          "state": {
            "_model_module": "@jupyter-widgets/base",
            "_model_module_version": "1.2.0",
            "_model_name": "LayoutModel",
            "_view_count": null,
            "_view_module": "@jupyter-widgets/base",
            "_view_module_version": "1.2.0",
            "_view_name": "LayoutView",
            "align_content": null,
            "align_items": null,
            "align_self": null,
            "border": null,
            "bottom": null,
            "display": null,
            "flex": null,
            "flex_flow": null,
            "grid_area": null,
            "grid_auto_columns": null,
            "grid_auto_flow": null,
            "grid_auto_rows": null,
            "grid_column": null,
            "grid_gap": null,
            "grid_row": null,
            "grid_template_areas": null,
            "grid_template_columns": null,
            "grid_template_rows": null,
            "height": null,
            "justify_content": null,
            "justify_items": null,
            "left": null,
            "margin": null,
            "max_height": null,
            "max_width": null,
            "min_height": null,
            "min_width": null,
            "object_fit": null,
            "object_position": null,
            "order": null,
            "overflow": null,
            "overflow_x": null,
            "overflow_y": null,
            "padding": null,
            "right": null,
            "top": null,
            "visibility": null,
            "width": null
          }
        },
        "a09df85485af4342ae503a7a24b565d6": {
          "model_module": "@jupyter-widgets/controls",
          "model_name": "DescriptionStyleModel",
          "model_module_version": "1.5.0",
          "state": {
            "_model_module": "@jupyter-widgets/controls",
            "_model_module_version": "1.5.0",
            "_model_name": "DescriptionStyleModel",
            "_view_count": null,
            "_view_module": "@jupyter-widgets/base",
            "_view_module_version": "1.2.0",
            "_view_name": "StyleView",
            "description_width": ""
          }
        },
        "3c28b5e5b9b14471975c9088037e41b3": {
          "model_module": "@jupyter-widgets/base",
          "model_name": "LayoutModel",
          "model_module_version": "1.2.0",
          "state": {
            "_model_module": "@jupyter-widgets/base",
            "_model_module_version": "1.2.0",
            "_model_name": "LayoutModel",
            "_view_count": null,
            "_view_module": "@jupyter-widgets/base",
            "_view_module_version": "1.2.0",
            "_view_name": "LayoutView",
            "align_content": null,
            "align_items": null,
            "align_self": null,
            "border": null,
            "bottom": null,
            "display": null,
            "flex": null,
            "flex_flow": null,
            "grid_area": null,
            "grid_auto_columns": null,
            "grid_auto_flow": null,
            "grid_auto_rows": null,
            "grid_column": null,
            "grid_gap": null,
            "grid_row": null,
            "grid_template_areas": null,
            "grid_template_columns": null,
            "grid_template_rows": null,
            "height": null,
            "justify_content": null,
            "justify_items": null,
            "left": null,
            "margin": null,
            "max_height": null,
            "max_width": null,
            "min_height": null,
            "min_width": null,
            "object_fit": null,
            "object_position": null,
            "order": null,
            "overflow": null,
            "overflow_x": null,
            "overflow_y": null,
            "padding": null,
            "right": null,
            "top": null,
            "visibility": null,
            "width": null
          }
        },
        "ac4d2fe8af874b9bb8559e7b7a6b6d3f": {
          "model_module": "@jupyter-widgets/controls",
          "model_name": "ProgressStyleModel",
          "model_module_version": "1.5.0",
          "state": {
            "_model_module": "@jupyter-widgets/controls",
            "_model_module_version": "1.5.0",
            "_model_name": "ProgressStyleModel",
            "_view_count": null,
            "_view_module": "@jupyter-widgets/base",
            "_view_module_version": "1.2.0",
            "_view_name": "StyleView",
            "bar_color": null,
            "description_width": ""
          }
        },
        "94a69dd4995441f6b59cf9537c1d5e38": {
          "model_module": "@jupyter-widgets/base",
          "model_name": "LayoutModel",
          "model_module_version": "1.2.0",
          "state": {
            "_model_module": "@jupyter-widgets/base",
            "_model_module_version": "1.2.0",
            "_model_name": "LayoutModel",
            "_view_count": null,
            "_view_module": "@jupyter-widgets/base",
            "_view_module_version": "1.2.0",
            "_view_name": "LayoutView",
            "align_content": null,
            "align_items": null,
            "align_self": null,
            "border": null,
            "bottom": null,
            "display": null,
            "flex": null,
            "flex_flow": null,
            "grid_area": null,
            "grid_auto_columns": null,
            "grid_auto_flow": null,
            "grid_auto_rows": null,
            "grid_column": null,
            "grid_gap": null,
            "grid_row": null,
            "grid_template_areas": null,
            "grid_template_columns": null,
            "grid_template_rows": null,
            "height": null,
            "justify_content": null,
            "justify_items": null,
            "left": null,
            "margin": null,
            "max_height": null,
            "max_width": null,
            "min_height": null,
            "min_width": null,
            "object_fit": null,
            "object_position": null,
            "order": null,
            "overflow": null,
            "overflow_x": null,
            "overflow_y": null,
            "padding": null,
            "right": null,
            "top": null,
            "visibility": null,
            "width": null
          }
        },
        "8c073908d28e46c98aed99577dc87e6a": {
          "model_module": "@jupyter-widgets/controls",
          "model_name": "DescriptionStyleModel",
          "model_module_version": "1.5.0",
          "state": {
            "_model_module": "@jupyter-widgets/controls",
            "_model_module_version": "1.5.0",
            "_model_name": "DescriptionStyleModel",
            "_view_count": null,
            "_view_module": "@jupyter-widgets/base",
            "_view_module_version": "1.2.0",
            "_view_name": "StyleView",
            "description_width": ""
          }
        },
        "17e627d6239b40b19dd008f170b193bb": {
          "model_module": "@jupyter-widgets/controls",
          "model_name": "HBoxModel",
          "model_module_version": "1.5.0",
          "state": {
            "_dom_classes": [],
            "_model_module": "@jupyter-widgets/controls",
            "_model_module_version": "1.5.0",
            "_model_name": "HBoxModel",
            "_view_count": null,
            "_view_module": "@jupyter-widgets/controls",
            "_view_module_version": "1.5.0",
            "_view_name": "HBoxView",
            "box_style": "",
            "children": [
              "IPY_MODEL_6b2809f7f1184ad4a38f7ed586313e65",
              "IPY_MODEL_7ff9f3c4327d41d3bc5c4b6c9f1af453",
              "IPY_MODEL_8f6249645242463f81af1a46184a19e9"
            ],
            "layout": "IPY_MODEL_3594305af7a94ca797c0e8c4e43dde3b"
          }
        },
        "6b2809f7f1184ad4a38f7ed586313e65": {
          "model_module": "@jupyter-widgets/controls",
          "model_name": "HTMLModel",
          "model_module_version": "1.5.0",
          "state": {
            "_dom_classes": [],
            "_model_module": "@jupyter-widgets/controls",
            "_model_module_version": "1.5.0",
            "_model_name": "HTMLModel",
            "_view_count": null,
            "_view_module": "@jupyter-widgets/controls",
            "_view_module_version": "1.5.0",
            "_view_name": "HTMLView",
            "description": "",
            "description_tooltip": null,
            "layout": "IPY_MODEL_d446455ba3254fda98dbbcba1de14617",
            "placeholder": "​",
            "style": "IPY_MODEL_5f327802aaad45d19acbca25e92d193e",
            "value": "100%"
          }
        },
        "7ff9f3c4327d41d3bc5c4b6c9f1af453": {
          "model_module": "@jupyter-widgets/controls",
          "model_name": "FloatProgressModel",
          "model_module_version": "1.5.0",
          "state": {
            "_dom_classes": [],
            "_model_module": "@jupyter-widgets/controls",
            "_model_module_version": "1.5.0",
            "_model_name": "FloatProgressModel",
            "_view_count": null,
            "_view_module": "@jupyter-widgets/controls",
            "_view_module_version": "1.5.0",
            "_view_name": "ProgressView",
            "bar_style": "success",
            "description": "",
            "description_tooltip": null,
            "layout": "IPY_MODEL_c388f719b2194dcab0f5c25311b12f6e",
            "max": 752,
            "min": 0,
            "orientation": "horizontal",
            "style": "IPY_MODEL_9d0f3a76060f49dc8a03d3def76eaef5",
            "value": 752
          }
        },
        "8f6249645242463f81af1a46184a19e9": {
          "model_module": "@jupyter-widgets/controls",
          "model_name": "HTMLModel",
          "model_module_version": "1.5.0",
          "state": {
            "_dom_classes": [],
            "_model_module": "@jupyter-widgets/controls",
            "_model_module_version": "1.5.0",
            "_model_name": "HTMLModel",
            "_view_count": null,
            "_view_module": "@jupyter-widgets/controls",
            "_view_module_version": "1.5.0",
            "_view_name": "HTMLView",
            "description": "",
            "description_tooltip": null,
            "layout": "IPY_MODEL_3108a144a727479e80b30a52b5fe32bd",
            "placeholder": "​",
            "style": "IPY_MODEL_6430119edd9d4aa8b802020de5ee339a",
            "value": " 752/752 [01:34&lt;00:00,  5.32it/s]"
          }
        },
        "3594305af7a94ca797c0e8c4e43dde3b": {
          "model_module": "@jupyter-widgets/base",
          "model_name": "LayoutModel",
          "model_module_version": "1.2.0",
          "state": {
            "_model_module": "@jupyter-widgets/base",
            "_model_module_version": "1.2.0",
            "_model_name": "LayoutModel",
            "_view_count": null,
            "_view_module": "@jupyter-widgets/base",
            "_view_module_version": "1.2.0",
            "_view_name": "LayoutView",
            "align_content": null,
            "align_items": null,
            "align_self": null,
            "border": null,
            "bottom": null,
            "display": null,
            "flex": null,
            "flex_flow": null,
            "grid_area": null,
            "grid_auto_columns": null,
            "grid_auto_flow": null,
            "grid_auto_rows": null,
            "grid_column": null,
            "grid_gap": null,
            "grid_row": null,
            "grid_template_areas": null,
            "grid_template_columns": null,
            "grid_template_rows": null,
            "height": null,
            "justify_content": null,
            "justify_items": null,
            "left": null,
            "margin": null,
            "max_height": null,
            "max_width": null,
            "min_height": null,
            "min_width": null,
            "object_fit": null,
            "object_position": null,
            "order": null,
            "overflow": null,
            "overflow_x": null,
            "overflow_y": null,
            "padding": null,
            "right": null,
            "top": null,
            "visibility": null,
            "width": null
          }
        },
        "d446455ba3254fda98dbbcba1de14617": {
          "model_module": "@jupyter-widgets/base",
          "model_name": "LayoutModel",
          "model_module_version": "1.2.0",
          "state": {
            "_model_module": "@jupyter-widgets/base",
            "_model_module_version": "1.2.0",
            "_model_name": "LayoutModel",
            "_view_count": null,
            "_view_module": "@jupyter-widgets/base",
            "_view_module_version": "1.2.0",
            "_view_name": "LayoutView",
            "align_content": null,
            "align_items": null,
            "align_self": null,
            "border": null,
            "bottom": null,
            "display": null,
            "flex": null,
            "flex_flow": null,
            "grid_area": null,
            "grid_auto_columns": null,
            "grid_auto_flow": null,
            "grid_auto_rows": null,
            "grid_column": null,
            "grid_gap": null,
            "grid_row": null,
            "grid_template_areas": null,
            "grid_template_columns": null,
            "grid_template_rows": null,
            "height": null,
            "justify_content": null,
            "justify_items": null,
            "left": null,
            "margin": null,
            "max_height": null,
            "max_width": null,
            "min_height": null,
            "min_width": null,
            "object_fit": null,
            "object_position": null,
            "order": null,
            "overflow": null,
            "overflow_x": null,
            "overflow_y": null,
            "padding": null,
            "right": null,
            "top": null,
            "visibility": null,
            "width": null
          }
        },
        "5f327802aaad45d19acbca25e92d193e": {
          "model_module": "@jupyter-widgets/controls",
          "model_name": "DescriptionStyleModel",
          "model_module_version": "1.5.0",
          "state": {
            "_model_module": "@jupyter-widgets/controls",
            "_model_module_version": "1.5.0",
            "_model_name": "DescriptionStyleModel",
            "_view_count": null,
            "_view_module": "@jupyter-widgets/base",
            "_view_module_version": "1.2.0",
            "_view_name": "StyleView",
            "description_width": ""
          }
        },
        "c388f719b2194dcab0f5c25311b12f6e": {
          "model_module": "@jupyter-widgets/base",
          "model_name": "LayoutModel",
          "model_module_version": "1.2.0",
          "state": {
            "_model_module": "@jupyter-widgets/base",
            "_model_module_version": "1.2.0",
            "_model_name": "LayoutModel",
            "_view_count": null,
            "_view_module": "@jupyter-widgets/base",
            "_view_module_version": "1.2.0",
            "_view_name": "LayoutView",
            "align_content": null,
            "align_items": null,
            "align_self": null,
            "border": null,
            "bottom": null,
            "display": null,
            "flex": null,
            "flex_flow": null,
            "grid_area": null,
            "grid_auto_columns": null,
            "grid_auto_flow": null,
            "grid_auto_rows": null,
            "grid_column": null,
            "grid_gap": null,
            "grid_row": null,
            "grid_template_areas": null,
            "grid_template_columns": null,
            "grid_template_rows": null,
            "height": null,
            "justify_content": null,
            "justify_items": null,
            "left": null,
            "margin": null,
            "max_height": null,
            "max_width": null,
            "min_height": null,
            "min_width": null,
            "object_fit": null,
            "object_position": null,
            "order": null,
            "overflow": null,
            "overflow_x": null,
            "overflow_y": null,
            "padding": null,
            "right": null,
            "top": null,
            "visibility": null,
            "width": null
          }
        },
        "9d0f3a76060f49dc8a03d3def76eaef5": {
          "model_module": "@jupyter-widgets/controls",
          "model_name": "ProgressStyleModel",
          "model_module_version": "1.5.0",
          "state": {
            "_model_module": "@jupyter-widgets/controls",
            "_model_module_version": "1.5.0",
            "_model_name": "ProgressStyleModel",
            "_view_count": null,
            "_view_module": "@jupyter-widgets/base",
            "_view_module_version": "1.2.0",
            "_view_name": "StyleView",
            "bar_color": null,
            "description_width": ""
          }
        },
        "3108a144a727479e80b30a52b5fe32bd": {
          "model_module": "@jupyter-widgets/base",
          "model_name": "LayoutModel",
          "model_module_version": "1.2.0",
          "state": {
            "_model_module": "@jupyter-widgets/base",
            "_model_module_version": "1.2.0",
            "_model_name": "LayoutModel",
            "_view_count": null,
            "_view_module": "@jupyter-widgets/base",
            "_view_module_version": "1.2.0",
            "_view_name": "LayoutView",
            "align_content": null,
            "align_items": null,
            "align_self": null,
            "border": null,
            "bottom": null,
            "display": null,
            "flex": null,
            "flex_flow": null,
            "grid_area": null,
            "grid_auto_columns": null,
            "grid_auto_flow": null,
            "grid_auto_rows": null,
            "grid_column": null,
            "grid_gap": null,
            "grid_row": null,
            "grid_template_areas": null,
            "grid_template_columns": null,
            "grid_template_rows": null,
            "height": null,
            "justify_content": null,
            "justify_items": null,
            "left": null,
            "margin": null,
            "max_height": null,
            "max_width": null,
            "min_height": null,
            "min_width": null,
            "object_fit": null,
            "object_position": null,
            "order": null,
            "overflow": null,
            "overflow_x": null,
            "overflow_y": null,
            "padding": null,
            "right": null,
            "top": null,
            "visibility": null,
            "width": null
          }
        },
        "6430119edd9d4aa8b802020de5ee339a": {
          "model_module": "@jupyter-widgets/controls",
          "model_name": "DescriptionStyleModel",
          "model_module_version": "1.5.0",
          "state": {
            "_model_module": "@jupyter-widgets/controls",
            "_model_module_version": "1.5.0",
            "_model_name": "DescriptionStyleModel",
            "_view_count": null,
            "_view_module": "@jupyter-widgets/base",
            "_view_module_version": "1.2.0",
            "_view_name": "StyleView",
            "description_width": ""
          }
        },
        "4da87611cf8649a8b653b3758367237f": {
          "model_module": "@jupyter-widgets/controls",
          "model_name": "HBoxModel",
          "model_module_version": "1.5.0",
          "state": {
            "_dom_classes": [],
            "_model_module": "@jupyter-widgets/controls",
            "_model_module_version": "1.5.0",
            "_model_name": "HBoxModel",
            "_view_count": null,
            "_view_module": "@jupyter-widgets/controls",
            "_view_module_version": "1.5.0",
            "_view_name": "HBoxView",
            "box_style": "",
            "children": [
              "IPY_MODEL_9c2c0bdf47044137a49f4f37eb1a7d72",
              "IPY_MODEL_ba085d6aa9c1439c85f3cc09ff17b6de",
              "IPY_MODEL_b24c0c2aca9b4881905fd4c9e8bdb347"
            ],
            "layout": "IPY_MODEL_b4303f074036484c941b3f5c9f060bf7"
          }
        },
        "9c2c0bdf47044137a49f4f37eb1a7d72": {
          "model_module": "@jupyter-widgets/controls",
          "model_name": "HTMLModel",
          "model_module_version": "1.5.0",
          "state": {
            "_dom_classes": [],
            "_model_module": "@jupyter-widgets/controls",
            "_model_module_version": "1.5.0",
            "_model_name": "HTMLModel",
            "_view_count": null,
            "_view_module": "@jupyter-widgets/controls",
            "_view_module_version": "1.5.0",
            "_view_name": "HTMLView",
            "description": "",
            "description_tooltip": null,
            "layout": "IPY_MODEL_046b541f599240378ebe07449140070e",
            "placeholder": "​",
            "style": "IPY_MODEL_116f89341a774477aabd79d5ce2a232a",
            "value": "100%"
          }
        },
        "ba085d6aa9c1439c85f3cc09ff17b6de": {
          "model_module": "@jupyter-widgets/controls",
          "model_name": "FloatProgressModel",
          "model_module_version": "1.5.0",
          "state": {
            "_dom_classes": [],
            "_model_module": "@jupyter-widgets/controls",
            "_model_module_version": "1.5.0",
            "_model_name": "FloatProgressModel",
            "_view_count": null,
            "_view_module": "@jupyter-widgets/controls",
            "_view_module_version": "1.5.0",
            "_view_name": "ProgressView",
            "bar_style": "success",
            "description": "",
            "description_tooltip": null,
            "layout": "IPY_MODEL_22500fe1af8a4f4aa3933ac644d513f9",
            "max": 2549,
            "min": 0,
            "orientation": "horizontal",
            "style": "IPY_MODEL_26698a544f364b28a913ceac175de4cc",
            "value": 2549
          }
        },
        "b24c0c2aca9b4881905fd4c9e8bdb347": {
          "model_module": "@jupyter-widgets/controls",
          "model_name": "HTMLModel",
          "model_module_version": "1.5.0",
          "state": {
            "_dom_classes": [],
            "_model_module": "@jupyter-widgets/controls",
            "_model_module_version": "1.5.0",
            "_model_name": "HTMLModel",
            "_view_count": null,
            "_view_module": "@jupyter-widgets/controls",
            "_view_module_version": "1.5.0",
            "_view_name": "HTMLView",
            "description": "",
            "description_tooltip": null,
            "layout": "IPY_MODEL_f0abfcdd563a49cf8d864585a6e47ef6",
            "placeholder": "​",
            "style": "IPY_MODEL_e7ddf9846a594e57a7a48420f4c379c1",
            "value": " 2549/2549 [08:46&lt;00:00,  4.97it/s]"
          }
        },
        "b4303f074036484c941b3f5c9f060bf7": {
          "model_module": "@jupyter-widgets/base",
          "model_name": "LayoutModel",
          "model_module_version": "1.2.0",
          "state": {
            "_model_module": "@jupyter-widgets/base",
            "_model_module_version": "1.2.0",
            "_model_name": "LayoutModel",
            "_view_count": null,
            "_view_module": "@jupyter-widgets/base",
            "_view_module_version": "1.2.0",
            "_view_name": "LayoutView",
            "align_content": null,
            "align_items": null,
            "align_self": null,
            "border": null,
            "bottom": null,
            "display": null,
            "flex": null,
            "flex_flow": null,
            "grid_area": null,
            "grid_auto_columns": null,
            "grid_auto_flow": null,
            "grid_auto_rows": null,
            "grid_column": null,
            "grid_gap": null,
            "grid_row": null,
            "grid_template_areas": null,
            "grid_template_columns": null,
            "grid_template_rows": null,
            "height": null,
            "justify_content": null,
            "justify_items": null,
            "left": null,
            "margin": null,
            "max_height": null,
            "max_width": null,
            "min_height": null,
            "min_width": null,
            "object_fit": null,
            "object_position": null,
            "order": null,
            "overflow": null,
            "overflow_x": null,
            "overflow_y": null,
            "padding": null,
            "right": null,
            "top": null,
            "visibility": null,
            "width": null
          }
        },
        "046b541f599240378ebe07449140070e": {
          "model_module": "@jupyter-widgets/base",
          "model_name": "LayoutModel",
          "model_module_version": "1.2.0",
          "state": {
            "_model_module": "@jupyter-widgets/base",
            "_model_module_version": "1.2.0",
            "_model_name": "LayoutModel",
            "_view_count": null,
            "_view_module": "@jupyter-widgets/base",
            "_view_module_version": "1.2.0",
            "_view_name": "LayoutView",
            "align_content": null,
            "align_items": null,
            "align_self": null,
            "border": null,
            "bottom": null,
            "display": null,
            "flex": null,
            "flex_flow": null,
            "grid_area": null,
            "grid_auto_columns": null,
            "grid_auto_flow": null,
            "grid_auto_rows": null,
            "grid_column": null,
            "grid_gap": null,
            "grid_row": null,
            "grid_template_areas": null,
            "grid_template_columns": null,
            "grid_template_rows": null,
            "height": null,
            "justify_content": null,
            "justify_items": null,
            "left": null,
            "margin": null,
            "max_height": null,
            "max_width": null,
            "min_height": null,
            "min_width": null,
            "object_fit": null,
            "object_position": null,
            "order": null,
            "overflow": null,
            "overflow_x": null,
            "overflow_y": null,
            "padding": null,
            "right": null,
            "top": null,
            "visibility": null,
            "width": null
          }
        },
        "116f89341a774477aabd79d5ce2a232a": {
          "model_module": "@jupyter-widgets/controls",
          "model_name": "DescriptionStyleModel",
          "model_module_version": "1.5.0",
          "state": {
            "_model_module": "@jupyter-widgets/controls",
            "_model_module_version": "1.5.0",
            "_model_name": "DescriptionStyleModel",
            "_view_count": null,
            "_view_module": "@jupyter-widgets/base",
            "_view_module_version": "1.2.0",
            "_view_name": "StyleView",
            "description_width": ""
          }
        },
        "22500fe1af8a4f4aa3933ac644d513f9": {
          "model_module": "@jupyter-widgets/base",
          "model_name": "LayoutModel",
          "model_module_version": "1.2.0",
          "state": {
            "_model_module": "@jupyter-widgets/base",
            "_model_module_version": "1.2.0",
            "_model_name": "LayoutModel",
            "_view_count": null,
            "_view_module": "@jupyter-widgets/base",
            "_view_module_version": "1.2.0",
            "_view_name": "LayoutView",
            "align_content": null,
            "align_items": null,
            "align_self": null,
            "border": null,
            "bottom": null,
            "display": null,
            "flex": null,
            "flex_flow": null,
            "grid_area": null,
            "grid_auto_columns": null,
            "grid_auto_flow": null,
            "grid_auto_rows": null,
            "grid_column": null,
            "grid_gap": null,
            "grid_row": null,
            "grid_template_areas": null,
            "grid_template_columns": null,
            "grid_template_rows": null,
            "height": null,
            "justify_content": null,
            "justify_items": null,
            "left": null,
            "margin": null,
            "max_height": null,
            "max_width": null,
            "min_height": null,
            "min_width": null,
            "object_fit": null,
            "object_position": null,
            "order": null,
            "overflow": null,
            "overflow_x": null,
            "overflow_y": null,
            "padding": null,
            "right": null,
            "top": null,
            "visibility": null,
            "width": null
          }
        },
        "26698a544f364b28a913ceac175de4cc": {
          "model_module": "@jupyter-widgets/controls",
          "model_name": "ProgressStyleModel",
          "model_module_version": "1.5.0",
          "state": {
            "_model_module": "@jupyter-widgets/controls",
            "_model_module_version": "1.5.0",
            "_model_name": "ProgressStyleModel",
            "_view_count": null,
            "_view_module": "@jupyter-widgets/base",
            "_view_module_version": "1.2.0",
            "_view_name": "StyleView",
            "bar_color": null,
            "description_width": ""
          }
        },
        "f0abfcdd563a49cf8d864585a6e47ef6": {
          "model_module": "@jupyter-widgets/base",
          "model_name": "LayoutModel",
          "model_module_version": "1.2.0",
          "state": {
            "_model_module": "@jupyter-widgets/base",
            "_model_module_version": "1.2.0",
            "_model_name": "LayoutModel",
            "_view_count": null,
            "_view_module": "@jupyter-widgets/base",
            "_view_module_version": "1.2.0",
            "_view_name": "LayoutView",
            "align_content": null,
            "align_items": null,
            "align_self": null,
            "border": null,
            "bottom": null,
            "display": null,
            "flex": null,
            "flex_flow": null,
            "grid_area": null,
            "grid_auto_columns": null,
            "grid_auto_flow": null,
            "grid_auto_rows": null,
            "grid_column": null,
            "grid_gap": null,
            "grid_row": null,
            "grid_template_areas": null,
            "grid_template_columns": null,
            "grid_template_rows": null,
            "height": null,
            "justify_content": null,
            "justify_items": null,
            "left": null,
            "margin": null,
            "max_height": null,
            "max_width": null,
            "min_height": null,
            "min_width": null,
            "object_fit": null,
            "object_position": null,
            "order": null,
            "overflow": null,
            "overflow_x": null,
            "overflow_y": null,
            "padding": null,
            "right": null,
            "top": null,
            "visibility": null,
            "width": null
          }
        },
        "e7ddf9846a594e57a7a48420f4c379c1": {
          "model_module": "@jupyter-widgets/controls",
          "model_name": "DescriptionStyleModel",
          "model_module_version": "1.5.0",
          "state": {
            "_model_module": "@jupyter-widgets/controls",
            "_model_module_version": "1.5.0",
            "_model_name": "DescriptionStyleModel",
            "_view_count": null,
            "_view_module": "@jupyter-widgets/base",
            "_view_module_version": "1.2.0",
            "_view_name": "StyleView",
            "description_width": ""
          }
        },
        "196d963cf6cc4db799cd4a365690684d": {
          "model_module": "@jupyter-widgets/controls",
          "model_name": "HBoxModel",
          "model_module_version": "1.5.0",
          "state": {
            "_dom_classes": [],
            "_model_module": "@jupyter-widgets/controls",
            "_model_module_version": "1.5.0",
            "_model_name": "HBoxModel",
            "_view_count": null,
            "_view_module": "@jupyter-widgets/controls",
            "_view_module_version": "1.5.0",
            "_view_name": "HBoxView",
            "box_style": "",
            "children": [
              "IPY_MODEL_08cf7077c41540a98a135135a01d6b94",
              "IPY_MODEL_30d757570e7f4f9ebe909eb5aab6517b",
              "IPY_MODEL_4aeffc0bfe47499b8cbcc2cc9a73edeb"
            ],
            "layout": "IPY_MODEL_5e05ea89b8934127b59bf083b19dbc82"
          }
        },
        "08cf7077c41540a98a135135a01d6b94": {
          "model_module": "@jupyter-widgets/controls",
          "model_name": "HTMLModel",
          "model_module_version": "1.5.0",
          "state": {
            "_dom_classes": [],
            "_model_module": "@jupyter-widgets/controls",
            "_model_module_version": "1.5.0",
            "_model_name": "HTMLModel",
            "_view_count": null,
            "_view_module": "@jupyter-widgets/controls",
            "_view_module_version": "1.5.0",
            "_view_name": "HTMLView",
            "description": "",
            "description_tooltip": null,
            "layout": "IPY_MODEL_023fc1caa8cd4393b16456b4bd4d428e",
            "placeholder": "​",
            "style": "IPY_MODEL_2810459fdd4d482f8b08b15afb6f6d41",
            "value": "100%"
          }
        },
        "30d757570e7f4f9ebe909eb5aab6517b": {
          "model_module": "@jupyter-widgets/controls",
          "model_name": "FloatProgressModel",
          "model_module_version": "1.5.0",
          "state": {
            "_dom_classes": [],
            "_model_module": "@jupyter-widgets/controls",
            "_model_module_version": "1.5.0",
            "_model_name": "FloatProgressModel",
            "_view_count": null,
            "_view_module": "@jupyter-widgets/controls",
            "_view_module_version": "1.5.0",
            "_view_name": "ProgressView",
            "bar_style": "success",
            "description": "",
            "description_tooltip": null,
            "layout": "IPY_MODEL_fbeecd3ce17243a9a00af76e0181ef99",
            "max": 752,
            "min": 0,
            "orientation": "horizontal",
            "style": "IPY_MODEL_8f218422dc5c4aaf884a0a0d15c524ad",
            "value": 752
          }
        },
        "4aeffc0bfe47499b8cbcc2cc9a73edeb": {
          "model_module": "@jupyter-widgets/controls",
          "model_name": "HTMLModel",
          "model_module_version": "1.5.0",
          "state": {
            "_dom_classes": [],
            "_model_module": "@jupyter-widgets/controls",
            "_model_module_version": "1.5.0",
            "_model_name": "HTMLModel",
            "_view_count": null,
            "_view_module": "@jupyter-widgets/controls",
            "_view_module_version": "1.5.0",
            "_view_name": "HTMLView",
            "description": "",
            "description_tooltip": null,
            "layout": "IPY_MODEL_cc3b0b9346374e4a9f3106a50f42f05d",
            "placeholder": "​",
            "style": "IPY_MODEL_eb272eb487e0405d9da9b3ed7644b2e6",
            "value": " 752/752 [01:34&lt;00:00,  5.31it/s]"
          }
        },
        "5e05ea89b8934127b59bf083b19dbc82": {
          "model_module": "@jupyter-widgets/base",
          "model_name": "LayoutModel",
          "model_module_version": "1.2.0",
          "state": {
            "_model_module": "@jupyter-widgets/base",
            "_model_module_version": "1.2.0",
            "_model_name": "LayoutModel",
            "_view_count": null,
            "_view_module": "@jupyter-widgets/base",
            "_view_module_version": "1.2.0",
            "_view_name": "LayoutView",
            "align_content": null,
            "align_items": null,
            "align_self": null,
            "border": null,
            "bottom": null,
            "display": null,
            "flex": null,
            "flex_flow": null,
            "grid_area": null,
            "grid_auto_columns": null,
            "grid_auto_flow": null,
            "grid_auto_rows": null,
            "grid_column": null,
            "grid_gap": null,
            "grid_row": null,
            "grid_template_areas": null,
            "grid_template_columns": null,
            "grid_template_rows": null,
            "height": null,
            "justify_content": null,
            "justify_items": null,
            "left": null,
            "margin": null,
            "max_height": null,
            "max_width": null,
            "min_height": null,
            "min_width": null,
            "object_fit": null,
            "object_position": null,
            "order": null,
            "overflow": null,
            "overflow_x": null,
            "overflow_y": null,
            "padding": null,
            "right": null,
            "top": null,
            "visibility": null,
            "width": null
          }
        },
        "023fc1caa8cd4393b16456b4bd4d428e": {
          "model_module": "@jupyter-widgets/base",
          "model_name": "LayoutModel",
          "model_module_version": "1.2.0",
          "state": {
            "_model_module": "@jupyter-widgets/base",
            "_model_module_version": "1.2.0",
            "_model_name": "LayoutModel",
            "_view_count": null,
            "_view_module": "@jupyter-widgets/base",
            "_view_module_version": "1.2.0",
            "_view_name": "LayoutView",
            "align_content": null,
            "align_items": null,
            "align_self": null,
            "border": null,
            "bottom": null,
            "display": null,
            "flex": null,
            "flex_flow": null,
            "grid_area": null,
            "grid_auto_columns": null,
            "grid_auto_flow": null,
            "grid_auto_rows": null,
            "grid_column": null,
            "grid_gap": null,
            "grid_row": null,
            "grid_template_areas": null,
            "grid_template_columns": null,
            "grid_template_rows": null,
            "height": null,
            "justify_content": null,
            "justify_items": null,
            "left": null,
            "margin": null,
            "max_height": null,
            "max_width": null,
            "min_height": null,
            "min_width": null,
            "object_fit": null,
            "object_position": null,
            "order": null,
            "overflow": null,
            "overflow_x": null,
            "overflow_y": null,
            "padding": null,
            "right": null,
            "top": null,
            "visibility": null,
            "width": null
          }
        },
        "2810459fdd4d482f8b08b15afb6f6d41": {
          "model_module": "@jupyter-widgets/controls",
          "model_name": "DescriptionStyleModel",
          "model_module_version": "1.5.0",
          "state": {
            "_model_module": "@jupyter-widgets/controls",
            "_model_module_version": "1.5.0",
            "_model_name": "DescriptionStyleModel",
            "_view_count": null,
            "_view_module": "@jupyter-widgets/base",
            "_view_module_version": "1.2.0",
            "_view_name": "StyleView",
            "description_width": ""
          }
        },
        "fbeecd3ce17243a9a00af76e0181ef99": {
          "model_module": "@jupyter-widgets/base",
          "model_name": "LayoutModel",
          "model_module_version": "1.2.0",
          "state": {
            "_model_module": "@jupyter-widgets/base",
            "_model_module_version": "1.2.0",
            "_model_name": "LayoutModel",
            "_view_count": null,
            "_view_module": "@jupyter-widgets/base",
            "_view_module_version": "1.2.0",
            "_view_name": "LayoutView",
            "align_content": null,
            "align_items": null,
            "align_self": null,
            "border": null,
            "bottom": null,
            "display": null,
            "flex": null,
            "flex_flow": null,
            "grid_area": null,
            "grid_auto_columns": null,
            "grid_auto_flow": null,
            "grid_auto_rows": null,
            "grid_column": null,
            "grid_gap": null,
            "grid_row": null,
            "grid_template_areas": null,
            "grid_template_columns": null,
            "grid_template_rows": null,
            "height": null,
            "justify_content": null,
            "justify_items": null,
            "left": null,
            "margin": null,
            "max_height": null,
            "max_width": null,
            "min_height": null,
            "min_width": null,
            "object_fit": null,
            "object_position": null,
            "order": null,
            "overflow": null,
            "overflow_x": null,
            "overflow_y": null,
            "padding": null,
            "right": null,
            "top": null,
            "visibility": null,
            "width": null
          }
        },
        "8f218422dc5c4aaf884a0a0d15c524ad": {
          "model_module": "@jupyter-widgets/controls",
          "model_name": "ProgressStyleModel",
          "model_module_version": "1.5.0",
          "state": {
            "_model_module": "@jupyter-widgets/controls",
            "_model_module_version": "1.5.0",
            "_model_name": "ProgressStyleModel",
            "_view_count": null,
            "_view_module": "@jupyter-widgets/base",
            "_view_module_version": "1.2.0",
            "_view_name": "StyleView",
            "bar_color": null,
            "description_width": ""
          }
        },
        "cc3b0b9346374e4a9f3106a50f42f05d": {
          "model_module": "@jupyter-widgets/base",
          "model_name": "LayoutModel",
          "model_module_version": "1.2.0",
          "state": {
            "_model_module": "@jupyter-widgets/base",
            "_model_module_version": "1.2.0",
            "_model_name": "LayoutModel",
            "_view_count": null,
            "_view_module": "@jupyter-widgets/base",
            "_view_module_version": "1.2.0",
            "_view_name": "LayoutView",
            "align_content": null,
            "align_items": null,
            "align_self": null,
            "border": null,
            "bottom": null,
            "display": null,
            "flex": null,
            "flex_flow": null,
            "grid_area": null,
            "grid_auto_columns": null,
            "grid_auto_flow": null,
            "grid_auto_rows": null,
            "grid_column": null,
            "grid_gap": null,
            "grid_row": null,
            "grid_template_areas": null,
            "grid_template_columns": null,
            "grid_template_rows": null,
            "height": null,
            "justify_content": null,
            "justify_items": null,
            "left": null,
            "margin": null,
            "max_height": null,
            "max_width": null,
            "min_height": null,
            "min_width": null,
            "object_fit": null,
            "object_position": null,
            "order": null,
            "overflow": null,
            "overflow_x": null,
            "overflow_y": null,
            "padding": null,
            "right": null,
            "top": null,
            "visibility": null,
            "width": null
          }
        },
        "eb272eb487e0405d9da9b3ed7644b2e6": {
          "model_module": "@jupyter-widgets/controls",
          "model_name": "DescriptionStyleModel",
          "model_module_version": "1.5.0",
          "state": {
            "_model_module": "@jupyter-widgets/controls",
            "_model_module_version": "1.5.0",
            "_model_name": "DescriptionStyleModel",
            "_view_count": null,
            "_view_module": "@jupyter-widgets/base",
            "_view_module_version": "1.2.0",
            "_view_name": "StyleView",
            "description_width": ""
          }
        },
        "1bd832c42c374bea83a994b5d0f8573d": {
          "model_module": "@jupyter-widgets/controls",
          "model_name": "HBoxModel",
          "model_module_version": "1.5.0",
          "state": {
            "_dom_classes": [],
            "_model_module": "@jupyter-widgets/controls",
            "_model_module_version": "1.5.0",
            "_model_name": "HBoxModel",
            "_view_count": null,
            "_view_module": "@jupyter-widgets/controls",
            "_view_module_version": "1.5.0",
            "_view_name": "HBoxView",
            "box_style": "",
            "children": [
              "IPY_MODEL_cdbb969b35674f3780637ab9cfe6f0b5",
              "IPY_MODEL_b1e87c1d7282418bb4f3c90b82e0a4de",
              "IPY_MODEL_9f7a1b91fd28498d941456a3270caa38"
            ],
            "layout": "IPY_MODEL_7f8721599aa843a2ab2c8e54aeacd3e7"
          }
        },
        "cdbb969b35674f3780637ab9cfe6f0b5": {
          "model_module": "@jupyter-widgets/controls",
          "model_name": "HTMLModel",
          "model_module_version": "1.5.0",
          "state": {
            "_dom_classes": [],
            "_model_module": "@jupyter-widgets/controls",
            "_model_module_version": "1.5.0",
            "_model_name": "HTMLModel",
            "_view_count": null,
            "_view_module": "@jupyter-widgets/controls",
            "_view_module_version": "1.5.0",
            "_view_name": "HTMLView",
            "description": "",
            "description_tooltip": null,
            "layout": "IPY_MODEL_87b1a22d6f504839875684bfb8b43d37",
            "placeholder": "​",
            "style": "IPY_MODEL_8c3fab315ba843bc9c50555046e25a8a",
            "value": "100%"
          }
        },
        "b1e87c1d7282418bb4f3c90b82e0a4de": {
          "model_module": "@jupyter-widgets/controls",
          "model_name": "FloatProgressModel",
          "model_module_version": "1.5.0",
          "state": {
            "_dom_classes": [],
            "_model_module": "@jupyter-widgets/controls",
            "_model_module_version": "1.5.0",
            "_model_name": "FloatProgressModel",
            "_view_count": null,
            "_view_module": "@jupyter-widgets/controls",
            "_view_module_version": "1.5.0",
            "_view_name": "ProgressView",
            "bar_style": "success",
            "description": "",
            "description_tooltip": null,
            "layout": "IPY_MODEL_de2708f1c46946c38d9589e479dae8c5",
            "max": 2549,
            "min": 0,
            "orientation": "horizontal",
            "style": "IPY_MODEL_58ca4a381a984e89be9188f02ba9f0ac",
            "value": 2549
          }
        },
        "9f7a1b91fd28498d941456a3270caa38": {
          "model_module": "@jupyter-widgets/controls",
          "model_name": "HTMLModel",
          "model_module_version": "1.5.0",
          "state": {
            "_dom_classes": [],
            "_model_module": "@jupyter-widgets/controls",
            "_model_module_version": "1.5.0",
            "_model_name": "HTMLModel",
            "_view_count": null,
            "_view_module": "@jupyter-widgets/controls",
            "_view_module_version": "1.5.0",
            "_view_name": "HTMLView",
            "description": "",
            "description_tooltip": null,
            "layout": "IPY_MODEL_f883b22f60f342759cfeefdf1b7c9ef9",
            "placeholder": "​",
            "style": "IPY_MODEL_82414063dd0d42eea6295323d63aacac",
            "value": " 2549/2549 [08:46&lt;00:00,  4.98it/s]"
          }
        },
        "7f8721599aa843a2ab2c8e54aeacd3e7": {
          "model_module": "@jupyter-widgets/base",
          "model_name": "LayoutModel",
          "model_module_version": "1.2.0",
          "state": {
            "_model_module": "@jupyter-widgets/base",
            "_model_module_version": "1.2.0",
            "_model_name": "LayoutModel",
            "_view_count": null,
            "_view_module": "@jupyter-widgets/base",
            "_view_module_version": "1.2.0",
            "_view_name": "LayoutView",
            "align_content": null,
            "align_items": null,
            "align_self": null,
            "border": null,
            "bottom": null,
            "display": null,
            "flex": null,
            "flex_flow": null,
            "grid_area": null,
            "grid_auto_columns": null,
            "grid_auto_flow": null,
            "grid_auto_rows": null,
            "grid_column": null,
            "grid_gap": null,
            "grid_row": null,
            "grid_template_areas": null,
            "grid_template_columns": null,
            "grid_template_rows": null,
            "height": null,
            "justify_content": null,
            "justify_items": null,
            "left": null,
            "margin": null,
            "max_height": null,
            "max_width": null,
            "min_height": null,
            "min_width": null,
            "object_fit": null,
            "object_position": null,
            "order": null,
            "overflow": null,
            "overflow_x": null,
            "overflow_y": null,
            "padding": null,
            "right": null,
            "top": null,
            "visibility": null,
            "width": null
          }
        },
        "87b1a22d6f504839875684bfb8b43d37": {
          "model_module": "@jupyter-widgets/base",
          "model_name": "LayoutModel",
          "model_module_version": "1.2.0",
          "state": {
            "_model_module": "@jupyter-widgets/base",
            "_model_module_version": "1.2.0",
            "_model_name": "LayoutModel",
            "_view_count": null,
            "_view_module": "@jupyter-widgets/base",
            "_view_module_version": "1.2.0",
            "_view_name": "LayoutView",
            "align_content": null,
            "align_items": null,
            "align_self": null,
            "border": null,
            "bottom": null,
            "display": null,
            "flex": null,
            "flex_flow": null,
            "grid_area": null,
            "grid_auto_columns": null,
            "grid_auto_flow": null,
            "grid_auto_rows": null,
            "grid_column": null,
            "grid_gap": null,
            "grid_row": null,
            "grid_template_areas": null,
            "grid_template_columns": null,
            "grid_template_rows": null,
            "height": null,
            "justify_content": null,
            "justify_items": null,
            "left": null,
            "margin": null,
            "max_height": null,
            "max_width": null,
            "min_height": null,
            "min_width": null,
            "object_fit": null,
            "object_position": null,
            "order": null,
            "overflow": null,
            "overflow_x": null,
            "overflow_y": null,
            "padding": null,
            "right": null,
            "top": null,
            "visibility": null,
            "width": null
          }
        },
        "8c3fab315ba843bc9c50555046e25a8a": {
          "model_module": "@jupyter-widgets/controls",
          "model_name": "DescriptionStyleModel",
          "model_module_version": "1.5.0",
          "state": {
            "_model_module": "@jupyter-widgets/controls",
            "_model_module_version": "1.5.0",
            "_model_name": "DescriptionStyleModel",
            "_view_count": null,
            "_view_module": "@jupyter-widgets/base",
            "_view_module_version": "1.2.0",
            "_view_name": "StyleView",
            "description_width": ""
          }
        },
        "de2708f1c46946c38d9589e479dae8c5": {
          "model_module": "@jupyter-widgets/base",
          "model_name": "LayoutModel",
          "model_module_version": "1.2.0",
          "state": {
            "_model_module": "@jupyter-widgets/base",
            "_model_module_version": "1.2.0",
            "_model_name": "LayoutModel",
            "_view_count": null,
            "_view_module": "@jupyter-widgets/base",
            "_view_module_version": "1.2.0",
            "_view_name": "LayoutView",
            "align_content": null,
            "align_items": null,
            "align_self": null,
            "border": null,
            "bottom": null,
            "display": null,
            "flex": null,
            "flex_flow": null,
            "grid_area": null,
            "grid_auto_columns": null,
            "grid_auto_flow": null,
            "grid_auto_rows": null,
            "grid_column": null,
            "grid_gap": null,
            "grid_row": null,
            "grid_template_areas": null,
            "grid_template_columns": null,
            "grid_template_rows": null,
            "height": null,
            "justify_content": null,
            "justify_items": null,
            "left": null,
            "margin": null,
            "max_height": null,
            "max_width": null,
            "min_height": null,
            "min_width": null,
            "object_fit": null,
            "object_position": null,
            "order": null,
            "overflow": null,
            "overflow_x": null,
            "overflow_y": null,
            "padding": null,
            "right": null,
            "top": null,
            "visibility": null,
            "width": null
          }
        },
        "58ca4a381a984e89be9188f02ba9f0ac": {
          "model_module": "@jupyter-widgets/controls",
          "model_name": "ProgressStyleModel",
          "model_module_version": "1.5.0",
          "state": {
            "_model_module": "@jupyter-widgets/controls",
            "_model_module_version": "1.5.0",
            "_model_name": "ProgressStyleModel",
            "_view_count": null,
            "_view_module": "@jupyter-widgets/base",
            "_view_module_version": "1.2.0",
            "_view_name": "StyleView",
            "bar_color": null,
            "description_width": ""
          }
        },
        "f883b22f60f342759cfeefdf1b7c9ef9": {
          "model_module": "@jupyter-widgets/base",
          "model_name": "LayoutModel",
          "model_module_version": "1.2.0",
          "state": {
            "_model_module": "@jupyter-widgets/base",
            "_model_module_version": "1.2.0",
            "_model_name": "LayoutModel",
            "_view_count": null,
            "_view_module": "@jupyter-widgets/base",
            "_view_module_version": "1.2.0",
            "_view_name": "LayoutView",
            "align_content": null,
            "align_items": null,
            "align_self": null,
            "border": null,
            "bottom": null,
            "display": null,
            "flex": null,
            "flex_flow": null,
            "grid_area": null,
            "grid_auto_columns": null,
            "grid_auto_flow": null,
            "grid_auto_rows": null,
            "grid_column": null,
            "grid_gap": null,
            "grid_row": null,
            "grid_template_areas": null,
            "grid_template_columns": null,
            "grid_template_rows": null,
            "height": null,
            "justify_content": null,
            "justify_items": null,
            "left": null,
            "margin": null,
            "max_height": null,
            "max_width": null,
            "min_height": null,
            "min_width": null,
            "object_fit": null,
            "object_position": null,
            "order": null,
            "overflow": null,
            "overflow_x": null,
            "overflow_y": null,
            "padding": null,
            "right": null,
            "top": null,
            "visibility": null,
            "width": null
          }
        },
        "82414063dd0d42eea6295323d63aacac": {
          "model_module": "@jupyter-widgets/controls",
          "model_name": "DescriptionStyleModel",
          "model_module_version": "1.5.0",
          "state": {
            "_model_module": "@jupyter-widgets/controls",
            "_model_module_version": "1.5.0",
            "_model_name": "DescriptionStyleModel",
            "_view_count": null,
            "_view_module": "@jupyter-widgets/base",
            "_view_module_version": "1.2.0",
            "_view_name": "StyleView",
            "description_width": ""
          }
        },
        "0c8d45526e8243729374af06b2b6d502": {
          "model_module": "@jupyter-widgets/controls",
          "model_name": "HBoxModel",
          "model_module_version": "1.5.0",
          "state": {
            "_dom_classes": [],
            "_model_module": "@jupyter-widgets/controls",
            "_model_module_version": "1.5.0",
            "_model_name": "HBoxModel",
            "_view_count": null,
            "_view_module": "@jupyter-widgets/controls",
            "_view_module_version": "1.5.0",
            "_view_name": "HBoxView",
            "box_style": "",
            "children": [
              "IPY_MODEL_b947893641a94cbb81ddbaeefc6b7ecf",
              "IPY_MODEL_881f216c81884e328a589f3472f9b390",
              "IPY_MODEL_3a2f1517c0ae4761ae2cf61a5d58c4b7"
            ],
            "layout": "IPY_MODEL_e07ed76faaa04e128e350cbcee41b43a"
          }
        },
        "b947893641a94cbb81ddbaeefc6b7ecf": {
          "model_module": "@jupyter-widgets/controls",
          "model_name": "HTMLModel",
          "model_module_version": "1.5.0",
          "state": {
            "_dom_classes": [],
            "_model_module": "@jupyter-widgets/controls",
            "_model_module_version": "1.5.0",
            "_model_name": "HTMLModel",
            "_view_count": null,
            "_view_module": "@jupyter-widgets/controls",
            "_view_module_version": "1.5.0",
            "_view_name": "HTMLView",
            "description": "",
            "description_tooltip": null,
            "layout": "IPY_MODEL_2d57d4f2ae5f4bd5957f48bd3d9b7b03",
            "placeholder": "​",
            "style": "IPY_MODEL_647b743cc7434567b5110447369c774b",
            "value": "100%"
          }
        },
        "881f216c81884e328a589f3472f9b390": {
          "model_module": "@jupyter-widgets/controls",
          "model_name": "FloatProgressModel",
          "model_module_version": "1.5.0",
          "state": {
            "_dom_classes": [],
            "_model_module": "@jupyter-widgets/controls",
            "_model_module_version": "1.5.0",
            "_model_name": "FloatProgressModel",
            "_view_count": null,
            "_view_module": "@jupyter-widgets/controls",
            "_view_module_version": "1.5.0",
            "_view_name": "ProgressView",
            "bar_style": "success",
            "description": "",
            "description_tooltip": null,
            "layout": "IPY_MODEL_9d4a61e5f2e343d497b2f54b4cf6891f",
            "max": 752,
            "min": 0,
            "orientation": "horizontal",
            "style": "IPY_MODEL_3289779771ce43138de135254291c3fb",
            "value": 752
          }
        },
        "3a2f1517c0ae4761ae2cf61a5d58c4b7": {
          "model_module": "@jupyter-widgets/controls",
          "model_name": "HTMLModel",
          "model_module_version": "1.5.0",
          "state": {
            "_dom_classes": [],
            "_model_module": "@jupyter-widgets/controls",
            "_model_module_version": "1.5.0",
            "_model_name": "HTMLModel",
            "_view_count": null,
            "_view_module": "@jupyter-widgets/controls",
            "_view_module_version": "1.5.0",
            "_view_name": "HTMLView",
            "description": "",
            "description_tooltip": null,
            "layout": "IPY_MODEL_6d9cefeb5c9a4f4396ceddb671469226",
            "placeholder": "​",
            "style": "IPY_MODEL_69fac81760ed4be8913b5ce6b4112474",
            "value": " 752/752 [01:34&lt;00:00,  5.30it/s]"
          }
        },
        "e07ed76faaa04e128e350cbcee41b43a": {
          "model_module": "@jupyter-widgets/base",
          "model_name": "LayoutModel",
          "model_module_version": "1.2.0",
          "state": {
            "_model_module": "@jupyter-widgets/base",
            "_model_module_version": "1.2.0",
            "_model_name": "LayoutModel",
            "_view_count": null,
            "_view_module": "@jupyter-widgets/base",
            "_view_module_version": "1.2.0",
            "_view_name": "LayoutView",
            "align_content": null,
            "align_items": null,
            "align_self": null,
            "border": null,
            "bottom": null,
            "display": null,
            "flex": null,
            "flex_flow": null,
            "grid_area": null,
            "grid_auto_columns": null,
            "grid_auto_flow": null,
            "grid_auto_rows": null,
            "grid_column": null,
            "grid_gap": null,
            "grid_row": null,
            "grid_template_areas": null,
            "grid_template_columns": null,
            "grid_template_rows": null,
            "height": null,
            "justify_content": null,
            "justify_items": null,
            "left": null,
            "margin": null,
            "max_height": null,
            "max_width": null,
            "min_height": null,
            "min_width": null,
            "object_fit": null,
            "object_position": null,
            "order": null,
            "overflow": null,
            "overflow_x": null,
            "overflow_y": null,
            "padding": null,
            "right": null,
            "top": null,
            "visibility": null,
            "width": null
          }
        },
        "2d57d4f2ae5f4bd5957f48bd3d9b7b03": {
          "model_module": "@jupyter-widgets/base",
          "model_name": "LayoutModel",
          "model_module_version": "1.2.0",
          "state": {
            "_model_module": "@jupyter-widgets/base",
            "_model_module_version": "1.2.0",
            "_model_name": "LayoutModel",
            "_view_count": null,
            "_view_module": "@jupyter-widgets/base",
            "_view_module_version": "1.2.0",
            "_view_name": "LayoutView",
            "align_content": null,
            "align_items": null,
            "align_self": null,
            "border": null,
            "bottom": null,
            "display": null,
            "flex": null,
            "flex_flow": null,
            "grid_area": null,
            "grid_auto_columns": null,
            "grid_auto_flow": null,
            "grid_auto_rows": null,
            "grid_column": null,
            "grid_gap": null,
            "grid_row": null,
            "grid_template_areas": null,
            "grid_template_columns": null,
            "grid_template_rows": null,
            "height": null,
            "justify_content": null,
            "justify_items": null,
            "left": null,
            "margin": null,
            "max_height": null,
            "max_width": null,
            "min_height": null,
            "min_width": null,
            "object_fit": null,
            "object_position": null,
            "order": null,
            "overflow": null,
            "overflow_x": null,
            "overflow_y": null,
            "padding": null,
            "right": null,
            "top": null,
            "visibility": null,
            "width": null
          }
        },
        "647b743cc7434567b5110447369c774b": {
          "model_module": "@jupyter-widgets/controls",
          "model_name": "DescriptionStyleModel",
          "model_module_version": "1.5.0",
          "state": {
            "_model_module": "@jupyter-widgets/controls",
            "_model_module_version": "1.5.0",
            "_model_name": "DescriptionStyleModel",
            "_view_count": null,
            "_view_module": "@jupyter-widgets/base",
            "_view_module_version": "1.2.0",
            "_view_name": "StyleView",
            "description_width": ""
          }
        },
        "9d4a61e5f2e343d497b2f54b4cf6891f": {
          "model_module": "@jupyter-widgets/base",
          "model_name": "LayoutModel",
          "model_module_version": "1.2.0",
          "state": {
            "_model_module": "@jupyter-widgets/base",
            "_model_module_version": "1.2.0",
            "_model_name": "LayoutModel",
            "_view_count": null,
            "_view_module": "@jupyter-widgets/base",
            "_view_module_version": "1.2.0",
            "_view_name": "LayoutView",
            "align_content": null,
            "align_items": null,
            "align_self": null,
            "border": null,
            "bottom": null,
            "display": null,
            "flex": null,
            "flex_flow": null,
            "grid_area": null,
            "grid_auto_columns": null,
            "grid_auto_flow": null,
            "grid_auto_rows": null,
            "grid_column": null,
            "grid_gap": null,
            "grid_row": null,
            "grid_template_areas": null,
            "grid_template_columns": null,
            "grid_template_rows": null,
            "height": null,
            "justify_content": null,
            "justify_items": null,
            "left": null,
            "margin": null,
            "max_height": null,
            "max_width": null,
            "min_height": null,
            "min_width": null,
            "object_fit": null,
            "object_position": null,
            "order": null,
            "overflow": null,
            "overflow_x": null,
            "overflow_y": null,
            "padding": null,
            "right": null,
            "top": null,
            "visibility": null,
            "width": null
          }
        },
        "3289779771ce43138de135254291c3fb": {
          "model_module": "@jupyter-widgets/controls",
          "model_name": "ProgressStyleModel",
          "model_module_version": "1.5.0",
          "state": {
            "_model_module": "@jupyter-widgets/controls",
            "_model_module_version": "1.5.0",
            "_model_name": "ProgressStyleModel",
            "_view_count": null,
            "_view_module": "@jupyter-widgets/base",
            "_view_module_version": "1.2.0",
            "_view_name": "StyleView",
            "bar_color": null,
            "description_width": ""
          }
        },
        "6d9cefeb5c9a4f4396ceddb671469226": {
          "model_module": "@jupyter-widgets/base",
          "model_name": "LayoutModel",
          "model_module_version": "1.2.0",
          "state": {
            "_model_module": "@jupyter-widgets/base",
            "_model_module_version": "1.2.0",
            "_model_name": "LayoutModel",
            "_view_count": null,
            "_view_module": "@jupyter-widgets/base",
            "_view_module_version": "1.2.0",
            "_view_name": "LayoutView",
            "align_content": null,
            "align_items": null,
            "align_self": null,
            "border": null,
            "bottom": null,
            "display": null,
            "flex": null,
            "flex_flow": null,
            "grid_area": null,
            "grid_auto_columns": null,
            "grid_auto_flow": null,
            "grid_auto_rows": null,
            "grid_column": null,
            "grid_gap": null,
            "grid_row": null,
            "grid_template_areas": null,
            "grid_template_columns": null,
            "grid_template_rows": null,
            "height": null,
            "justify_content": null,
            "justify_items": null,
            "left": null,
            "margin": null,
            "max_height": null,
            "max_width": null,
            "min_height": null,
            "min_width": null,
            "object_fit": null,
            "object_position": null,
            "order": null,
            "overflow": null,
            "overflow_x": null,
            "overflow_y": null,
            "padding": null,
            "right": null,
            "top": null,
            "visibility": null,
            "width": null
          }
        },
        "69fac81760ed4be8913b5ce6b4112474": {
          "model_module": "@jupyter-widgets/controls",
          "model_name": "DescriptionStyleModel",
          "model_module_version": "1.5.0",
          "state": {
            "_model_module": "@jupyter-widgets/controls",
            "_model_module_version": "1.5.0",
            "_model_name": "DescriptionStyleModel",
            "_view_count": null,
            "_view_module": "@jupyter-widgets/base",
            "_view_module_version": "1.2.0",
            "_view_name": "StyleView",
            "description_width": ""
          }
        },
        "e2c5763607e54c87bb20433c5da58d97": {
          "model_module": "@jupyter-widgets/controls",
          "model_name": "HBoxModel",
          "model_module_version": "1.5.0",
          "state": {
            "_dom_classes": [],
            "_model_module": "@jupyter-widgets/controls",
            "_model_module_version": "1.5.0",
            "_model_name": "HBoxModel",
            "_view_count": null,
            "_view_module": "@jupyter-widgets/controls",
            "_view_module_version": "1.5.0",
            "_view_name": "HBoxView",
            "box_style": "",
            "children": [
              "IPY_MODEL_2c9dfe7257744176aeb1f361288b5df8",
              "IPY_MODEL_3fdb269d63024965972b1bac268d918e",
              "IPY_MODEL_561cfa5e1fc540fe829641b9de412816"
            ],
            "layout": "IPY_MODEL_7bf7f23c0f2246c893cc459e48f3ad87"
          }
        },
        "2c9dfe7257744176aeb1f361288b5df8": {
          "model_module": "@jupyter-widgets/controls",
          "model_name": "HTMLModel",
          "model_module_version": "1.5.0",
          "state": {
            "_dom_classes": [],
            "_model_module": "@jupyter-widgets/controls",
            "_model_module_version": "1.5.0",
            "_model_name": "HTMLModel",
            "_view_count": null,
            "_view_module": "@jupyter-widgets/controls",
            "_view_module_version": "1.5.0",
            "_view_name": "HTMLView",
            "description": "",
            "description_tooltip": null,
            "layout": "IPY_MODEL_cd9490478ded4216b35f3241d6a8a15d",
            "placeholder": "​",
            "style": "IPY_MODEL_21ab38fe16424d52b6ef0a05a334aff7",
            "value": "100%"
          }
        },
        "3fdb269d63024965972b1bac268d918e": {
          "model_module": "@jupyter-widgets/controls",
          "model_name": "FloatProgressModel",
          "model_module_version": "1.5.0",
          "state": {
            "_dom_classes": [],
            "_model_module": "@jupyter-widgets/controls",
            "_model_module_version": "1.5.0",
            "_model_name": "FloatProgressModel",
            "_view_count": null,
            "_view_module": "@jupyter-widgets/controls",
            "_view_module_version": "1.5.0",
            "_view_name": "ProgressView",
            "bar_style": "success",
            "description": "",
            "description_tooltip": null,
            "layout": "IPY_MODEL_8f848260e6684bc081f4afc08eedecfd",
            "max": 2549,
            "min": 0,
            "orientation": "horizontal",
            "style": "IPY_MODEL_4b6bee99374a4107a7095d385bb81485",
            "value": 2549
          }
        },
        "561cfa5e1fc540fe829641b9de412816": {
          "model_module": "@jupyter-widgets/controls",
          "model_name": "HTMLModel",
          "model_module_version": "1.5.0",
          "state": {
            "_dom_classes": [],
            "_model_module": "@jupyter-widgets/controls",
            "_model_module_version": "1.5.0",
            "_model_name": "HTMLModel",
            "_view_count": null,
            "_view_module": "@jupyter-widgets/controls",
            "_view_module_version": "1.5.0",
            "_view_name": "HTMLView",
            "description": "",
            "description_tooltip": null,
            "layout": "IPY_MODEL_a71615893a754ab0b19107b4fdff0c7e",
            "placeholder": "​",
            "style": "IPY_MODEL_e1580ec14ef844dc9b8db0cd5122f4f3",
            "value": " 2549/2549 [08:46&lt;00:00,  4.96it/s]"
          }
        },
        "7bf7f23c0f2246c893cc459e48f3ad87": {
          "model_module": "@jupyter-widgets/base",
          "model_name": "LayoutModel",
          "model_module_version": "1.2.0",
          "state": {
            "_model_module": "@jupyter-widgets/base",
            "_model_module_version": "1.2.0",
            "_model_name": "LayoutModel",
            "_view_count": null,
            "_view_module": "@jupyter-widgets/base",
            "_view_module_version": "1.2.0",
            "_view_name": "LayoutView",
            "align_content": null,
            "align_items": null,
            "align_self": null,
            "border": null,
            "bottom": null,
            "display": null,
            "flex": null,
            "flex_flow": null,
            "grid_area": null,
            "grid_auto_columns": null,
            "grid_auto_flow": null,
            "grid_auto_rows": null,
            "grid_column": null,
            "grid_gap": null,
            "grid_row": null,
            "grid_template_areas": null,
            "grid_template_columns": null,
            "grid_template_rows": null,
            "height": null,
            "justify_content": null,
            "justify_items": null,
            "left": null,
            "margin": null,
            "max_height": null,
            "max_width": null,
            "min_height": null,
            "min_width": null,
            "object_fit": null,
            "object_position": null,
            "order": null,
            "overflow": null,
            "overflow_x": null,
            "overflow_y": null,
            "padding": null,
            "right": null,
            "top": null,
            "visibility": null,
            "width": null
          }
        },
        "cd9490478ded4216b35f3241d6a8a15d": {
          "model_module": "@jupyter-widgets/base",
          "model_name": "LayoutModel",
          "model_module_version": "1.2.0",
          "state": {
            "_model_module": "@jupyter-widgets/base",
            "_model_module_version": "1.2.0",
            "_model_name": "LayoutModel",
            "_view_count": null,
            "_view_module": "@jupyter-widgets/base",
            "_view_module_version": "1.2.0",
            "_view_name": "LayoutView",
            "align_content": null,
            "align_items": null,
            "align_self": null,
            "border": null,
            "bottom": null,
            "display": null,
            "flex": null,
            "flex_flow": null,
            "grid_area": null,
            "grid_auto_columns": null,
            "grid_auto_flow": null,
            "grid_auto_rows": null,
            "grid_column": null,
            "grid_gap": null,
            "grid_row": null,
            "grid_template_areas": null,
            "grid_template_columns": null,
            "grid_template_rows": null,
            "height": null,
            "justify_content": null,
            "justify_items": null,
            "left": null,
            "margin": null,
            "max_height": null,
            "max_width": null,
            "min_height": null,
            "min_width": null,
            "object_fit": null,
            "object_position": null,
            "order": null,
            "overflow": null,
            "overflow_x": null,
            "overflow_y": null,
            "padding": null,
            "right": null,
            "top": null,
            "visibility": null,
            "width": null
          }
        },
        "21ab38fe16424d52b6ef0a05a334aff7": {
          "model_module": "@jupyter-widgets/controls",
          "model_name": "DescriptionStyleModel",
          "model_module_version": "1.5.0",
          "state": {
            "_model_module": "@jupyter-widgets/controls",
            "_model_module_version": "1.5.0",
            "_model_name": "DescriptionStyleModel",
            "_view_count": null,
            "_view_module": "@jupyter-widgets/base",
            "_view_module_version": "1.2.0",
            "_view_name": "StyleView",
            "description_width": ""
          }
        },
        "8f848260e6684bc081f4afc08eedecfd": {
          "model_module": "@jupyter-widgets/base",
          "model_name": "LayoutModel",
          "model_module_version": "1.2.0",
          "state": {
            "_model_module": "@jupyter-widgets/base",
            "_model_module_version": "1.2.0",
            "_model_name": "LayoutModel",
            "_view_count": null,
            "_view_module": "@jupyter-widgets/base",
            "_view_module_version": "1.2.0",
            "_view_name": "LayoutView",
            "align_content": null,
            "align_items": null,
            "align_self": null,
            "border": null,
            "bottom": null,
            "display": null,
            "flex": null,
            "flex_flow": null,
            "grid_area": null,
            "grid_auto_columns": null,
            "grid_auto_flow": null,
            "grid_auto_rows": null,
            "grid_column": null,
            "grid_gap": null,
            "grid_row": null,
            "grid_template_areas": null,
            "grid_template_columns": null,
            "grid_template_rows": null,
            "height": null,
            "justify_content": null,
            "justify_items": null,
            "left": null,
            "margin": null,
            "max_height": null,
            "max_width": null,
            "min_height": null,
            "min_width": null,
            "object_fit": null,
            "object_position": null,
            "order": null,
            "overflow": null,
            "overflow_x": null,
            "overflow_y": null,
            "padding": null,
            "right": null,
            "top": null,
            "visibility": null,
            "width": null
          }
        },
        "4b6bee99374a4107a7095d385bb81485": {
          "model_module": "@jupyter-widgets/controls",
          "model_name": "ProgressStyleModel",
          "model_module_version": "1.5.0",
          "state": {
            "_model_module": "@jupyter-widgets/controls",
            "_model_module_version": "1.5.0",
            "_model_name": "ProgressStyleModel",
            "_view_count": null,
            "_view_module": "@jupyter-widgets/base",
            "_view_module_version": "1.2.0",
            "_view_name": "StyleView",
            "bar_color": null,
            "description_width": ""
          }
        },
        "a71615893a754ab0b19107b4fdff0c7e": {
          "model_module": "@jupyter-widgets/base",
          "model_name": "LayoutModel",
          "model_module_version": "1.2.0",
          "state": {
            "_model_module": "@jupyter-widgets/base",
            "_model_module_version": "1.2.0",
            "_model_name": "LayoutModel",
            "_view_count": null,
            "_view_module": "@jupyter-widgets/base",
            "_view_module_version": "1.2.0",
            "_view_name": "LayoutView",
            "align_content": null,
            "align_items": null,
            "align_self": null,
            "border": null,
            "bottom": null,
            "display": null,
            "flex": null,
            "flex_flow": null,
            "grid_area": null,
            "grid_auto_columns": null,
            "grid_auto_flow": null,
            "grid_auto_rows": null,
            "grid_column": null,
            "grid_gap": null,
            "grid_row": null,
            "grid_template_areas": null,
            "grid_template_columns": null,
            "grid_template_rows": null,
            "height": null,
            "justify_content": null,
            "justify_items": null,
            "left": null,
            "margin": null,
            "max_height": null,
            "max_width": null,
            "min_height": null,
            "min_width": null,
            "object_fit": null,
            "object_position": null,
            "order": null,
            "overflow": null,
            "overflow_x": null,
            "overflow_y": null,
            "padding": null,
            "right": null,
            "top": null,
            "visibility": null,
            "width": null
          }
        },
        "e1580ec14ef844dc9b8db0cd5122f4f3": {
          "model_module": "@jupyter-widgets/controls",
          "model_name": "DescriptionStyleModel",
          "model_module_version": "1.5.0",
          "state": {
            "_model_module": "@jupyter-widgets/controls",
            "_model_module_version": "1.5.0",
            "_model_name": "DescriptionStyleModel",
            "_view_count": null,
            "_view_module": "@jupyter-widgets/base",
            "_view_module_version": "1.2.0",
            "_view_name": "StyleView",
            "description_width": ""
          }
        },
        "d65e97bf19d64dedbfbbcfa730dde11c": {
          "model_module": "@jupyter-widgets/controls",
          "model_name": "HBoxModel",
          "model_module_version": "1.5.0",
          "state": {
            "_dom_classes": [],
            "_model_module": "@jupyter-widgets/controls",
            "_model_module_version": "1.5.0",
            "_model_name": "HBoxModel",
            "_view_count": null,
            "_view_module": "@jupyter-widgets/controls",
            "_view_module_version": "1.5.0",
            "_view_name": "HBoxView",
            "box_style": "",
            "children": [
              "IPY_MODEL_ccccd9ab5279480cba5974ea79f6c1be",
              "IPY_MODEL_70415001cf904822a807742055c87ecc",
              "IPY_MODEL_7a5fed7dee2d48b597353f1f09732925"
            ],
            "layout": "IPY_MODEL_90dd24586d4644e0a7caf19a01ef22a4"
          }
        },
        "ccccd9ab5279480cba5974ea79f6c1be": {
          "model_module": "@jupyter-widgets/controls",
          "model_name": "HTMLModel",
          "model_module_version": "1.5.0",
          "state": {
            "_dom_classes": [],
            "_model_module": "@jupyter-widgets/controls",
            "_model_module_version": "1.5.0",
            "_model_name": "HTMLModel",
            "_view_count": null,
            "_view_module": "@jupyter-widgets/controls",
            "_view_module_version": "1.5.0",
            "_view_name": "HTMLView",
            "description": "",
            "description_tooltip": null,
            "layout": "IPY_MODEL_c4068b0a89a543c5986841113f312579",
            "placeholder": "​",
            "style": "IPY_MODEL_40cfc63dae274039925c88cd2e961b4b",
            "value": "100%"
          }
        },
        "70415001cf904822a807742055c87ecc": {
          "model_module": "@jupyter-widgets/controls",
          "model_name": "FloatProgressModel",
          "model_module_version": "1.5.0",
          "state": {
            "_dom_classes": [],
            "_model_module": "@jupyter-widgets/controls",
            "_model_module_version": "1.5.0",
            "_model_name": "FloatProgressModel",
            "_view_count": null,
            "_view_module": "@jupyter-widgets/controls",
            "_view_module_version": "1.5.0",
            "_view_name": "ProgressView",
            "bar_style": "success",
            "description": "",
            "description_tooltip": null,
            "layout": "IPY_MODEL_d5a942d18cc8446890aeb2fa2fd56849",
            "max": 752,
            "min": 0,
            "orientation": "horizontal",
            "style": "IPY_MODEL_3f604d40015c4aef99e14162bb9ffaf8",
            "value": 752
          }
        },
        "7a5fed7dee2d48b597353f1f09732925": {
          "model_module": "@jupyter-widgets/controls",
          "model_name": "HTMLModel",
          "model_module_version": "1.5.0",
          "state": {
            "_dom_classes": [],
            "_model_module": "@jupyter-widgets/controls",
            "_model_module_version": "1.5.0",
            "_model_name": "HTMLModel",
            "_view_count": null,
            "_view_module": "@jupyter-widgets/controls",
            "_view_module_version": "1.5.0",
            "_view_name": "HTMLView",
            "description": "",
            "description_tooltip": null,
            "layout": "IPY_MODEL_50951e5b05e64c99bb29663ff0579efb",
            "placeholder": "​",
            "style": "IPY_MODEL_0eab2b8ad2a14e57995acfa5a5bda2a1",
            "value": " 752/752 [01:34&lt;00:00,  5.31it/s]"
          }
        },
        "90dd24586d4644e0a7caf19a01ef22a4": {
          "model_module": "@jupyter-widgets/base",
          "model_name": "LayoutModel",
          "model_module_version": "1.2.0",
          "state": {
            "_model_module": "@jupyter-widgets/base",
            "_model_module_version": "1.2.0",
            "_model_name": "LayoutModel",
            "_view_count": null,
            "_view_module": "@jupyter-widgets/base",
            "_view_module_version": "1.2.0",
            "_view_name": "LayoutView",
            "align_content": null,
            "align_items": null,
            "align_self": null,
            "border": null,
            "bottom": null,
            "display": null,
            "flex": null,
            "flex_flow": null,
            "grid_area": null,
            "grid_auto_columns": null,
            "grid_auto_flow": null,
            "grid_auto_rows": null,
            "grid_column": null,
            "grid_gap": null,
            "grid_row": null,
            "grid_template_areas": null,
            "grid_template_columns": null,
            "grid_template_rows": null,
            "height": null,
            "justify_content": null,
            "justify_items": null,
            "left": null,
            "margin": null,
            "max_height": null,
            "max_width": null,
            "min_height": null,
            "min_width": null,
            "object_fit": null,
            "object_position": null,
            "order": null,
            "overflow": null,
            "overflow_x": null,
            "overflow_y": null,
            "padding": null,
            "right": null,
            "top": null,
            "visibility": null,
            "width": null
          }
        },
        "c4068b0a89a543c5986841113f312579": {
          "model_module": "@jupyter-widgets/base",
          "model_name": "LayoutModel",
          "model_module_version": "1.2.0",
          "state": {
            "_model_module": "@jupyter-widgets/base",
            "_model_module_version": "1.2.0",
            "_model_name": "LayoutModel",
            "_view_count": null,
            "_view_module": "@jupyter-widgets/base",
            "_view_module_version": "1.2.0",
            "_view_name": "LayoutView",
            "align_content": null,
            "align_items": null,
            "align_self": null,
            "border": null,
            "bottom": null,
            "display": null,
            "flex": null,
            "flex_flow": null,
            "grid_area": null,
            "grid_auto_columns": null,
            "grid_auto_flow": null,
            "grid_auto_rows": null,
            "grid_column": null,
            "grid_gap": null,
            "grid_row": null,
            "grid_template_areas": null,
            "grid_template_columns": null,
            "grid_template_rows": null,
            "height": null,
            "justify_content": null,
            "justify_items": null,
            "left": null,
            "margin": null,
            "max_height": null,
            "max_width": null,
            "min_height": null,
            "min_width": null,
            "object_fit": null,
            "object_position": null,
            "order": null,
            "overflow": null,
            "overflow_x": null,
            "overflow_y": null,
            "padding": null,
            "right": null,
            "top": null,
            "visibility": null,
            "width": null
          }
        },
        "40cfc63dae274039925c88cd2e961b4b": {
          "model_module": "@jupyter-widgets/controls",
          "model_name": "DescriptionStyleModel",
          "model_module_version": "1.5.0",
          "state": {
            "_model_module": "@jupyter-widgets/controls",
            "_model_module_version": "1.5.0",
            "_model_name": "DescriptionStyleModel",
            "_view_count": null,
            "_view_module": "@jupyter-widgets/base",
            "_view_module_version": "1.2.0",
            "_view_name": "StyleView",
            "description_width": ""
          }
        },
        "d5a942d18cc8446890aeb2fa2fd56849": {
          "model_module": "@jupyter-widgets/base",
          "model_name": "LayoutModel",
          "model_module_version": "1.2.0",
          "state": {
            "_model_module": "@jupyter-widgets/base",
            "_model_module_version": "1.2.0",
            "_model_name": "LayoutModel",
            "_view_count": null,
            "_view_module": "@jupyter-widgets/base",
            "_view_module_version": "1.2.0",
            "_view_name": "LayoutView",
            "align_content": null,
            "align_items": null,
            "align_self": null,
            "border": null,
            "bottom": null,
            "display": null,
            "flex": null,
            "flex_flow": null,
            "grid_area": null,
            "grid_auto_columns": null,
            "grid_auto_flow": null,
            "grid_auto_rows": null,
            "grid_column": null,
            "grid_gap": null,
            "grid_row": null,
            "grid_template_areas": null,
            "grid_template_columns": null,
            "grid_template_rows": null,
            "height": null,
            "justify_content": null,
            "justify_items": null,
            "left": null,
            "margin": null,
            "max_height": null,
            "max_width": null,
            "min_height": null,
            "min_width": null,
            "object_fit": null,
            "object_position": null,
            "order": null,
            "overflow": null,
            "overflow_x": null,
            "overflow_y": null,
            "padding": null,
            "right": null,
            "top": null,
            "visibility": null,
            "width": null
          }
        },
        "3f604d40015c4aef99e14162bb9ffaf8": {
          "model_module": "@jupyter-widgets/controls",
          "model_name": "ProgressStyleModel",
          "model_module_version": "1.5.0",
          "state": {
            "_model_module": "@jupyter-widgets/controls",
            "_model_module_version": "1.5.0",
            "_model_name": "ProgressStyleModel",
            "_view_count": null,
            "_view_module": "@jupyter-widgets/base",
            "_view_module_version": "1.2.0",
            "_view_name": "StyleView",
            "bar_color": null,
            "description_width": ""
          }
        },
        "50951e5b05e64c99bb29663ff0579efb": {
          "model_module": "@jupyter-widgets/base",
          "model_name": "LayoutModel",
          "model_module_version": "1.2.0",
          "state": {
            "_model_module": "@jupyter-widgets/base",
            "_model_module_version": "1.2.0",
            "_model_name": "LayoutModel",
            "_view_count": null,
            "_view_module": "@jupyter-widgets/base",
            "_view_module_version": "1.2.0",
            "_view_name": "LayoutView",
            "align_content": null,
            "align_items": null,
            "align_self": null,
            "border": null,
            "bottom": null,
            "display": null,
            "flex": null,
            "flex_flow": null,
            "grid_area": null,
            "grid_auto_columns": null,
            "grid_auto_flow": null,
            "grid_auto_rows": null,
            "grid_column": null,
            "grid_gap": null,
            "grid_row": null,
            "grid_template_areas": null,
            "grid_template_columns": null,
            "grid_template_rows": null,
            "height": null,
            "justify_content": null,
            "justify_items": null,
            "left": null,
            "margin": null,
            "max_height": null,
            "max_width": null,
            "min_height": null,
            "min_width": null,
            "object_fit": null,
            "object_position": null,
            "order": null,
            "overflow": null,
            "overflow_x": null,
            "overflow_y": null,
            "padding": null,
            "right": null,
            "top": null,
            "visibility": null,
            "width": null
          }
        },
        "0eab2b8ad2a14e57995acfa5a5bda2a1": {
          "model_module": "@jupyter-widgets/controls",
          "model_name": "DescriptionStyleModel",
          "model_module_version": "1.5.0",
          "state": {
            "_model_module": "@jupyter-widgets/controls",
            "_model_module_version": "1.5.0",
            "_model_name": "DescriptionStyleModel",
            "_view_count": null,
            "_view_module": "@jupyter-widgets/base",
            "_view_module_version": "1.2.0",
            "_view_name": "StyleView",
            "description_width": ""
          }
        },
        "4dd7046e8af048aa9de6e9965f499cd0": {
          "model_module": "@jupyter-widgets/controls",
          "model_name": "HBoxModel",
          "model_module_version": "1.5.0",
          "state": {
            "_dom_classes": [],
            "_model_module": "@jupyter-widgets/controls",
            "_model_module_version": "1.5.0",
            "_model_name": "HBoxModel",
            "_view_count": null,
            "_view_module": "@jupyter-widgets/controls",
            "_view_module_version": "1.5.0",
            "_view_name": "HBoxView",
            "box_style": "",
            "children": [
              "IPY_MODEL_eec9d110e9134fbc94fba0f6129dc9c8",
              "IPY_MODEL_4a2ebd5e4acc4e5a961b6c6bad3c59d8",
              "IPY_MODEL_257b8f19930f4763a0c1b97184af9203"
            ],
            "layout": "IPY_MODEL_59be2c5433f54fe0994b464b16eafa3b"
          }
        },
        "eec9d110e9134fbc94fba0f6129dc9c8": {
          "model_module": "@jupyter-widgets/controls",
          "model_name": "HTMLModel",
          "model_module_version": "1.5.0",
          "state": {
            "_dom_classes": [],
            "_model_module": "@jupyter-widgets/controls",
            "_model_module_version": "1.5.0",
            "_model_name": "HTMLModel",
            "_view_count": null,
            "_view_module": "@jupyter-widgets/controls",
            "_view_module_version": "1.5.0",
            "_view_name": "HTMLView",
            "description": "",
            "description_tooltip": null,
            "layout": "IPY_MODEL_5a8e2243caa94f1dbbf482dbbe5c86e6",
            "placeholder": "​",
            "style": "IPY_MODEL_7a31ac04b9d34acd90a3e736e55c0673",
            "value": "100%"
          }
        },
        "4a2ebd5e4acc4e5a961b6c6bad3c59d8": {
          "model_module": "@jupyter-widgets/controls",
          "model_name": "FloatProgressModel",
          "model_module_version": "1.5.0",
          "state": {
            "_dom_classes": [],
            "_model_module": "@jupyter-widgets/controls",
            "_model_module_version": "1.5.0",
            "_model_name": "FloatProgressModel",
            "_view_count": null,
            "_view_module": "@jupyter-widgets/controls",
            "_view_module_version": "1.5.0",
            "_view_name": "ProgressView",
            "bar_style": "success",
            "description": "",
            "description_tooltip": null,
            "layout": "IPY_MODEL_90bf09bfc64e47a98f259f79ef991614",
            "max": 752,
            "min": 0,
            "orientation": "horizontal",
            "style": "IPY_MODEL_bafed802e9ce4f4fbe6128fcf14f044c",
            "value": 752
          }
        },
        "257b8f19930f4763a0c1b97184af9203": {
          "model_module": "@jupyter-widgets/controls",
          "model_name": "HTMLModel",
          "model_module_version": "1.5.0",
          "state": {
            "_dom_classes": [],
            "_model_module": "@jupyter-widgets/controls",
            "_model_module_version": "1.5.0",
            "_model_name": "HTMLModel",
            "_view_count": null,
            "_view_module": "@jupyter-widgets/controls",
            "_view_module_version": "1.5.0",
            "_view_name": "HTMLView",
            "description": "",
            "description_tooltip": null,
            "layout": "IPY_MODEL_1c6c3784857b479f98da5c346ac55e5d",
            "placeholder": "​",
            "style": "IPY_MODEL_924d06f6ee3c49b28e4bb84da073d18c",
            "value": " 752/752 [01:34&lt;00:00,  5.31it/s]"
          }
        },
        "59be2c5433f54fe0994b464b16eafa3b": {
          "model_module": "@jupyter-widgets/base",
          "model_name": "LayoutModel",
          "model_module_version": "1.2.0",
          "state": {
            "_model_module": "@jupyter-widgets/base",
            "_model_module_version": "1.2.0",
            "_model_name": "LayoutModel",
            "_view_count": null,
            "_view_module": "@jupyter-widgets/base",
            "_view_module_version": "1.2.0",
            "_view_name": "LayoutView",
            "align_content": null,
            "align_items": null,
            "align_self": null,
            "border": null,
            "bottom": null,
            "display": null,
            "flex": null,
            "flex_flow": null,
            "grid_area": null,
            "grid_auto_columns": null,
            "grid_auto_flow": null,
            "grid_auto_rows": null,
            "grid_column": null,
            "grid_gap": null,
            "grid_row": null,
            "grid_template_areas": null,
            "grid_template_columns": null,
            "grid_template_rows": null,
            "height": null,
            "justify_content": null,
            "justify_items": null,
            "left": null,
            "margin": null,
            "max_height": null,
            "max_width": null,
            "min_height": null,
            "min_width": null,
            "object_fit": null,
            "object_position": null,
            "order": null,
            "overflow": null,
            "overflow_x": null,
            "overflow_y": null,
            "padding": null,
            "right": null,
            "top": null,
            "visibility": null,
            "width": null
          }
        },
        "5a8e2243caa94f1dbbf482dbbe5c86e6": {
          "model_module": "@jupyter-widgets/base",
          "model_name": "LayoutModel",
          "model_module_version": "1.2.0",
          "state": {
            "_model_module": "@jupyter-widgets/base",
            "_model_module_version": "1.2.0",
            "_model_name": "LayoutModel",
            "_view_count": null,
            "_view_module": "@jupyter-widgets/base",
            "_view_module_version": "1.2.0",
            "_view_name": "LayoutView",
            "align_content": null,
            "align_items": null,
            "align_self": null,
            "border": null,
            "bottom": null,
            "display": null,
            "flex": null,
            "flex_flow": null,
            "grid_area": null,
            "grid_auto_columns": null,
            "grid_auto_flow": null,
            "grid_auto_rows": null,
            "grid_column": null,
            "grid_gap": null,
            "grid_row": null,
            "grid_template_areas": null,
            "grid_template_columns": null,
            "grid_template_rows": null,
            "height": null,
            "justify_content": null,
            "justify_items": null,
            "left": null,
            "margin": null,
            "max_height": null,
            "max_width": null,
            "min_height": null,
            "min_width": null,
            "object_fit": null,
            "object_position": null,
            "order": null,
            "overflow": null,
            "overflow_x": null,
            "overflow_y": null,
            "padding": null,
            "right": null,
            "top": null,
            "visibility": null,
            "width": null
          }
        },
        "7a31ac04b9d34acd90a3e736e55c0673": {
          "model_module": "@jupyter-widgets/controls",
          "model_name": "DescriptionStyleModel",
          "model_module_version": "1.5.0",
          "state": {
            "_model_module": "@jupyter-widgets/controls",
            "_model_module_version": "1.5.0",
            "_model_name": "DescriptionStyleModel",
            "_view_count": null,
            "_view_module": "@jupyter-widgets/base",
            "_view_module_version": "1.2.0",
            "_view_name": "StyleView",
            "description_width": ""
          }
        },
        "90bf09bfc64e47a98f259f79ef991614": {
          "model_module": "@jupyter-widgets/base",
          "model_name": "LayoutModel",
          "model_module_version": "1.2.0",
          "state": {
            "_model_module": "@jupyter-widgets/base",
            "_model_module_version": "1.2.0",
            "_model_name": "LayoutModel",
            "_view_count": null,
            "_view_module": "@jupyter-widgets/base",
            "_view_module_version": "1.2.0",
            "_view_name": "LayoutView",
            "align_content": null,
            "align_items": null,
            "align_self": null,
            "border": null,
            "bottom": null,
            "display": null,
            "flex": null,
            "flex_flow": null,
            "grid_area": null,
            "grid_auto_columns": null,
            "grid_auto_flow": null,
            "grid_auto_rows": null,
            "grid_column": null,
            "grid_gap": null,
            "grid_row": null,
            "grid_template_areas": null,
            "grid_template_columns": null,
            "grid_template_rows": null,
            "height": null,
            "justify_content": null,
            "justify_items": null,
            "left": null,
            "margin": null,
            "max_height": null,
            "max_width": null,
            "min_height": null,
            "min_width": null,
            "object_fit": null,
            "object_position": null,
            "order": null,
            "overflow": null,
            "overflow_x": null,
            "overflow_y": null,
            "padding": null,
            "right": null,
            "top": null,
            "visibility": null,
            "width": null
          }
        },
        "bafed802e9ce4f4fbe6128fcf14f044c": {
          "model_module": "@jupyter-widgets/controls",
          "model_name": "ProgressStyleModel",
          "model_module_version": "1.5.0",
          "state": {
            "_model_module": "@jupyter-widgets/controls",
            "_model_module_version": "1.5.0",
            "_model_name": "ProgressStyleModel",
            "_view_count": null,
            "_view_module": "@jupyter-widgets/base",
            "_view_module_version": "1.2.0",
            "_view_name": "StyleView",
            "bar_color": null,
            "description_width": ""
          }
        },
        "1c6c3784857b479f98da5c346ac55e5d": {
          "model_module": "@jupyter-widgets/base",
          "model_name": "LayoutModel",
          "model_module_version": "1.2.0",
          "state": {
            "_model_module": "@jupyter-widgets/base",
            "_model_module_version": "1.2.0",
            "_model_name": "LayoutModel",
            "_view_count": null,
            "_view_module": "@jupyter-widgets/base",
            "_view_module_version": "1.2.0",
            "_view_name": "LayoutView",
            "align_content": null,
            "align_items": null,
            "align_self": null,
            "border": null,
            "bottom": null,
            "display": null,
            "flex": null,
            "flex_flow": null,
            "grid_area": null,
            "grid_auto_columns": null,
            "grid_auto_flow": null,
            "grid_auto_rows": null,
            "grid_column": null,
            "grid_gap": null,
            "grid_row": null,
            "grid_template_areas": null,
            "grid_template_columns": null,
            "grid_template_rows": null,
            "height": null,
            "justify_content": null,
            "justify_items": null,
            "left": null,
            "margin": null,
            "max_height": null,
            "max_width": null,
            "min_height": null,
            "min_width": null,
            "object_fit": null,
            "object_position": null,
            "order": null,
            "overflow": null,
            "overflow_x": null,
            "overflow_y": null,
            "padding": null,
            "right": null,
            "top": null,
            "visibility": null,
            "width": null
          }
        },
        "924d06f6ee3c49b28e4bb84da073d18c": {
          "model_module": "@jupyter-widgets/controls",
          "model_name": "DescriptionStyleModel",
          "model_module_version": "1.5.0",
          "state": {
            "_model_module": "@jupyter-widgets/controls",
            "_model_module_version": "1.5.0",
            "_model_name": "DescriptionStyleModel",
            "_view_count": null,
            "_view_module": "@jupyter-widgets/base",
            "_view_module_version": "1.2.0",
            "_view_name": "StyleView",
            "description_width": ""
          }
        },
        "e062bcb05f6f4e579661c05a65ba2ce3": {
          "model_module": "@jupyter-widgets/controls",
          "model_name": "HBoxModel",
          "model_module_version": "1.5.0",
          "state": {
            "_dom_classes": [],
            "_model_module": "@jupyter-widgets/controls",
            "_model_module_version": "1.5.0",
            "_model_name": "HBoxModel",
            "_view_count": null,
            "_view_module": "@jupyter-widgets/controls",
            "_view_module_version": "1.5.0",
            "_view_name": "HBoxView",
            "box_style": "",
            "children": [
              "IPY_MODEL_936a1f958d784a509067ab33b3f3b598",
              "IPY_MODEL_8df4db10bf16430e95cc5fd96e068316",
              "IPY_MODEL_f4e13c62aeec45ca987484f80991d008"
            ],
            "layout": "IPY_MODEL_1d11e3504c4e4108a3157fc6d9ce24d2"
          }
        },
        "936a1f958d784a509067ab33b3f3b598": {
          "model_module": "@jupyter-widgets/controls",
          "model_name": "HTMLModel",
          "model_module_version": "1.5.0",
          "state": {
            "_dom_classes": [],
            "_model_module": "@jupyter-widgets/controls",
            "_model_module_version": "1.5.0",
            "_model_name": "HTMLModel",
            "_view_count": null,
            "_view_module": "@jupyter-widgets/controls",
            "_view_module_version": "1.5.0",
            "_view_name": "HTMLView",
            "description": "",
            "description_tooltip": null,
            "layout": "IPY_MODEL_126e68135e8547cab788a6259f6984d8",
            "placeholder": "​",
            "style": "IPY_MODEL_30cf7811edd54649adbacaca9bddf0ba",
            "value": "  0%"
          }
        },
        "8df4db10bf16430e95cc5fd96e068316": {
          "model_module": "@jupyter-widgets/controls",
          "model_name": "FloatProgressModel",
          "model_module_version": "1.5.0",
          "state": {
            "_dom_classes": [],
            "_model_module": "@jupyter-widgets/controls",
            "_model_module_version": "1.5.0",
            "_model_name": "FloatProgressModel",
            "_view_count": null,
            "_view_module": "@jupyter-widgets/controls",
            "_view_module_version": "1.5.0",
            "_view_name": "ProgressView",
            "bar_style": "danger",
            "description": "",
            "description_tooltip": null,
            "layout": "IPY_MODEL_ed96f4ddc2dc434ab15a6cbc7128e317",
            "max": 2549,
            "min": 0,
            "orientation": "horizontal",
            "style": "IPY_MODEL_db29c9b53d0d47eab30e3b8917c70c82",
            "value": 5
          }
        },
        "f4e13c62aeec45ca987484f80991d008": {
          "model_module": "@jupyter-widgets/controls",
          "model_name": "HTMLModel",
          "model_module_version": "1.5.0",
          "state": {
            "_dom_classes": [],
            "_model_module": "@jupyter-widgets/controls",
            "_model_module_version": "1.5.0",
            "_model_name": "HTMLModel",
            "_view_count": null,
            "_view_module": "@jupyter-widgets/controls",
            "_view_module_version": "1.5.0",
            "_view_name": "HTMLView",
            "description": "",
            "description_tooltip": null,
            "layout": "IPY_MODEL_9df29120c2d24dd4907b5ab99ff48708",
            "placeholder": "​",
            "style": "IPY_MODEL_9c8028806b4f4d5da863cc642b0321ee",
            "value": " 5/2549 [00:11&lt;1:22:43,  1.95s/it]"
          }
        },
        "1d11e3504c4e4108a3157fc6d9ce24d2": {
          "model_module": "@jupyter-widgets/base",
          "model_name": "LayoutModel",
          "model_module_version": "1.2.0",
          "state": {
            "_model_module": "@jupyter-widgets/base",
            "_model_module_version": "1.2.0",
            "_model_name": "LayoutModel",
            "_view_count": null,
            "_view_module": "@jupyter-widgets/base",
            "_view_module_version": "1.2.0",
            "_view_name": "LayoutView",
            "align_content": null,
            "align_items": null,
            "align_self": null,
            "border": null,
            "bottom": null,
            "display": null,
            "flex": null,
            "flex_flow": null,
            "grid_area": null,
            "grid_auto_columns": null,
            "grid_auto_flow": null,
            "grid_auto_rows": null,
            "grid_column": null,
            "grid_gap": null,
            "grid_row": null,
            "grid_template_areas": null,
            "grid_template_columns": null,
            "grid_template_rows": null,
            "height": null,
            "justify_content": null,
            "justify_items": null,
            "left": null,
            "margin": null,
            "max_height": null,
            "max_width": null,
            "min_height": null,
            "min_width": null,
            "object_fit": null,
            "object_position": null,
            "order": null,
            "overflow": null,
            "overflow_x": null,
            "overflow_y": null,
            "padding": null,
            "right": null,
            "top": null,
            "visibility": null,
            "width": null
          }
        },
        "126e68135e8547cab788a6259f6984d8": {
          "model_module": "@jupyter-widgets/base",
          "model_name": "LayoutModel",
          "model_module_version": "1.2.0",
          "state": {
            "_model_module": "@jupyter-widgets/base",
            "_model_module_version": "1.2.0",
            "_model_name": "LayoutModel",
            "_view_count": null,
            "_view_module": "@jupyter-widgets/base",
            "_view_module_version": "1.2.0",
            "_view_name": "LayoutView",
            "align_content": null,
            "align_items": null,
            "align_self": null,
            "border": null,
            "bottom": null,
            "display": null,
            "flex": null,
            "flex_flow": null,
            "grid_area": null,
            "grid_auto_columns": null,
            "grid_auto_flow": null,
            "grid_auto_rows": null,
            "grid_column": null,
            "grid_gap": null,
            "grid_row": null,
            "grid_template_areas": null,
            "grid_template_columns": null,
            "grid_template_rows": null,
            "height": null,
            "justify_content": null,
            "justify_items": null,
            "left": null,
            "margin": null,
            "max_height": null,
            "max_width": null,
            "min_height": null,
            "min_width": null,
            "object_fit": null,
            "object_position": null,
            "order": null,
            "overflow": null,
            "overflow_x": null,
            "overflow_y": null,
            "padding": null,
            "right": null,
            "top": null,
            "visibility": null,
            "width": null
          }
        },
        "30cf7811edd54649adbacaca9bddf0ba": {
          "model_module": "@jupyter-widgets/controls",
          "model_name": "DescriptionStyleModel",
          "model_module_version": "1.5.0",
          "state": {
            "_model_module": "@jupyter-widgets/controls",
            "_model_module_version": "1.5.0",
            "_model_name": "DescriptionStyleModel",
            "_view_count": null,
            "_view_module": "@jupyter-widgets/base",
            "_view_module_version": "1.2.0",
            "_view_name": "StyleView",
            "description_width": ""
          }
        },
        "ed96f4ddc2dc434ab15a6cbc7128e317": {
          "model_module": "@jupyter-widgets/base",
          "model_name": "LayoutModel",
          "model_module_version": "1.2.0",
          "state": {
            "_model_module": "@jupyter-widgets/base",
            "_model_module_version": "1.2.0",
            "_model_name": "LayoutModel",
            "_view_count": null,
            "_view_module": "@jupyter-widgets/base",
            "_view_module_version": "1.2.0",
            "_view_name": "LayoutView",
            "align_content": null,
            "align_items": null,
            "align_self": null,
            "border": null,
            "bottom": null,
            "display": null,
            "flex": null,
            "flex_flow": null,
            "grid_area": null,
            "grid_auto_columns": null,
            "grid_auto_flow": null,
            "grid_auto_rows": null,
            "grid_column": null,
            "grid_gap": null,
            "grid_row": null,
            "grid_template_areas": null,
            "grid_template_columns": null,
            "grid_template_rows": null,
            "height": null,
            "justify_content": null,
            "justify_items": null,
            "left": null,
            "margin": null,
            "max_height": null,
            "max_width": null,
            "min_height": null,
            "min_width": null,
            "object_fit": null,
            "object_position": null,
            "order": null,
            "overflow": null,
            "overflow_x": null,
            "overflow_y": null,
            "padding": null,
            "right": null,
            "top": null,
            "visibility": null,
            "width": null
          }
        },
        "db29c9b53d0d47eab30e3b8917c70c82": {
          "model_module": "@jupyter-widgets/controls",
          "model_name": "ProgressStyleModel",
          "model_module_version": "1.5.0",
          "state": {
            "_model_module": "@jupyter-widgets/controls",
            "_model_module_version": "1.5.0",
            "_model_name": "ProgressStyleModel",
            "_view_count": null,
            "_view_module": "@jupyter-widgets/base",
            "_view_module_version": "1.2.0",
            "_view_name": "StyleView",
            "bar_color": null,
            "description_width": ""
          }
        },
        "9df29120c2d24dd4907b5ab99ff48708": {
          "model_module": "@jupyter-widgets/base",
          "model_name": "LayoutModel",
          "model_module_version": "1.2.0",
          "state": {
            "_model_module": "@jupyter-widgets/base",
            "_model_module_version": "1.2.0",
            "_model_name": "LayoutModel",
            "_view_count": null,
            "_view_module": "@jupyter-widgets/base",
            "_view_module_version": "1.2.0",
            "_view_name": "LayoutView",
            "align_content": null,
            "align_items": null,
            "align_self": null,
            "border": null,
            "bottom": null,
            "display": null,
            "flex": null,
            "flex_flow": null,
            "grid_area": null,
            "grid_auto_columns": null,
            "grid_auto_flow": null,
            "grid_auto_rows": null,
            "grid_column": null,
            "grid_gap": null,
            "grid_row": null,
            "grid_template_areas": null,
            "grid_template_columns": null,
            "grid_template_rows": null,
            "height": null,
            "justify_content": null,
            "justify_items": null,
            "left": null,
            "margin": null,
            "max_height": null,
            "max_width": null,
            "min_height": null,
            "min_width": null,
            "object_fit": null,
            "object_position": null,
            "order": null,
            "overflow": null,
            "overflow_x": null,
            "overflow_y": null,
            "padding": null,
            "right": null,
            "top": null,
            "visibility": null,
            "width": null
          }
        },
        "9c8028806b4f4d5da863cc642b0321ee": {
          "model_module": "@jupyter-widgets/controls",
          "model_name": "DescriptionStyleModel",
          "model_module_version": "1.5.0",
          "state": {
            "_model_module": "@jupyter-widgets/controls",
            "_model_module_version": "1.5.0",
            "_model_name": "DescriptionStyleModel",
            "_view_count": null,
            "_view_module": "@jupyter-widgets/base",
            "_view_module_version": "1.2.0",
            "_view_name": "StyleView",
            "description_width": ""
          }
        }
      }
    },
    "accelerator": "GPU"
  },
  "cells": [
    {
      "cell_type": "markdown",
      "metadata": {
        "id": "view-in-github",
        "colab_type": "text"
      },
      "source": [
        "<a href=\"https://colab.research.google.com/github/YujingYang666777/TaxonomyConstruction/blob/master/Project_CTP.ipynb\" target=\"_parent\"><img src=\"https://colab.research.google.com/assets/colab-badge.svg\" alt=\"Open In Colab\"/></a>"
      ]
    },
    {
      "cell_type": "code",
      "execution_count": null,
      "metadata": {
        "id": "knEOe1s6DcRw",
        "colab": {
          "base_uri": "https://localhost:8080/"
        },
        "outputId": "93ae3552-f6a0-4db6-a2b6-abec1eed0981"
      },
      "outputs": [
        {
          "output_type": "stream",
          "name": "stdout",
          "text": [
            "Looking in indexes: https://pypi.org/simple, https://us-python.pkg.dev/colab-wheels/public/simple/\n",
            "Collecting transformers\n",
            "  Downloading transformers-4.24.0-py3-none-any.whl (5.5 MB)\n",
            "\u001b[K     |████████████████████████████████| 5.5 MB 4.9 MB/s \n",
            "\u001b[?25hRequirement already satisfied: numpy>=1.17 in /usr/local/lib/python3.7/dist-packages (from transformers) (1.21.6)\n",
            "Collecting huggingface-hub<1.0,>=0.10.0\n",
            "  Downloading huggingface_hub-0.11.1-py3-none-any.whl (182 kB)\n",
            "\u001b[K     |████████████████████████████████| 182 kB 80.6 MB/s \n",
            "\u001b[?25hRequirement already satisfied: tqdm>=4.27 in /usr/local/lib/python3.7/dist-packages (from transformers) (4.64.1)\n",
            "Requirement already satisfied: requests in /usr/local/lib/python3.7/dist-packages (from transformers) (2.23.0)\n",
            "Requirement already satisfied: packaging>=20.0 in /usr/local/lib/python3.7/dist-packages (from transformers) (21.3)\n",
            "Collecting tokenizers!=0.11.3,<0.14,>=0.11.1\n",
            "  Downloading tokenizers-0.13.2-cp37-cp37m-manylinux_2_17_x86_64.manylinux2014_x86_64.whl (7.6 MB)\n",
            "\u001b[K     |████████████████████████████████| 7.6 MB 60.0 MB/s \n",
            "\u001b[?25hRequirement already satisfied: regex!=2019.12.17 in /usr/local/lib/python3.7/dist-packages (from transformers) (2022.6.2)\n",
            "Requirement already satisfied: importlib-metadata in /usr/local/lib/python3.7/dist-packages (from transformers) (4.13.0)\n",
            "Requirement already satisfied: pyyaml>=5.1 in /usr/local/lib/python3.7/dist-packages (from transformers) (6.0)\n",
            "Requirement already satisfied: filelock in /usr/local/lib/python3.7/dist-packages (from transformers) (3.8.0)\n",
            "Requirement already satisfied: typing-extensions>=3.7.4.3 in /usr/local/lib/python3.7/dist-packages (from huggingface-hub<1.0,>=0.10.0->transformers) (4.1.1)\n",
            "Requirement already satisfied: pyparsing!=3.0.5,>=2.0.2 in /usr/local/lib/python3.7/dist-packages (from packaging>=20.0->transformers) (3.0.9)\n",
            "Requirement already satisfied: zipp>=0.5 in /usr/local/lib/python3.7/dist-packages (from importlib-metadata->transformers) (3.10.0)\n",
            "Requirement already satisfied: urllib3!=1.25.0,!=1.25.1,<1.26,>=1.21.1 in /usr/local/lib/python3.7/dist-packages (from requests->transformers) (1.24.3)\n",
            "Requirement already satisfied: idna<3,>=2.5 in /usr/local/lib/python3.7/dist-packages (from requests->transformers) (2.10)\n",
            "Requirement already satisfied: certifi>=2017.4.17 in /usr/local/lib/python3.7/dist-packages (from requests->transformers) (2022.9.24)\n",
            "Requirement already satisfied: chardet<4,>=3.0.2 in /usr/local/lib/python3.7/dist-packages (from requests->transformers) (3.0.4)\n",
            "Installing collected packages: tokenizers, huggingface-hub, transformers\n",
            "Successfully installed huggingface-hub-0.11.1 tokenizers-0.13.2 transformers-4.24.0\n"
          ]
        }
      ],
      "source": [
        "!pip install transformers"
      ]
    },
    {
      "cell_type": "code",
      "source": [
        "import random\n",
        "from typing import Union"
      ],
      "metadata": {
        "id": "RkGT6sJGDlJh"
      },
      "execution_count": null,
      "outputs": []
    },
    {
      "cell_type": "code",
      "source": [
        "import torch\n",
        "from torch import Tensor\n",
        "import torch.nn as nn\n",
        "import torch.nn.functional as F\n",
        "from torch.utils.data import DataLoader\n",
        "from tqdm.auto import tqdm\n",
        "import pandas as pd\n",
        "device = torch.device(\"cuda\" if torch.cuda.is_available() else \"cpu\")\n"
      ],
      "metadata": {
        "id": "6l8bSUCiDnEw"
      },
      "execution_count": null,
      "outputs": []
    },
    {
      "cell_type": "code",
      "source": [
        "import transformers\n",
        "from transformers import AutoModel, AutoTokenizer"
      ],
      "metadata": {
        "id": "H965Wy-oEZ2k"
      },
      "execution_count": null,
      "outputs": []
    },
    {
      "cell_type": "markdown",
      "source": [
        "# Utilities"
      ],
      "metadata": {
        "id": "zEZHkGTfJ6AC"
      }
    },
    {
      "cell_type": "code",
      "source": [
        "# create sentence like: [s] is a subclass of [o]\n",
        "def create_sentece_parent(parent, child):\n",
        "  prompts = \"Determine the hierarchy relationship between 2 concepts. Concept A is: {sub}. Concept B is {obj}. {sub} is a part of {obj} and {sub} is a subclass of {obj}.\"\n",
        "\n",
        "  return prompts.format(sub = str(child), obj = str(parent))"
      ],
      "metadata": {
        "id": "cUtiU0dr8E3G"
      },
      "execution_count": null,
      "outputs": []
    },
    {
      "cell_type": "code",
      "source": [
        "create_sentece_parent('CS', 'ML')"
      ],
      "metadata": {
        "colab": {
          "base_uri": "https://localhost:8080/",
          "height": 55
        },
        "id": "pTyDSnUF9Zk1",
        "outputId": "01577ba9-c596-49ac-c0f8-dd440d54f757"
      },
      "execution_count": null,
      "outputs": [
        {
          "output_type": "execute_result",
          "data": {
            "text/plain": [
              "'Determine the hierarchy relationship between 2 concepts. Concept A is: ML. Concept B is CS. ML is a part of CS and ML is a subclass of CS.'"
            ],
            "application/vnd.google.colaboratory.intrinsic+json": {
              "type": "string"
            }
          },
          "metadata": {},
          "execution_count": 18
        }
      ]
    },
    {
      "cell_type": "markdown",
      "source": [
        "# CSKG: Preprocessing"
      ],
      "metadata": {
        "id": "6Mydjy1j6SXv"
      }
    },
    {
      "cell_type": "code",
      "source": [
        "cskg = pd.read_csv(\"/content/drive/MyDrive/Master/CSKG/Query_sup_at_least5_no_cycle2.csv\")\n",
        "cskg = cskg[[\"sub\", \"obj\", \"sup\"]]"
      ],
      "metadata": {
        "id": "r3OTiiji6Rdd"
      },
      "execution_count": null,
      "outputs": []
    },
    {
      "cell_type": "code",
      "source": [
        "cskg.head()"
      ],
      "metadata": {
        "colab": {
          "base_uri": "https://localhost:8080/",
          "height": 206
        },
        "id": "mVxyTgzh6Xm1",
        "outputId": "2a40dfd8-f731-4a18-a3ba-48b7fbead629"
      },
      "execution_count": null,
      "outputs": [
        {
          "output_type": "execute_result",
          "data": {
            "text/plain": [
              "                                                 sub  \\\n",
              "0  http://scholkg.kmi.open.ac.uk/cskg/resource/co...   \n",
              "1  http://scholkg.kmi.open.ac.uk/cskg/resource/el...   \n",
              "2  http://scholkg.kmi.open.ac.uk/cskg/resource/st...   \n",
              "3  http://scholkg.kmi.open.ac.uk/cskg/resource/fi...   \n",
              "4  http://scholkg.kmi.open.ac.uk/cskg/resource/mo...   \n",
              "\n",
              "                                                 obj  sup  \n",
              "0  http://scholkg.kmi.open.ac.uk/cskg/resource/po...    5  \n",
              "1  http://scholkg.kmi.open.ac.uk/cskg/resource/bo...    5  \n",
              "2  http://scholkg.kmi.open.ac.uk/cskg/resource/co...    5  \n",
              "3  http://scholkg.kmi.open.ac.uk/cskg/resource/in...    6  \n",
              "4  http://scholkg.kmi.open.ac.uk/cskg/resource/sm...    6  "
            ],
            "text/html": [
              "\n",
              "  <div id=\"df-78b34ed5-0d2b-4377-88a9-30ac4cdb69f8\">\n",
              "    <div class=\"colab-df-container\">\n",
              "      <div>\n",
              "<style scoped>\n",
              "    .dataframe tbody tr th:only-of-type {\n",
              "        vertical-align: middle;\n",
              "    }\n",
              "\n",
              "    .dataframe tbody tr th {\n",
              "        vertical-align: top;\n",
              "    }\n",
              "\n",
              "    .dataframe thead th {\n",
              "        text-align: right;\n",
              "    }\n",
              "</style>\n",
              "<table border=\"1\" class=\"dataframe\">\n",
              "  <thead>\n",
              "    <tr style=\"text-align: right;\">\n",
              "      <th></th>\n",
              "      <th>sub</th>\n",
              "      <th>obj</th>\n",
              "      <th>sup</th>\n",
              "    </tr>\n",
              "  </thead>\n",
              "  <tbody>\n",
              "    <tr>\n",
              "      <th>0</th>\n",
              "      <td>http://scholkg.kmi.open.ac.uk/cskg/resource/co...</td>\n",
              "      <td>http://scholkg.kmi.open.ac.uk/cskg/resource/po...</td>\n",
              "      <td>5</td>\n",
              "    </tr>\n",
              "    <tr>\n",
              "      <th>1</th>\n",
              "      <td>http://scholkg.kmi.open.ac.uk/cskg/resource/el...</td>\n",
              "      <td>http://scholkg.kmi.open.ac.uk/cskg/resource/bo...</td>\n",
              "      <td>5</td>\n",
              "    </tr>\n",
              "    <tr>\n",
              "      <th>2</th>\n",
              "      <td>http://scholkg.kmi.open.ac.uk/cskg/resource/st...</td>\n",
              "      <td>http://scholkg.kmi.open.ac.uk/cskg/resource/co...</td>\n",
              "      <td>5</td>\n",
              "    </tr>\n",
              "    <tr>\n",
              "      <th>3</th>\n",
              "      <td>http://scholkg.kmi.open.ac.uk/cskg/resource/fi...</td>\n",
              "      <td>http://scholkg.kmi.open.ac.uk/cskg/resource/in...</td>\n",
              "      <td>6</td>\n",
              "    </tr>\n",
              "    <tr>\n",
              "      <th>4</th>\n",
              "      <td>http://scholkg.kmi.open.ac.uk/cskg/resource/mo...</td>\n",
              "      <td>http://scholkg.kmi.open.ac.uk/cskg/resource/sm...</td>\n",
              "      <td>6</td>\n",
              "    </tr>\n",
              "  </tbody>\n",
              "</table>\n",
              "</div>\n",
              "      <button class=\"colab-df-convert\" onclick=\"convertToInteractive('df-78b34ed5-0d2b-4377-88a9-30ac4cdb69f8')\"\n",
              "              title=\"Convert this dataframe to an interactive table.\"\n",
              "              style=\"display:none;\">\n",
              "        \n",
              "  <svg xmlns=\"http://www.w3.org/2000/svg\" height=\"24px\"viewBox=\"0 0 24 24\"\n",
              "       width=\"24px\">\n",
              "    <path d=\"M0 0h24v24H0V0z\" fill=\"none\"/>\n",
              "    <path d=\"M18.56 5.44l.94 2.06.94-2.06 2.06-.94-2.06-.94-.94-2.06-.94 2.06-2.06.94zm-11 1L8.5 8.5l.94-2.06 2.06-.94-2.06-.94L8.5 2.5l-.94 2.06-2.06.94zm10 10l.94 2.06.94-2.06 2.06-.94-2.06-.94-.94-2.06-.94 2.06-2.06.94z\"/><path d=\"M17.41 7.96l-1.37-1.37c-.4-.4-.92-.59-1.43-.59-.52 0-1.04.2-1.43.59L10.3 9.45l-7.72 7.72c-.78.78-.78 2.05 0 2.83L4 21.41c.39.39.9.59 1.41.59.51 0 1.02-.2 1.41-.59l7.78-7.78 2.81-2.81c.8-.78.8-2.07 0-2.86zM5.41 20L4 18.59l7.72-7.72 1.47 1.35L5.41 20z\"/>\n",
              "  </svg>\n",
              "      </button>\n",
              "      \n",
              "  <style>\n",
              "    .colab-df-container {\n",
              "      display:flex;\n",
              "      flex-wrap:wrap;\n",
              "      gap: 12px;\n",
              "    }\n",
              "\n",
              "    .colab-df-convert {\n",
              "      background-color: #E8F0FE;\n",
              "      border: none;\n",
              "      border-radius: 50%;\n",
              "      cursor: pointer;\n",
              "      display: none;\n",
              "      fill: #1967D2;\n",
              "      height: 32px;\n",
              "      padding: 0 0 0 0;\n",
              "      width: 32px;\n",
              "    }\n",
              "\n",
              "    .colab-df-convert:hover {\n",
              "      background-color: #E2EBFA;\n",
              "      box-shadow: 0px 1px 2px rgba(60, 64, 67, 0.3), 0px 1px 3px 1px rgba(60, 64, 67, 0.15);\n",
              "      fill: #174EA6;\n",
              "    }\n",
              "\n",
              "    [theme=dark] .colab-df-convert {\n",
              "      background-color: #3B4455;\n",
              "      fill: #D2E3FC;\n",
              "    }\n",
              "\n",
              "    [theme=dark] .colab-df-convert:hover {\n",
              "      background-color: #434B5C;\n",
              "      box-shadow: 0px 1px 3px 1px rgba(0, 0, 0, 0.15);\n",
              "      filter: drop-shadow(0px 1px 2px rgba(0, 0, 0, 0.3));\n",
              "      fill: #FFFFFF;\n",
              "    }\n",
              "  </style>\n",
              "\n",
              "      <script>\n",
              "        const buttonEl =\n",
              "          document.querySelector('#df-78b34ed5-0d2b-4377-88a9-30ac4cdb69f8 button.colab-df-convert');\n",
              "        buttonEl.style.display =\n",
              "          google.colab.kernel.accessAllowed ? 'block' : 'none';\n",
              "\n",
              "        async function convertToInteractive(key) {\n",
              "          const element = document.querySelector('#df-78b34ed5-0d2b-4377-88a9-30ac4cdb69f8');\n",
              "          const dataTable =\n",
              "            await google.colab.kernel.invokeFunction('convertToInteractive',\n",
              "                                                     [key], {});\n",
              "          if (!dataTable) return;\n",
              "\n",
              "          const docLinkHtml = 'Like what you see? Visit the ' +\n",
              "            '<a target=\"_blank\" href=https://colab.research.google.com/notebooks/data_table.ipynb>data table notebook</a>'\n",
              "            + ' to learn more about interactive tables.';\n",
              "          element.innerHTML = '';\n",
              "          dataTable['output_type'] = 'display_data';\n",
              "          await google.colab.output.renderOutput(dataTable, element);\n",
              "          const docLink = document.createElement('div');\n",
              "          docLink.innerHTML = docLinkHtml;\n",
              "          element.appendChild(docLink);\n",
              "        }\n",
              "      </script>\n",
              "    </div>\n",
              "  </div>\n",
              "  "
            ]
          },
          "metadata": {},
          "execution_count": 20
        }
      ]
    },
    {
      "cell_type": "code",
      "source": [
        "dataset = {\"claim\":[], \"label\":[]}"
      ],
      "metadata": {
        "id": "SDlSjxme6a4v"
      },
      "execution_count": null,
      "outputs": []
    },
    {
      "cell_type": "code",
      "source": [
        "len(dataset['label'])"
      ],
      "metadata": {
        "colab": {
          "base_uri": "https://localhost:8080/"
        },
        "id": "akMpKdD1ENCr",
        "outputId": "68ad0e84-873d-4e24-d1d5-eac922b9a2dd"
      },
      "execution_count": null,
      "outputs": [
        {
          "output_type": "execute_result",
          "data": {
            "text/plain": [
              "326244"
            ]
          },
          "metadata": {},
          "execution_count": 28
        }
      ]
    },
    {
      "cell_type": "code",
      "source": [
        "# dataset['claim'][108748]"
      ],
      "metadata": {
        "id": "Kq-NroaQGttf"
      },
      "execution_count": null,
      "outputs": []
    },
    {
      "cell_type": "code",
      "source": [
        "cskg.iloc[0,0].split(\"/\")[-1].replace(\">\", \"\").replace(\"_\", \" \") # replace \"_\""
      ],
      "metadata": {
        "colab": {
          "base_uri": "https://localhost:8080/",
          "height": 38
        },
        "id": "P306E26O7d2U",
        "outputId": "43b55d84-3b8e-47d0-ca87-642bfdb5d36e"
      },
      "execution_count": null,
      "outputs": [
        {
          "output_type": "execute_result",
          "data": {
            "text/plain": [
              "'computer vision'"
            ],
            "application/vnd.google.colaboratory.intrinsic+json": {
              "type": "string"
            }
          },
          "metadata": {},
          "execution_count": 12
        }
      ]
    },
    {
      "cell_type": "code",
      "source": [
        "cskg.iloc[0,1].split(\"/\")[-1].replace(\">\", \"\").replace(\"_\", \" \") # replace \"_\""
      ],
      "metadata": {
        "colab": {
          "base_uri": "https://localhost:8080/",
          "height": 38
        },
        "id": "TetekWJe7XOj",
        "outputId": "74d11581-285d-4a4f-96c7-577c1090a676"
      },
      "execution_count": null,
      "outputs": [
        {
          "output_type": "execute_result",
          "data": {
            "text/plain": [
              "'pose estimation'"
            ],
            "application/vnd.google.colaboratory.intrinsic+json": {
              "type": "string"
            }
          },
          "metadata": {},
          "execution_count": 13
        }
      ]
    },
    {
      "cell_type": "markdown",
      "source": [
        "## sampling"
      ],
      "metadata": {
        "id": "PhOHstHnKUwU"
      }
    },
    {
      "cell_type": "code",
      "source": [
        "for i in range(cskg.shape[0]):\n",
        "  superclass = cskg.iloc[i,0]\n",
        "  subclass = cskg.iloc[i,1]\n",
        "  parent = superclass.split(\"/\")[-1].replace(\">\", \"\").replace(\"_\", \" \")\n",
        "  child = subclass.split(\"/\")[-1].replace(\">\", \"\").replace(\"_\", \" \")\n",
        "  claim = create_sentece_parent(parent, child)\n",
        "  dataset[\"claim\"].append(claim)\n",
        "  dataset[\"label\"].append(1)\n",
        "  if i % 1000 ==0:\n",
        "    print(i)"
      ],
      "metadata": {
        "colab": {
          "base_uri": "https://localhost:8080/"
        },
        "id": "ApiU4kvK6-ee",
        "outputId": "999616d5-b4e9-45e2-df35-6f0ced62a913"
      },
      "execution_count": null,
      "outputs": [
        {
          "output_type": "stream",
          "name": "stdout",
          "text": [
            "0\n",
            "1000\n",
            "2000\n",
            "3000\n",
            "4000\n",
            "5000\n",
            "6000\n",
            "7000\n",
            "8000\n",
            "9000\n",
            "10000\n",
            "11000\n",
            "12000\n",
            "13000\n",
            "14000\n",
            "15000\n",
            "16000\n",
            "17000\n",
            "18000\n",
            "19000\n",
            "20000\n",
            "21000\n",
            "22000\n",
            "23000\n",
            "24000\n",
            "25000\n",
            "26000\n",
            "27000\n",
            "28000\n",
            "29000\n",
            "30000\n",
            "31000\n",
            "32000\n",
            "33000\n",
            "34000\n",
            "35000\n",
            "36000\n",
            "37000\n",
            "38000\n",
            "39000\n",
            "40000\n",
            "41000\n",
            "42000\n",
            "43000\n",
            "44000\n",
            "45000\n",
            "46000\n",
            "47000\n",
            "48000\n",
            "49000\n",
            "50000\n",
            "51000\n",
            "52000\n",
            "53000\n",
            "54000\n",
            "55000\n",
            "56000\n",
            "57000\n",
            "58000\n",
            "59000\n",
            "60000\n",
            "61000\n",
            "62000\n",
            "63000\n",
            "64000\n",
            "65000\n",
            "66000\n",
            "67000\n",
            "68000\n",
            "69000\n",
            "70000\n",
            "71000\n",
            "72000\n",
            "73000\n",
            "74000\n",
            "75000\n",
            "76000\n",
            "77000\n",
            "78000\n",
            "79000\n",
            "80000\n",
            "81000\n",
            "82000\n",
            "83000\n",
            "84000\n",
            "85000\n",
            "86000\n",
            "87000\n",
            "88000\n",
            "89000\n",
            "90000\n",
            "91000\n",
            "92000\n",
            "93000\n",
            "94000\n",
            "95000\n",
            "96000\n",
            "97000\n",
            "98000\n",
            "99000\n",
            "100000\n",
            "101000\n",
            "102000\n",
            "103000\n",
            "104000\n",
            "105000\n",
            "106000\n",
            "107000\n",
            "108000\n"
          ]
        }
      ]
    },
    {
      "cell_type": "code",
      "source": [
        "for i in range(cskg.shape[0]):\n",
        "  superclass = cskg.iloc[i,0]\n",
        "  subclass = cskg.iloc[i,1]\n",
        "  parent = superclass.split(\"/\")[-1].replace(\">\", \"\").replace(\"_\", \" \")\n",
        "  child = subclass.split(\"/\")[-1].replace(\">\", \"\").replace(\"_\", \" \")\n",
        "  claim = create_sentece_parent(child, parent)\n",
        "  dataset[\"claim\"].append(claim)\n",
        "  dataset[\"label\"].append(0)\n",
        "  if i % 1000 ==0:\n",
        "    print(i)"
      ],
      "metadata": {
        "colab": {
          "base_uri": "https://localhost:8080/"
        },
        "id": "wZ0A3bi5R6Gp",
        "outputId": "726c7c33-0322-4b1f-b4e1-7ab108b66df6"
      },
      "execution_count": null,
      "outputs": [
        {
          "output_type": "stream",
          "name": "stdout",
          "text": [
            "0\n",
            "1000\n",
            "2000\n",
            "3000\n",
            "4000\n",
            "5000\n",
            "6000\n",
            "7000\n",
            "8000\n",
            "9000\n",
            "10000\n",
            "11000\n",
            "12000\n",
            "13000\n",
            "14000\n",
            "15000\n",
            "16000\n",
            "17000\n",
            "18000\n",
            "19000\n",
            "20000\n",
            "21000\n",
            "22000\n",
            "23000\n",
            "24000\n",
            "25000\n",
            "26000\n",
            "27000\n",
            "28000\n",
            "29000\n",
            "30000\n",
            "31000\n",
            "32000\n",
            "33000\n",
            "34000\n",
            "35000\n",
            "36000\n",
            "37000\n",
            "38000\n",
            "39000\n",
            "40000\n",
            "41000\n",
            "42000\n",
            "43000\n",
            "44000\n",
            "45000\n",
            "46000\n",
            "47000\n",
            "48000\n",
            "49000\n",
            "50000\n",
            "51000\n",
            "52000\n",
            "53000\n",
            "54000\n",
            "55000\n",
            "56000\n",
            "57000\n",
            "58000\n",
            "59000\n",
            "60000\n",
            "61000\n",
            "62000\n",
            "63000\n",
            "64000\n",
            "65000\n",
            "66000\n",
            "67000\n",
            "68000\n",
            "69000\n",
            "70000\n",
            "71000\n",
            "72000\n",
            "73000\n",
            "74000\n",
            "75000\n",
            "76000\n",
            "77000\n",
            "78000\n",
            "79000\n",
            "80000\n",
            "81000\n",
            "82000\n",
            "83000\n",
            "84000\n",
            "85000\n",
            "86000\n",
            "87000\n",
            "88000\n",
            "89000\n",
            "90000\n",
            "91000\n",
            "92000\n",
            "93000\n",
            "94000\n",
            "95000\n",
            "96000\n",
            "97000\n",
            "98000\n",
            "99000\n",
            "100000\n",
            "101000\n",
            "102000\n",
            "103000\n",
            "104000\n",
            "105000\n",
            "106000\n",
            "107000\n",
            "108000\n"
          ]
        }
      ]
    },
    {
      "cell_type": "markdown",
      "source": [
        "## Negative sampling"
      ],
      "metadata": {
        "id": "v4bS45qo-XMG"
      }
    },
    {
      "cell_type": "code",
      "source": [
        "import networkx as nx\n",
        "G = nx.DiGraph()\n",
        "\n",
        "for index, row in cskg.iterrows():\n",
        "  #t = (row['sub'], row['obj'])\n",
        "  G.add_edge(row['sub'], row['obj'], weight=row['sup'])"
      ],
      "metadata": {
        "id": "SBfhht-g-oZv"
      },
      "execution_count": null,
      "outputs": []
    },
    {
      "cell_type": "code",
      "source": [
        "length = cskg.shape[0]"
      ],
      "metadata": {
        "id": "xfn_SdzoAVjQ"
      },
      "execution_count": null,
      "outputs": []
    },
    {
      "cell_type": "code",
      "source": [
        "i = 0\n",
        "while True:\n",
        "  index_1 = random.randint(0, length-1)\n",
        "  index_2 = random.randint(0, length-1)\n",
        "  col_1 = random.randint(0, 1)\n",
        "  col_2 = random.randint(0, 1)\n",
        "  # print(index_1, col_1)\n",
        "  # print(index_2, col_2)\n",
        "  parent = cskg.iloc[index_1,col_1]\n",
        "  child = cskg.iloc[index_2,col_2]\n",
        "  has_path = nx.has_path(G,parent,child)\n",
        "  if not has_path:\n",
        "    claim = create_sentece_parent(parent, child)\n",
        "    dataset[\"claim\"].append(claim)\n",
        "    dataset[\"label\"].append(0)\n",
        "    i += 1\n",
        "    if i % 1000 ==0:\n",
        "      print(i)\n",
        "    if i >= length:\n",
        "      break\n",
        "  # break\n"
      ],
      "metadata": {
        "id": "bj6K2AA_-ZoO"
      },
      "execution_count": null,
      "outputs": []
    },
    {
      "cell_type": "markdown",
      "source": [
        "# CSO pre-processing"
      ],
      "metadata": {
        "id": "08Avhux2Dyz7"
      }
    },
    {
      "cell_type": "code",
      "source": [
        "cso = pd.read_csv(\"/content/drive/MyDrive/Master/CSO.3.3.csv\", dtype = str)"
      ],
      "metadata": {
        "id": "29Wbrxt3D2Wp"
      },
      "execution_count": null,
      "outputs": []
    },
    {
      "cell_type": "code",
      "source": [
        "columns = cso.columns"
      ],
      "metadata": {
        "id": "KSqdjN-cFhpF"
      },
      "execution_count": null,
      "outputs": []
    },
    {
      "cell_type": "code",
      "source": [
        "relations = (cso[columns[1]].unique())\n",
        "\n"
      ],
      "metadata": {
        "id": "bXXJSY5OF1Sr"
      },
      "execution_count": null,
      "outputs": []
    },
    {
      "cell_type": "code",
      "source": [
        "relations"
      ],
      "metadata": {
        "colab": {
          "base_uri": "https://localhost:8080/"
        },
        "id": "gOYS9AgbJkbJ",
        "outputId": "51587e8a-8372-4796-9d32-dbe62cb17253"
      },
      "execution_count": null,
      "outputs": [
        {
          "output_type": "execute_result",
          "data": {
            "text/plain": [
              "array(['<http://cso.kmi.open.ac.uk/schema/cso#superTopicOf>',\n",
              "       '<http://cso.kmi.open.ac.uk/schema/cso#contributesTo>',\n",
              "       '<http://cso.kmi.open.ac.uk/schema/cso#relatedEquivalent>',\n",
              "       '<http://www.w3.org/2000/01/rdf-schema#label>',\n",
              "       '<http://www.w3.org/1999/02/22-rdf-syntax-ns#type>',\n",
              "       '<http://cso.kmi.open.ac.uk/schema/cso#preferentialEquivalent>',\n",
              "       '<http://www.w3.org/2002/07/owl#sameAs>',\n",
              "       '<http://schema.org/relatedLink>'], dtype=object)"
            ]
          },
          "metadata": {},
          "execution_count": 32
        }
      ]
    },
    {
      "cell_type": "code",
      "source": [
        "filter = cso.loc[cso[columns[1]] == relations[1]] # only is-a relation"
      ],
      "metadata": {
        "id": "rooEoIzqBz9r"
      },
      "execution_count": null,
      "outputs": []
    },
    {
      "cell_type": "code",
      "source": [
        "filter"
      ],
      "metadata": {
        "colab": {
          "base_uri": "https://localhost:8080/",
          "height": 487
        },
        "id": "5N46LluuCYIF",
        "outputId": "6d892ec9-f7dd-4dcc-f139-7bc5327cc971"
      },
      "execution_count": null,
      "outputs": [
        {
          "output_type": "execute_result",
          "data": {
            "text/plain": [
              "      <https://cso.kmi.open.ac.uk/topics/computer_science>  \\\n",
              "4      <https://cso.kmi.open.ac.uk/topics/nonrigid_re...     \n",
              "9      <https://cso.kmi.open.ac.uk/topics/non-rigid_r...     \n",
              "10     <https://cso.kmi.open.ac.uk/topics/automated_p...     \n",
              "11     <https://cso.kmi.open.ac.uk/topics/automated_p...     \n",
              "15     <https://cso.kmi.open.ac.uk/topics/nonlinear_d...     \n",
              "...                                                  ...     \n",
              "91750  <https://cso.kmi.open.ac.uk/topics/partial_dif...     \n",
              "91751  <https://cso.kmi.open.ac.uk/topics/partial_dif...     \n",
              "91752  <https://cso.kmi.open.ac.uk/topics/partial_dif...     \n",
              "91753  <https://cso.kmi.open.ac.uk/topics/partial_dif...     \n",
              "91754  <https://cso.kmi.open.ac.uk/topics/partial_dif...     \n",
              "\n",
              "      <http://cso.kmi.open.ac.uk/schema/cso#superTopicOf>  \\\n",
              "4      <http://cso.kmi.open.ac.uk/schema/cso#contribu...    \n",
              "9      <http://cso.kmi.open.ac.uk/schema/cso#contribu...    \n",
              "10     <http://cso.kmi.open.ac.uk/schema/cso#contribu...    \n",
              "11     <http://cso.kmi.open.ac.uk/schema/cso#contribu...    \n",
              "15     <http://cso.kmi.open.ac.uk/schema/cso#contribu...    \n",
              "...                                                  ...    \n",
              "91750  <http://cso.kmi.open.ac.uk/schema/cso#contribu...    \n",
              "91751  <http://cso.kmi.open.ac.uk/schema/cso#contribu...    \n",
              "91752  <http://cso.kmi.open.ac.uk/schema/cso#contribu...    \n",
              "91753  <http://cso.kmi.open.ac.uk/schema/cso#contribu...    \n",
              "91754  <http://cso.kmi.open.ac.uk/schema/cso#contribu...    \n",
              "\n",
              "      <https://cso.kmi.open.ac.uk/topics/artificial_intelligence>  \n",
              "4      <https://cso.kmi.open.ac.uk/topics/rigid_regis...           \n",
              "9      <https://cso.kmi.open.ac.uk/topics/rigid_regis...           \n",
              "10     <https://cso.kmi.open.ac.uk/topics/numerical_a...           \n",
              "11     <https://cso.kmi.open.ac.uk/topics/manifold_le...           \n",
              "15            <https://cso.kmi.open.ac.uk/topics/isomap>           \n",
              "...                                                  ...           \n",
              "91750  <https://cso.kmi.open.ac.uk/topics/inverse_pro...           \n",
              "91751  <https://cso.kmi.open.ac.uk/topics/difference_...           \n",
              "91752  <https://cso.kmi.open.ac.uk/topics/distributed...           \n",
              "91753  <https://cso.kmi.open.ac.uk/topics/convection_...           \n",
              "91754  <https://cso.kmi.open.ac.uk/topics/convection-...           \n",
              "\n",
              "[48401 rows x 3 columns]"
            ],
            "text/html": [
              "\n",
              "  <div id=\"df-690092b3-08e8-4420-830b-142d2b0e6f65\">\n",
              "    <div class=\"colab-df-container\">\n",
              "      <div>\n",
              "<style scoped>\n",
              "    .dataframe tbody tr th:only-of-type {\n",
              "        vertical-align: middle;\n",
              "    }\n",
              "\n",
              "    .dataframe tbody tr th {\n",
              "        vertical-align: top;\n",
              "    }\n",
              "\n",
              "    .dataframe thead th {\n",
              "        text-align: right;\n",
              "    }\n",
              "</style>\n",
              "<table border=\"1\" class=\"dataframe\">\n",
              "  <thead>\n",
              "    <tr style=\"text-align: right;\">\n",
              "      <th></th>\n",
              "      <th>&lt;https://cso.kmi.open.ac.uk/topics/computer_science&gt;</th>\n",
              "      <th>&lt;http://cso.kmi.open.ac.uk/schema/cso#superTopicOf&gt;</th>\n",
              "      <th>&lt;https://cso.kmi.open.ac.uk/topics/artificial_intelligence&gt;</th>\n",
              "    </tr>\n",
              "  </thead>\n",
              "  <tbody>\n",
              "    <tr>\n",
              "      <th>4</th>\n",
              "      <td>&lt;https://cso.kmi.open.ac.uk/topics/nonrigid_re...</td>\n",
              "      <td>&lt;http://cso.kmi.open.ac.uk/schema/cso#contribu...</td>\n",
              "      <td>&lt;https://cso.kmi.open.ac.uk/topics/rigid_regis...</td>\n",
              "    </tr>\n",
              "    <tr>\n",
              "      <th>9</th>\n",
              "      <td>&lt;https://cso.kmi.open.ac.uk/topics/non-rigid_r...</td>\n",
              "      <td>&lt;http://cso.kmi.open.ac.uk/schema/cso#contribu...</td>\n",
              "      <td>&lt;https://cso.kmi.open.ac.uk/topics/rigid_regis...</td>\n",
              "    </tr>\n",
              "    <tr>\n",
              "      <th>10</th>\n",
              "      <td>&lt;https://cso.kmi.open.ac.uk/topics/automated_p...</td>\n",
              "      <td>&lt;http://cso.kmi.open.ac.uk/schema/cso#contribu...</td>\n",
              "      <td>&lt;https://cso.kmi.open.ac.uk/topics/numerical_a...</td>\n",
              "    </tr>\n",
              "    <tr>\n",
              "      <th>11</th>\n",
              "      <td>&lt;https://cso.kmi.open.ac.uk/topics/automated_p...</td>\n",
              "      <td>&lt;http://cso.kmi.open.ac.uk/schema/cso#contribu...</td>\n",
              "      <td>&lt;https://cso.kmi.open.ac.uk/topics/manifold_le...</td>\n",
              "    </tr>\n",
              "    <tr>\n",
              "      <th>15</th>\n",
              "      <td>&lt;https://cso.kmi.open.ac.uk/topics/nonlinear_d...</td>\n",
              "      <td>&lt;http://cso.kmi.open.ac.uk/schema/cso#contribu...</td>\n",
              "      <td>&lt;https://cso.kmi.open.ac.uk/topics/isomap&gt;</td>\n",
              "    </tr>\n",
              "    <tr>\n",
              "      <th>...</th>\n",
              "      <td>...</td>\n",
              "      <td>...</td>\n",
              "      <td>...</td>\n",
              "    </tr>\n",
              "    <tr>\n",
              "      <th>91750</th>\n",
              "      <td>&lt;https://cso.kmi.open.ac.uk/topics/partial_dif...</td>\n",
              "      <td>&lt;http://cso.kmi.open.ac.uk/schema/cso#contribu...</td>\n",
              "      <td>&lt;https://cso.kmi.open.ac.uk/topics/inverse_pro...</td>\n",
              "    </tr>\n",
              "    <tr>\n",
              "      <th>91751</th>\n",
              "      <td>&lt;https://cso.kmi.open.ac.uk/topics/partial_dif...</td>\n",
              "      <td>&lt;http://cso.kmi.open.ac.uk/schema/cso#contribu...</td>\n",
              "      <td>&lt;https://cso.kmi.open.ac.uk/topics/difference_...</td>\n",
              "    </tr>\n",
              "    <tr>\n",
              "      <th>91752</th>\n",
              "      <td>&lt;https://cso.kmi.open.ac.uk/topics/partial_dif...</td>\n",
              "      <td>&lt;http://cso.kmi.open.ac.uk/schema/cso#contribu...</td>\n",
              "      <td>&lt;https://cso.kmi.open.ac.uk/topics/distributed...</td>\n",
              "    </tr>\n",
              "    <tr>\n",
              "      <th>91753</th>\n",
              "      <td>&lt;https://cso.kmi.open.ac.uk/topics/partial_dif...</td>\n",
              "      <td>&lt;http://cso.kmi.open.ac.uk/schema/cso#contribu...</td>\n",
              "      <td>&lt;https://cso.kmi.open.ac.uk/topics/convection_...</td>\n",
              "    </tr>\n",
              "    <tr>\n",
              "      <th>91754</th>\n",
              "      <td>&lt;https://cso.kmi.open.ac.uk/topics/partial_dif...</td>\n",
              "      <td>&lt;http://cso.kmi.open.ac.uk/schema/cso#contribu...</td>\n",
              "      <td>&lt;https://cso.kmi.open.ac.uk/topics/convection-...</td>\n",
              "    </tr>\n",
              "  </tbody>\n",
              "</table>\n",
              "<p>48401 rows × 3 columns</p>\n",
              "</div>\n",
              "      <button class=\"colab-df-convert\" onclick=\"convertToInteractive('df-690092b3-08e8-4420-830b-142d2b0e6f65')\"\n",
              "              title=\"Convert this dataframe to an interactive table.\"\n",
              "              style=\"display:none;\">\n",
              "        \n",
              "  <svg xmlns=\"http://www.w3.org/2000/svg\" height=\"24px\"viewBox=\"0 0 24 24\"\n",
              "       width=\"24px\">\n",
              "    <path d=\"M0 0h24v24H0V0z\" fill=\"none\"/>\n",
              "    <path d=\"M18.56 5.44l.94 2.06.94-2.06 2.06-.94-2.06-.94-.94-2.06-.94 2.06-2.06.94zm-11 1L8.5 8.5l.94-2.06 2.06-.94-2.06-.94L8.5 2.5l-.94 2.06-2.06.94zm10 10l.94 2.06.94-2.06 2.06-.94-2.06-.94-.94-2.06-.94 2.06-2.06.94z\"/><path d=\"M17.41 7.96l-1.37-1.37c-.4-.4-.92-.59-1.43-.59-.52 0-1.04.2-1.43.59L10.3 9.45l-7.72 7.72c-.78.78-.78 2.05 0 2.83L4 21.41c.39.39.9.59 1.41.59.51 0 1.02-.2 1.41-.59l7.78-7.78 2.81-2.81c.8-.78.8-2.07 0-2.86zM5.41 20L4 18.59l7.72-7.72 1.47 1.35L5.41 20z\"/>\n",
              "  </svg>\n",
              "      </button>\n",
              "      \n",
              "  <style>\n",
              "    .colab-df-container {\n",
              "      display:flex;\n",
              "      flex-wrap:wrap;\n",
              "      gap: 12px;\n",
              "    }\n",
              "\n",
              "    .colab-df-convert {\n",
              "      background-color: #E8F0FE;\n",
              "      border: none;\n",
              "      border-radius: 50%;\n",
              "      cursor: pointer;\n",
              "      display: none;\n",
              "      fill: #1967D2;\n",
              "      height: 32px;\n",
              "      padding: 0 0 0 0;\n",
              "      width: 32px;\n",
              "    }\n",
              "\n",
              "    .colab-df-convert:hover {\n",
              "      background-color: #E2EBFA;\n",
              "      box-shadow: 0px 1px 2px rgba(60, 64, 67, 0.3), 0px 1px 3px 1px rgba(60, 64, 67, 0.15);\n",
              "      fill: #174EA6;\n",
              "    }\n",
              "\n",
              "    [theme=dark] .colab-df-convert {\n",
              "      background-color: #3B4455;\n",
              "      fill: #D2E3FC;\n",
              "    }\n",
              "\n",
              "    [theme=dark] .colab-df-convert:hover {\n",
              "      background-color: #434B5C;\n",
              "      box-shadow: 0px 1px 3px 1px rgba(0, 0, 0, 0.15);\n",
              "      filter: drop-shadow(0px 1px 2px rgba(0, 0, 0, 0.3));\n",
              "      fill: #FFFFFF;\n",
              "    }\n",
              "  </style>\n",
              "\n",
              "      <script>\n",
              "        const buttonEl =\n",
              "          document.querySelector('#df-690092b3-08e8-4420-830b-142d2b0e6f65 button.colab-df-convert');\n",
              "        buttonEl.style.display =\n",
              "          google.colab.kernel.accessAllowed ? 'block' : 'none';\n",
              "\n",
              "        async function convertToInteractive(key) {\n",
              "          const element = document.querySelector('#df-690092b3-08e8-4420-830b-142d2b0e6f65');\n",
              "          const dataTable =\n",
              "            await google.colab.kernel.invokeFunction('convertToInteractive',\n",
              "                                                     [key], {});\n",
              "          if (!dataTable) return;\n",
              "\n",
              "          const docLinkHtml = 'Like what you see? Visit the ' +\n",
              "            '<a target=\"_blank\" href=https://colab.research.google.com/notebooks/data_table.ipynb>data table notebook</a>'\n",
              "            + ' to learn more about interactive tables.';\n",
              "          element.innerHTML = '';\n",
              "          dataTable['output_type'] = 'display_data';\n",
              "          await google.colab.output.renderOutput(dataTable, element);\n",
              "          const docLink = document.createElement('div');\n",
              "          docLink.innerHTML = docLinkHtml;\n",
              "          element.appendChild(docLink);\n",
              "        }\n",
              "      </script>\n",
              "    </div>\n",
              "  </div>\n",
              "  "
            ]
          },
          "metadata": {},
          "execution_count": 34
        }
      ]
    },
    {
      "cell_type": "markdown",
      "source": [
        "## adding test dataset"
      ],
      "metadata": {
        "id": "jgsCwr5JBiUp"
      }
    },
    {
      "cell_type": "code",
      "source": [
        "test_dataset = {\"claim\":[], \"label\":[]}"
      ],
      "metadata": {
        "id": "MZs1e0l0BXjz"
      },
      "execution_count": null,
      "outputs": []
    },
    {
      "cell_type": "code",
      "source": [
        "len(test_dataset['label'])"
      ],
      "metadata": {
        "colab": {
          "base_uri": "https://localhost:8080/"
        },
        "id": "rDMJ6dByDkO_",
        "outputId": "a2fd3df6-f8f5-494b-ec79-f37508f40ce2"
      },
      "execution_count": null,
      "outputs": [
        {
          "output_type": "execute_result",
          "data": {
            "text/plain": [
              "0"
            ]
          },
          "metadata": {},
          "execution_count": 26
        }
      ]
    },
    {
      "cell_type": "code",
      "source": [
        "test_dataset['label'][-10:]"
      ],
      "metadata": {
        "colab": {
          "base_uri": "https://localhost:8080/"
        },
        "id": "lp1jdosRS5GO",
        "outputId": "1931a2d9-1d31-407c-cdff-b2c5d44f3c8f"
      },
      "execution_count": null,
      "outputs": [
        {
          "output_type": "execute_result",
          "data": {
            "text/plain": [
              "[]"
            ]
          },
          "metadata": {},
          "execution_count": 27
        }
      ]
    },
    {
      "cell_type": "code",
      "source": [
        "test_dataset['claim'][:10]"
      ],
      "metadata": {
        "colab": {
          "base_uri": "https://localhost:8080/"
        },
        "id": "9rGHfk15Rghm",
        "outputId": "876d1590-d18a-4dac-9047-dea55ef8c21b"
      },
      "execution_count": null,
      "outputs": [
        {
          "output_type": "execute_result",
          "data": {
            "text/plain": [
              "[]"
            ]
          },
          "metadata": {},
          "execution_count": 28
        }
      ]
    },
    {
      "cell_type": "code",
      "source": [
        "# positive sampling\n",
        "length = filter.shape[0]\n",
        "count = 0\n",
        "while True:\n",
        "  # i = random.randint(0, length - 1)\n",
        "  i = count\n",
        "  superclass = filter[columns[0]].tolist()[i]\n",
        "  subclass = filter[columns[2]].tolist()[i]\n",
        "  sup = superclass.split(\"/\")[-1].replace(\">\", \"\").replace(\"_\", \" \")\n",
        "  sub = subclass.split(\"/\")[-1].replace(\">\", \"\").replace(\"_\", \" \")\n",
        "  claim = create_sentece_parent(sup, sub)\n",
        "  test_dataset[\"claim\"].append(claim)\n",
        "  test_dataset[\"label\"].append(1)\n",
        "  \n",
        "  count += 1\n",
        "  if count % 1000 ==0:\n",
        "    print(count)\n",
        "\n",
        "  if count >= 48000:\n",
        "    break"
      ],
      "metadata": {
        "colab": {
          "base_uri": "https://localhost:8080/"
        },
        "id": "idyteQlEBkQx",
        "outputId": "e6c1dd7b-cbed-45d4-fbf2-3d0a2a7fd48d"
      },
      "execution_count": null,
      "outputs": [
        {
          "output_type": "stream",
          "name": "stdout",
          "text": [
            "1000\n",
            "2000\n",
            "3000\n",
            "4000\n",
            "5000\n",
            "6000\n",
            "7000\n",
            "8000\n",
            "9000\n",
            "10000\n",
            "11000\n",
            "12000\n",
            "13000\n",
            "14000\n",
            "15000\n",
            "16000\n",
            "17000\n",
            "18000\n",
            "19000\n",
            "20000\n",
            "21000\n",
            "22000\n",
            "23000\n",
            "24000\n",
            "25000\n",
            "26000\n",
            "27000\n",
            "28000\n",
            "29000\n",
            "30000\n",
            "31000\n",
            "32000\n",
            "33000\n",
            "34000\n",
            "35000\n",
            "36000\n",
            "37000\n",
            "38000\n",
            "39000\n",
            "40000\n",
            "41000\n",
            "42000\n",
            "43000\n",
            "44000\n",
            "45000\n",
            "46000\n",
            "47000\n",
            "48000\n"
          ]
        }
      ]
    },
    {
      "cell_type": "code",
      "source": [
        "# negative sampling\n",
        "length = filter.shape[0]\n",
        "count = 0\n",
        "while True:\n",
        "  # i = random.randint(0, length - 1)\n",
        "  i = random.randint(0, length-1)\n",
        "  superclass = filter[columns[0]].tolist()[i]\n",
        "  subclass = filter[columns[2]].tolist()[i]\n",
        "  parent = superclass.split(\"/\")[-1].replace(\">\", \"\").replace(\"_\", \" \")\n",
        "  child = subclass.split(\"/\")[-1].replace(\">\", \"\").replace(\"_\", \" \")\n",
        "  claim = create_sentece_parent(child, parent)\n",
        "  test_dataset[\"claim\"].append(claim)\n",
        "  test_dataset[\"label\"].append(0)\n",
        "  \n",
        "  count += 1\n",
        "  if count % 1000 ==0:\n",
        "    print(count)\n",
        "\n",
        "  if count >= length / 2:\n",
        "    break"
      ],
      "metadata": {
        "colab": {
          "base_uri": "https://localhost:8080/"
        },
        "id": "tKllfMNQO7BY",
        "outputId": "5d02b73c-dff5-480a-944f-5bd5a18c1c5f"
      },
      "execution_count": null,
      "outputs": [
        {
          "output_type": "stream",
          "name": "stdout",
          "text": [
            "1000\n",
            "2000\n",
            "3000\n",
            "4000\n",
            "5000\n",
            "6000\n",
            "7000\n",
            "8000\n",
            "9000\n",
            "10000\n",
            "11000\n",
            "12000\n",
            "13000\n",
            "14000\n",
            "15000\n",
            "16000\n",
            "17000\n",
            "18000\n",
            "19000\n",
            "20000\n",
            "21000\n",
            "22000\n",
            "23000\n",
            "24000\n"
          ]
        }
      ]
    },
    {
      "cell_type": "markdown",
      "source": [
        "### negative smapling"
      ],
      "metadata": {
        "id": "Lrajb4crCJpZ"
      }
    },
    {
      "cell_type": "code",
      "source": [
        "import networkx as nx\n",
        "G = nx.DiGraph()\n",
        "\n",
        "for index, row in filter.iterrows():\n",
        "  #t = (row['sub'], row['obj'])\n",
        "  G.add_edge(row[columns[0]], row[columns[2]], weight=1)"
      ],
      "metadata": {
        "id": "5orh7Ej_CPb_"
      },
      "execution_count": null,
      "outputs": []
    },
    {
      "cell_type": "code",
      "source": [
        "totol_concept = filter[columns[0]].unique().tolist() + filter[columns[2]].unique().tolist()"
      ],
      "metadata": {
        "id": "kA0B6LhXC1wM"
      },
      "execution_count": null,
      "outputs": []
    },
    {
      "cell_type": "code",
      "source": [
        "i = 0\n",
        "length = len(totol_concept)\n",
        "while True:\n",
        "  index_1 = random.randint(0, length-1)\n",
        "  index_2 = random.randint(0, length-1)\n",
        "\n",
        "  sub = totol_concept[index_1]\n",
        "  obj = totol_concept[index_2]\n",
        "  has_path = nx.has_path(G,sub,obj)\n",
        "  if not has_path:\n",
        "    claim = create_sentece_parent(sub, obj)\n",
        "    test_dataset[\"claim\"].append(claim)\n",
        "    test_dataset[\"label\"].append(0)\n",
        "    i += 1\n",
        "    if i % 1000 ==0:\n",
        "      print(i)\n",
        "    if i >= 24000:\n",
        "      break"
      ],
      "metadata": {
        "colab": {
          "base_uri": "https://localhost:8080/"
        },
        "id": "-qi4F1UrCMHi",
        "outputId": "68a72f1b-dc46-4139-e170-4063125c1223"
      },
      "execution_count": null,
      "outputs": [
        {
          "output_type": "stream",
          "name": "stdout",
          "text": [
            "1000\n",
            "2000\n",
            "3000\n",
            "4000\n",
            "5000\n",
            "6000\n",
            "7000\n",
            "8000\n",
            "9000\n",
            "10000\n",
            "11000\n",
            "12000\n",
            "13000\n",
            "14000\n",
            "15000\n",
            "16000\n",
            "17000\n",
            "18000\n",
            "19000\n",
            "20000\n",
            "21000\n",
            "22000\n",
            "23000\n",
            "24000\n"
          ]
        }
      ]
    },
    {
      "cell_type": "markdown",
      "source": [
        "## Get is-a relations"
      ],
      "metadata": {
        "id": "rIat_IKKTss6"
      }
    },
    {
      "cell_type": "code",
      "source": [
        "relations[0]"
      ],
      "metadata": {
        "id": "KhuC-sidgdD1"
      },
      "execution_count": null,
      "outputs": []
    },
    {
      "cell_type": "code",
      "source": [
        "filter = cso.loc[cso[columns[1]] == relations[1]] # only is-a relation"
      ],
      "metadata": {
        "id": "2DlIa0fzImdb"
      },
      "execution_count": null,
      "outputs": []
    },
    {
      "cell_type": "code",
      "source": [
        "filter.head(10)\n"
      ],
      "metadata": {
        "id": "DEa8JdZBIwpX"
      },
      "execution_count": null,
      "outputs": []
    },
    {
      "cell_type": "code",
      "source": [
        "subject = filter[columns[0]].tolist()[0]"
      ],
      "metadata": {
        "id": "Ml-asYO9LLS7"
      },
      "execution_count": null,
      "outputs": []
    },
    {
      "cell_type": "code",
      "source": [
        "subject.split(\"/\")[-1].replace(\">\", \"\").replace(\"_\", \" \") # replace \"_\""
      ],
      "metadata": {
        "id": "ja2aAa7yLmmp"
      },
      "execution_count": null,
      "outputs": []
    },
    {
      "cell_type": "code",
      "source": [
        "for i in range(len(filter)):\n",
        "  superclass = filter[columns[0]].tolist()[i]\n",
        "  subclass = filter[columns[2]].tolist()[i]\n",
        "  sup = superclass.split(\"/\")[-1].replace(\">\", \"\").replace(\"_\", \" \")\n",
        "  sub = subclass.split(\"/\")[-1].replace(\">\", \"\").replace(\"_\", \" \")\n",
        "  claim = createSentece(sub, sup)\n",
        "  dataset[\"claim\"].append(claim)\n",
        "  dataset[\"label\"].append(1)\n",
        "  if i % 1000 ==0:\n",
        "    print(i)"
      ],
      "metadata": {
        "id": "fybsQco2OJuL"
      },
      "execution_count": null,
      "outputs": []
    },
    {
      "cell_type": "markdown",
      "source": [
        "## Get non-is_a relation"
      ],
      "metadata": {
        "id": "YZcCyfnaT5gj"
      }
    },
    {
      "cell_type": "code",
      "source": [
        "filter = cso.loc[cso[columns[1]] == relations[2]] # only is-a relation"
      ],
      "metadata": {
        "id": "_MGy9WT0TqqK"
      },
      "execution_count": null,
      "outputs": []
    },
    {
      "cell_type": "code",
      "source": [
        "for i in range(len(filter)):\n",
        "  superclass = filter[columns[0]].tolist()[i]\n",
        "  subclass = filter[columns[2]].tolist()[i]\n",
        "  sup = superclass.split(\"/\")[-1].replace(\">\", \"\").replace(\"_\", \" \")\n",
        "  sub = subclass.split(\"/\")[-1].replace(\">\", \"\").replace(\"_\", \" \")\n",
        "  claim = createSentece(sup, sub)\n",
        "  # print(claim)\n",
        "  dataset[\"claim\"].append(claim)\n",
        "  dataset[\"label\"].append(0)\n",
        "  if i % 1000 ==0:\n",
        "    print(i)"
      ],
      "metadata": {
        "id": "eRHhDaWrWIaM"
      },
      "execution_count": null,
      "outputs": []
    },
    {
      "cell_type": "markdown",
      "source": [
        "# Save dict"
      ],
      "metadata": {
        "id": "2TStloFJbIcj"
      }
    },
    {
      "cell_type": "code",
      "source": [
        "\n",
        "# load pickle module\n",
        "import pickle\n",
        "\n",
        "# define dictionary\n",
        "\n",
        "\n",
        "# create a binary pickle file \n",
        "f = open(\"/content/drive/MyDrive/599/project_data/train_dataset.pkl\",\"wb\")\n",
        "\n",
        "# write the python object (dict) to pickle file\n",
        "pickle.dump(dataset,f)\n",
        "\n",
        "# close file\n",
        "f.close()\n",
        "\n",
        "# create a binary pickle file \n",
        "f = open(\"/content/drive/MyDrive/599/project_data/test_dataset.pkl\",\"wb\")\n",
        "\n",
        "# write the python object (dict) to pickle file\n",
        "pickle.dump(test_dataset,f)\n",
        "\n",
        "# close file\n",
        "f.close()"
      ],
      "metadata": {
        "id": "eCjFdaRnbLub"
      },
      "execution_count": null,
      "outputs": []
    },
    {
      "cell_type": "code",
      "source": [
        "import pickle\n",
        "\n",
        "with open('/content/drive/MyDrive/599/project_data/train_dataset.pkl', 'rb') as handle:\n",
        "    train_dataset = pickle.load(handle)\n",
        "    print(len(train_dataset[\"label\"]))\n",
        "\n",
        "\n",
        "with open('/content/drive/MyDrive/599/project_data/test_dataset.pkl', 'rb') as handle:\n",
        "    test_dataset = pickle.load(handle)\n",
        "    print(len(test_dataset[\"label\"]))"
      ],
      "metadata": {
        "colab": {
          "base_uri": "https://localhost:8080/"
        },
        "id": "enqa3aU2bnRA",
        "outputId": "0a65f2f9-52e5-43a5-cf96-3f4d52ad9d77"
      },
      "execution_count": null,
      "outputs": [
        {
          "output_type": "stream",
          "name": "stdout",
          "text": [
            "326244\n",
            "96201\n"
          ]
        }
      ]
    },
    {
      "cell_type": "markdown",
      "source": [
        "# Pre-trained Language Model_baseline\n",
        "\n"
      ],
      "metadata": {
        "id": "7Q9b_gHPPCmA"
      }
    },
    {
      "cell_type": "code",
      "source": [
        "def freeze_params(model):\n",
        "    # TODO: your work below\n",
        "    pass\n",
        "    for para in model.parameters():\n",
        "      para.requires_grad = False"
      ],
      "metadata": {
        "id": "6iTvCPmABZrp"
      },
      "execution_count": null,
      "outputs": []
    },
    {
      "cell_type": "code",
      "source": [
        "class CustomDistilBert(nn.Module):\n",
        "    def __init__(self):\n",
        "        super().__init__()\n",
        "\n",
        "        pass\n",
        "        self.distilbert = transformers.AutoModel.from_pretrained('allenai/scibert_scivocab_uncased')\n",
        "        self.tokenizer = transformers.AutoTokenizer.from_pretrained('allenai/scibert_scivocab_uncased')\n",
        "        dim = self.distilbert.config.hidden_size\n",
        "        \n",
        "        # freeze bert\n",
        "        # \n",
        "\n",
        "        self.pred_layer = nn.Linear(dim,1)  \n",
        "        self.sigmoid = nn.Sigmoid()\n",
        "        self.criterion = nn.BCELoss()\n",
        "    # vvvvv DO NOT CHANGE BELOW THIS LINE vvvvv\n",
        "    def get_distilbert(self):\n",
        "        return self.distilbert\n",
        "    def get_tokenizer(self):\n",
        "        return self.tokenizer\n",
        "    def get_pred_layer(self):\n",
        "        return self.pred_layer\n",
        "    def get_sigmoid(self):\n",
        "        return self.sigmoid\n",
        "    \n",
        "    def get_criterion(self):\n",
        "        return self.criterion\n",
        "    # ^^^^^ DO NOT CHANGE ABOVE THIS LINE ^^^^^\n",
        "    def assign_optimizer(self, **kwargs):\n",
        "        \n",
        "        optimizer = torch.optim.Adam(self.parameters(), **kwargs)\n",
        "        return optimizer\n",
        "\n",
        "    def slice_cls_hidden_state(\n",
        "        self, x: transformers.modeling_outputs.BaseModelOutput\n",
        "    ) -> torch.Tensor:\n",
        "\n",
        "        return x.last_hidden_state[:,0,:]\n",
        "\n",
        "\n",
        "    def tokenize(\n",
        "        self,\n",
        "        premise: \"list[str]\",\n",
        "        # hypothesis: \"list[str]\",\n",
        "        max_length: int = 128,\n",
        "        truncation: bool = True,\n",
        "        padding: bool = True,\n",
        "    ):\n",
        "        \n",
        "        model_tokenize = self.get_tokenizer()\n",
        "        return model_tokenize(premise, max_length=max_length, truncation=truncation, padding=padding,\n",
        "                         return_tensors='pt')\n",
        "\n",
        "    def forward(self, inputs: transformers.BatchEncoding):\n",
        "        \n",
        "        model = self.get_distilbert()\n",
        "        pred = self.get_pred_layer()\n",
        "        sigmoid = self.get_sigmoid()\n",
        "\n",
        "        output = model(**inputs) #  output of your tokenizer\n",
        "        output = self.slice_cls_hidden_state(output)\n",
        "        output = pred(output)\n",
        "        output = sigmoid(output)\n",
        "        output = torch.squeeze(output)\n",
        "        \n",
        "        return output"
      ],
      "metadata": {
        "id": "dKzs1BCUPFjC"
      },
      "execution_count": null,
      "outputs": []
    },
    {
      "cell_type": "code",
      "source": [
        "@torch.no_grad()\n",
        "def eval_distilbert(model, loader, device):\n",
        "    model.eval()\n",
        "    targets = []\n",
        "    preds = []\n",
        "    for claim, target in tqdm(loader):\n",
        "        preds.append(model(model.tokenize(claim).to(device)))\n",
        "        targets.append(target)\n",
        "    return torch.cat(preds), torch.cat(targets)\n",
        "\n",
        "def train_distilbert(model, loader, device):\n",
        "    model.train()\n",
        "    criterion = model.get_criterion()\n",
        "    total_loss = 0.0\n",
        "\n",
        "    targets = []\n",
        "    preds = []\n",
        "\n",
        "    for claim, label in tqdm(loader):\n",
        "        optimizer.zero_grad()\n",
        "        inputs = model.tokenize(claim).to(device)\n",
        "        target = label.to(device, dtype=torch.float32)\n",
        "        pred = model(inputs)\n",
        "        loss = criterion(pred, target)\n",
        "        loss.backward()\n",
        "        optimizer.step()\n",
        "        total_loss += loss.item()\n",
        "        # print(model.pred_layer.grad)\n",
        "\n",
        "        preds.append(pred)\n",
        "        targets.append(target)\n",
        "\n",
        "    return total_loss / len(loader), torch.cat(preds), torch.cat(targets)\n",
        "\n",
        "\n",
        "\n",
        "\n",
        "class NLIDataset(torch.utils.data.Dataset):\n",
        "    def __init__(self, data_dict: dict):\n",
        "        self.data_dict = data_dict\n",
        "        dd = data_dict\n",
        "        if len(dd[\"claim\"]) != len(dd[\"label\"]):\n",
        "            raise AttributeError(\"Incorrect length in data_dict\")\n",
        "    def __len__(self):\n",
        "        return len(self.data_dict[\"claim\"])\n",
        "    def __getitem__(self, idx):\n",
        "        dd = self.data_dict\n",
        "        return dd[\"claim\"][idx], dd[\"label\"][idx]"
      ],
      "metadata": {
        "id": "IF5_-c4PPJy-"
      },
      "execution_count": null,
      "outputs": []
    },
    {
      "cell_type": "code",
      "source": [
        "def load_datasets(data_directory: str) -> Union[dict, dict]:\n",
        "    \"\"\"\n",
        "    Reads the training and validation splits from disk and load\n",
        "    them into memory.\n",
        "    Parameters\n",
        "    ----------\n",
        "    data_directory: str\n",
        "        The directory where the data is stored.\n",
        "    \n",
        "    Returns\n",
        "    -------\n",
        "    train: dict\n",
        "        The train dictionary with keys 'premise', 'hypothesis', 'label'.\n",
        "    validation: dict\n",
        "        The validation dictionary with keys 'premise', 'hypothesis', 'label'.\n",
        "    \"\"\"\n",
        "    import json\n",
        "    import os\n",
        "    with open(os.path.join(data_directory, \"train.json\"), \"r\") as f:\n",
        "        train = json.load(f)\n",
        "    with open(os.path.join(data_directory, \"validation.json\"), \"r\") as f:\n",
        "        valid = json.load(f)\n",
        "    return train, valid"
      ],
      "metadata": {
        "id": "wEX9cy1nPWT5"
      },
      "execution_count": null,
      "outputs": []
    },
    {
      "cell_type": "markdown",
      "source": [
        "## Training"
      ],
      "metadata": {
        "id": "QQWDRcEJavDc"
      }
    },
    {
      "cell_type": "code",
      "source": [
        "claim = [\"one\", \"one\", \"one\", \"one\", \"one\", \"one\", \"one\", \"one\", \"one\", \"one\", \"one\", \"one\", 'asd' ]\n",
        "label = [0,1,0,0,1,1,0,1,0,1,1,1, 0]\n",
        "dataset = {'claim':claim, 'label':label}"
      ],
      "metadata": {
        "id": "EOWLskUuWi5U"
      },
      "execution_count": null,
      "outputs": []
    },
    {
      "cell_type": "code",
      "source": [
        "device = torch.device(\"cuda\" if torch.cuda.is_available() else \"cpu\")\n",
        "model = CustomDistilBert().to(device)\n",
        "freeze_params(model.get_distilbert()) "
      ],
      "metadata": {
        "colab": {
          "base_uri": "https://localhost:8080/",
          "height": 185,
          "referenced_widgets": [
            "b9514f43c0064b628b524fb1cb668933",
            "f2dbc717f2e14ac88889b15d32cc3d20",
            "d02e4ebe044e48968104c25ef7ddf3c2",
            "eed7934f53d94f6dbbc300e1e57e2d8f",
            "ffda26b2342a4d74be5de7b30241c7d5",
            "93c3f222a9ca44ffba0ef197db504638",
            "097b81484c034702bbc0ba86e3ffdd36",
            "567ad829456e418198e83ec7e0c6c70b",
            "266972e2d7484836995dd39fa5d2b47b",
            "3cc91cd7d35849a185506e044d29e7bc",
            "cb6a2b2273594daeb495ca4c21b1a624",
            "08afb3207f1d40d282d640bbe952673c",
            "52e11b0fb5204910ab1c793b2a002689",
            "e048ec4e8b0949a6852fed585e358a91",
            "948bcb78c4ce4ed68165ad4e97d0ae32",
            "e36da56a4ba749b8aef36f2915aed988",
            "bc8b011daf0e4911ba0182a30d250c8f",
            "979bee49a3564ac6941b81095d2e6542",
            "eb03e22af5b5496c892741042f44c66c",
            "ce80c6fbb0a14b3a99811346a6d07e40",
            "5365129695b6412aa9a402751bf4a38e",
            "6a5710c751084f2180c546e03c029d7e",
            "24dea5377dd548acb3e50bdd9efcd8f0",
            "0448f2849549435d89c5ec327936171e",
            "2916003d858e4eb4a26bc2d51f0f44ad",
            "45cfb15e8b564ab09699c7ca5ef6cb08",
            "fa768070666b4888bad7c355b1e9c883",
            "3fdcbe6ab8ce4b96b561fa7f07a325b9",
            "e7e0c3b576fc4c9e9b3d93073dbdeee5",
            "6784e805583945fcbd5cb9e630897a9f",
            "8a2be908a4ec47dd9bb4f37f1f3cdfbd",
            "316d81e04bb64bfb9bdc8c4c7732a353",
            "eb2ef5bfdb8d4750bb59232b2c78b25f"
          ]
        },
        "id": "pXMrvkpiaZbS",
        "outputId": "4164bdbf-ee45-4449-8e7b-56111f60879e"
      },
      "execution_count": null,
      "outputs": [
        {
          "output_type": "display_data",
          "data": {
            "text/plain": [
              "Downloading:   0%|          | 0.00/385 [00:00<?, ?B/s]"
            ],
            "application/vnd.jupyter.widget-view+json": {
              "version_major": 2,
              "version_minor": 0,
              "model_id": "b9514f43c0064b628b524fb1cb668933"
            }
          },
          "metadata": {}
        },
        {
          "output_type": "display_data",
          "data": {
            "text/plain": [
              "Downloading:   0%|          | 0.00/442M [00:00<?, ?B/s]"
            ],
            "application/vnd.jupyter.widget-view+json": {
              "version_major": 2,
              "version_minor": 0,
              "model_id": "08afb3207f1d40d282d640bbe952673c"
            }
          },
          "metadata": {}
        },
        {
          "output_type": "stream",
          "name": "stderr",
          "text": [
            "Some weights of the model checkpoint at allenai/scibert_scivocab_uncased were not used when initializing BertModel: ['cls.seq_relationship.bias', 'cls.seq_relationship.weight', 'cls.predictions.decoder.bias', 'cls.predictions.transform.dense.weight', 'cls.predictions.transform.LayerNorm.bias', 'cls.predictions.transform.dense.bias', 'cls.predictions.bias', 'cls.predictions.decoder.weight', 'cls.predictions.transform.LayerNorm.weight']\n",
            "- This IS expected if you are initializing BertModel from the checkpoint of a model trained on another task or with another architecture (e.g. initializing a BertForSequenceClassification model from a BertForPreTraining model).\n",
            "- This IS NOT expected if you are initializing BertModel from the checkpoint of a model that you expect to be exactly identical (initializing a BertForSequenceClassification model from a BertForSequenceClassification model).\n"
          ]
        },
        {
          "output_type": "display_data",
          "data": {
            "text/plain": [
              "Downloading:   0%|          | 0.00/228k [00:00<?, ?B/s]"
            ],
            "application/vnd.jupyter.widget-view+json": {
              "version_major": 2,
              "version_minor": 0,
              "model_id": "24dea5377dd548acb3e50bdd9efcd8f0"
            }
          },
          "metadata": {}
        }
      ]
    },
    {
      "cell_type": "code",
      "source": [
        "import pandas as pd\n",
        "from sklearn.metrics import f1_score  # Make sure sklearn is installed\n",
        "from sklearn.metrics import accuracy_score\n",
        "from sklearn.metrics import confusion_matrix\n",
        "\n",
        "# random.seed(2022)\n",
        "# torch.manual_seed(2022)\n",
        "\n",
        "# Parameters\n",
        "sample_size = None  # Change this if you want to take a subset of data for testing\n",
        "batch_size = 128\n",
        "n_epochs = 5\n",
        "num_words = 50000\n",
        "\n",
        "# If you use GPUs, use the code below:\n",
        "device = torch.device(\"cuda\" if torch.cuda.is_available() else \"cpu\")\n",
        "\n",
        "# ###################### PART 1: TEST CODE ######################\n",
        "# Prefilled code showing you how to use the helper functions\n",
        "# train_raw, valid_raw = load_datasets(\"data/nli\")\n",
        "\n",
        "\n",
        "\n",
        "train_raw = {}\n",
        "if sample_size is not None:\n",
        "    for key in [\"claim\", \"label\"]:\n",
        "        train_raw[key] = dataset[key][:sample_size]\n",
        "        \n",
        "    test_raw = train_raw\n",
        "else:\n",
        "  train_raw = train_dataset\n",
        "  test_raw = test_dataset\n",
        "\n",
        "print(\"=\" * 80)\n",
        "print(\"Running test code for part 1\")\n",
        "print(\"-\" * 80)\n",
        "\n",
        "\n",
        "train_loader = torch.utils.data.DataLoader(\n",
        "    NLIDataset(train_raw), batch_size=batch_size, shuffle=True\n",
        ")\n",
        "\n",
        "test_loader = torch.utils.data.DataLoader(\n",
        "    NLIDataset(test_raw), batch_size=batch_size, shuffle=False\n",
        ")\n",
        "\n",
        "\n",
        "\n"
      ],
      "metadata": {
        "colab": {
          "base_uri": "https://localhost:8080/"
        },
        "id": "7ZtsyibfPaz3",
        "outputId": "5202d722-4a95-4dfd-bad8-3539efaf4ccf"
      },
      "execution_count": null,
      "outputs": [
        {
          "output_type": "stream",
          "name": "stdout",
          "text": [
            "================================================================================\n",
            "Running test code for part 1\n",
            "--------------------------------------------------------------------------------\n"
          ]
        }
      ]
    },
    {
      "cell_type": "code",
      "source": [
        "len(train_raw['label'])"
      ],
      "metadata": {
        "id": "Y6uLFk5BUckp",
        "colab": {
          "base_uri": "https://localhost:8080/"
        },
        "outputId": "81c5d8b3-8195-4873-d56e-5e9b583cd779"
      },
      "execution_count": null,
      "outputs": [
        {
          "output_type": "execute_result",
          "data": {
            "text/plain": [
              "326244"
            ]
          },
          "metadata": {},
          "execution_count": 15
        }
      ]
    },
    {
      "cell_type": "code",
      "source": [
        "model = model.to(device)\n",
        "optimizer = model.assign_optimizer(lr=1e-4)\n",
        "train_acc_list = []\n",
        "train_f1_list = []\n",
        "test_acc_list = []\n",
        "test_f1_list = []\n",
        "for epoch in range(n_epochs):\n",
        "    loss, preds, targets = train_distilbert(model, train_loader, device=device)\n",
        "    preds = preds.round()\n",
        "    train_acc = accuracy_score(targets.detach().cpu(), preds.detach().cpu())\n",
        "    train_acc_list.append(train_acc)\n",
        "    score = f1_score(targets.detach().cpu(), preds.detach().cpu())\n",
        "    train_f1_list.append(score)\n",
        "\n",
        "\n",
        "    preds, targets = eval_distilbert(model, test_loader, device=device)\n",
        "    preds = preds.round()\n",
        "    acc = accuracy_score(targets.cpu(), preds.cpu())\n",
        "    test_acc_list.append(acc)\n",
        "    f1 = f1_score(targets.cpu(), preds.cpu())\n",
        "    test_f1_list.append(f1)\n",
        "\n",
        "    print(\"Epoch:\", epoch)\n",
        "    print(\"Training loss:\", loss)\n",
        "    print(\"Training acc:\", train_acc)\n",
        "    print(\"Train f1:\", score)\n",
        "\n",
        "\n",
        "    print(\"Test acc:\", acc)\n",
        "    print(\"Test f1:\", f1)\n",
        "    torch.save(model.state_dict(), \"/content/drive/MyDrive/599/project_data/baseline_model\")\n",
        "    print(\"model saved\")"
      ],
      "metadata": {
        "id": "jax5PIoRcQFP",
        "colab": {
          "base_uri": "https://localhost:8080/",
          "height": 944,
          "referenced_widgets": [
            "64c650611e5e418dae14bda413436d68",
            "5ff4a21c289c475daf240ec2f2028dc4",
            "60db8e2133094898aff901ae37d3cd18",
            "204009c8afcb4dbfa56576e06a09bd2c",
            "d6bfc086b720425a9c9e9a07584000bc",
            "b244b857ef8d41d6b3017d3cebf658e1",
            "2d1583203403472688dd16761068fc91",
            "87b1d564de934b0895bf0f7ea0faf834",
            "6cbe345c86f7483fba1a0825accf175d",
            "6a12666d81ea4d70a90ae34606b79af8",
            "49921464a50149209309bf6d96911e72",
            "a05a50c123bc4e5da5eb1ff2fbc9e4a6",
            "599763b078384c949dafe4cebf991517",
            "948f636e9bee4ad1aee374bae38ed85e",
            "15966c67ce374b3b8d4ca73c9a30a112",
            "a711d8534c9947c8b0737270e6ddbd83",
            "27bc0064d69c4e298470e362feba0b27",
            "42446a037a1646d99448b16b12f60600",
            "90f6bb474d1d4e5b923f2d49d1eb17fc",
            "e4eba7c68c1847ecbecff17303e9c0c0",
            "bb604c240bf34fdcacbbe2b465759c9c",
            "11c07f31e86c42ff973a6429356b3471",
            "274aff5db1b0432f83750436ea3740d8",
            "b629083f66114279a6e44aac12358a4b",
            "6b4ed2ed40404789a864a90236ad7b2d",
            "3d952c9be4b24d16a46cce2458b0092a",
            "49961adf2fe14d1ea9bf05596876cbd5",
            "c62c3699f5714b0986e9ebe2a98dd8fc",
            "a09df85485af4342ae503a7a24b565d6",
            "3c28b5e5b9b14471975c9088037e41b3",
            "ac4d2fe8af874b9bb8559e7b7a6b6d3f",
            "94a69dd4995441f6b59cf9537c1d5e38",
            "8c073908d28e46c98aed99577dc87e6a",
            "17e627d6239b40b19dd008f170b193bb",
            "6b2809f7f1184ad4a38f7ed586313e65",
            "7ff9f3c4327d41d3bc5c4b6c9f1af453",
            "8f6249645242463f81af1a46184a19e9",
            "3594305af7a94ca797c0e8c4e43dde3b",
            "d446455ba3254fda98dbbcba1de14617",
            "5f327802aaad45d19acbca25e92d193e",
            "c388f719b2194dcab0f5c25311b12f6e",
            "9d0f3a76060f49dc8a03d3def76eaef5",
            "3108a144a727479e80b30a52b5fe32bd",
            "6430119edd9d4aa8b802020de5ee339a",
            "4da87611cf8649a8b653b3758367237f",
            "9c2c0bdf47044137a49f4f37eb1a7d72",
            "ba085d6aa9c1439c85f3cc09ff17b6de",
            "b24c0c2aca9b4881905fd4c9e8bdb347",
            "b4303f074036484c941b3f5c9f060bf7",
            "046b541f599240378ebe07449140070e",
            "116f89341a774477aabd79d5ce2a232a",
            "22500fe1af8a4f4aa3933ac644d513f9",
            "26698a544f364b28a913ceac175de4cc",
            "f0abfcdd563a49cf8d864585a6e47ef6",
            "e7ddf9846a594e57a7a48420f4c379c1",
            "196d963cf6cc4db799cd4a365690684d",
            "08cf7077c41540a98a135135a01d6b94",
            "30d757570e7f4f9ebe909eb5aab6517b",
            "4aeffc0bfe47499b8cbcc2cc9a73edeb",
            "5e05ea89b8934127b59bf083b19dbc82",
            "023fc1caa8cd4393b16456b4bd4d428e",
            "2810459fdd4d482f8b08b15afb6f6d41",
            "fbeecd3ce17243a9a00af76e0181ef99",
            "8f218422dc5c4aaf884a0a0d15c524ad",
            "cc3b0b9346374e4a9f3106a50f42f05d",
            "eb272eb487e0405d9da9b3ed7644b2e6",
            "1bd832c42c374bea83a994b5d0f8573d",
            "cdbb969b35674f3780637ab9cfe6f0b5",
            "b1e87c1d7282418bb4f3c90b82e0a4de",
            "9f7a1b91fd28498d941456a3270caa38",
            "7f8721599aa843a2ab2c8e54aeacd3e7",
            "87b1a22d6f504839875684bfb8b43d37",
            "8c3fab315ba843bc9c50555046e25a8a",
            "de2708f1c46946c38d9589e479dae8c5",
            "58ca4a381a984e89be9188f02ba9f0ac",
            "f883b22f60f342759cfeefdf1b7c9ef9",
            "82414063dd0d42eea6295323d63aacac",
            "0c8d45526e8243729374af06b2b6d502",
            "b947893641a94cbb81ddbaeefc6b7ecf",
            "881f216c81884e328a589f3472f9b390",
            "3a2f1517c0ae4761ae2cf61a5d58c4b7",
            "e07ed76faaa04e128e350cbcee41b43a",
            "2d57d4f2ae5f4bd5957f48bd3d9b7b03",
            "647b743cc7434567b5110447369c774b",
            "9d4a61e5f2e343d497b2f54b4cf6891f",
            "3289779771ce43138de135254291c3fb",
            "6d9cefeb5c9a4f4396ceddb671469226",
            "69fac81760ed4be8913b5ce6b4112474",
            "e2c5763607e54c87bb20433c5da58d97",
            "2c9dfe7257744176aeb1f361288b5df8",
            "3fdb269d63024965972b1bac268d918e",
            "561cfa5e1fc540fe829641b9de412816",
            "7bf7f23c0f2246c893cc459e48f3ad87",
            "cd9490478ded4216b35f3241d6a8a15d",
            "21ab38fe16424d52b6ef0a05a334aff7",
            "8f848260e6684bc081f4afc08eedecfd",
            "4b6bee99374a4107a7095d385bb81485",
            "a71615893a754ab0b19107b4fdff0c7e",
            "e1580ec14ef844dc9b8db0cd5122f4f3",
            "d65e97bf19d64dedbfbbcfa730dde11c",
            "ccccd9ab5279480cba5974ea79f6c1be",
            "70415001cf904822a807742055c87ecc",
            "7a5fed7dee2d48b597353f1f09732925",
            "90dd24586d4644e0a7caf19a01ef22a4",
            "c4068b0a89a543c5986841113f312579",
            "40cfc63dae274039925c88cd2e961b4b",
            "d5a942d18cc8446890aeb2fa2fd56849",
            "3f604d40015c4aef99e14162bb9ffaf8",
            "50951e5b05e64c99bb29663ff0579efb",
            "0eab2b8ad2a14e57995acfa5a5bda2a1"
          ]
        },
        "outputId": "2d24b6dd-5bdb-4fbd-82ee-c5bcb2e052a6"
      },
      "execution_count": null,
      "outputs": [
        {
          "output_type": "display_data",
          "data": {
            "text/plain": [
              "  0%|          | 0/2549 [00:00<?, ?it/s]"
            ],
            "application/vnd.jupyter.widget-view+json": {
              "version_major": 2,
              "version_minor": 0,
              "model_id": "64c650611e5e418dae14bda413436d68"
            }
          },
          "metadata": {}
        },
        {
          "output_type": "display_data",
          "data": {
            "text/plain": [
              "  0%|          | 0/752 [00:00<?, ?it/s]"
            ],
            "application/vnd.jupyter.widget-view+json": {
              "version_major": 2,
              "version_minor": 0,
              "model_id": "a05a50c123bc4e5da5eb1ff2fbc9e4a6"
            }
          },
          "metadata": {}
        },
        {
          "output_type": "stream",
          "name": "stdout",
          "text": [
            "Epoch: 0\n",
            "Training loss: 0.4490354719022621\n",
            "Training acc: 0.7251688919949486\n",
            "Train f1: 0.5823652708556524\n",
            "Test acc: 0.7314788827558965\n",
            "Test f1: 0.755526953361599\n",
            "model saved\n"
          ]
        },
        {
          "output_type": "display_data",
          "data": {
            "text/plain": [
              "  0%|          | 0/2549 [00:00<?, ?it/s]"
            ],
            "application/vnd.jupyter.widget-view+json": {
              "version_major": 2,
              "version_minor": 0,
              "model_id": "274aff5db1b0432f83750436ea3740d8"
            }
          },
          "metadata": {}
        },
        {
          "output_type": "display_data",
          "data": {
            "text/plain": [
              "  0%|          | 0/752 [00:00<?, ?it/s]"
            ],
            "application/vnd.jupyter.widget-view+json": {
              "version_major": 2,
              "version_minor": 0,
              "model_id": "17e627d6239b40b19dd008f170b193bb"
            }
          },
          "metadata": {}
        },
        {
          "output_type": "stream",
          "name": "stdout",
          "text": [
            "Epoch: 1\n",
            "Training loss: 0.4473605841900985\n",
            "Training acc: 0.7272685474675397\n",
            "Train f1: 0.5862208477689679\n",
            "Test acc: 0.7341503726572489\n",
            "Test f1: 0.7618205015971763\n",
            "model saved\n"
          ]
        },
        {
          "output_type": "display_data",
          "data": {
            "text/plain": [
              "  0%|          | 0/2549 [00:00<?, ?it/s]"
            ],
            "application/vnd.jupyter.widget-view+json": {
              "version_major": 2,
              "version_minor": 0,
              "model_id": "4da87611cf8649a8b653b3758367237f"
            }
          },
          "metadata": {}
        },
        {
          "output_type": "display_data",
          "data": {
            "text/plain": [
              "  0%|          | 0/752 [00:00<?, ?it/s]"
            ],
            "application/vnd.jupyter.widget-view+json": {
              "version_major": 2,
              "version_minor": 0,
              "model_id": "196d963cf6cc4db799cd4a365690684d"
            }
          },
          "metadata": {}
        },
        {
          "output_type": "stream",
          "name": "stdout",
          "text": [
            "Epoch: 2\n",
            "Training loss: 0.4467917205703731\n",
            "Training acc: 0.7287490344650016\n",
            "Train f1: 0.588667844194478\n",
            "Test acc: 0.7360526397854492\n",
            "Test f1: 0.7630282215917575\n",
            "model saved\n"
          ]
        },
        {
          "output_type": "display_data",
          "data": {
            "text/plain": [
              "  0%|          | 0/2549 [00:00<?, ?it/s]"
            ],
            "application/vnd.jupyter.widget-view+json": {
              "version_major": 2,
              "version_minor": 0,
              "model_id": "1bd832c42c374bea83a994b5d0f8573d"
            }
          },
          "metadata": {}
        },
        {
          "output_type": "display_data",
          "data": {
            "text/plain": [
              "  0%|          | 0/752 [00:00<?, ?it/s]"
            ],
            "application/vnd.jupyter.widget-view+json": {
              "version_major": 2,
              "version_minor": 0,
              "model_id": "0c8d45526e8243729374af06b2b6d502"
            }
          },
          "metadata": {}
        },
        {
          "output_type": "stream",
          "name": "stdout",
          "text": [
            "Epoch: 3\n",
            "Training loss: 0.446268692817254\n",
            "Training acc: 0.7287827515601819\n",
            "Train f1: 0.5881005693217949\n",
            "Test acc: 0.73694660138668\n",
            "Test f1: 0.7576285796379657\n",
            "model saved\n"
          ]
        },
        {
          "output_type": "display_data",
          "data": {
            "text/plain": [
              "  0%|          | 0/2549 [00:00<?, ?it/s]"
            ],
            "application/vnd.jupyter.widget-view+json": {
              "version_major": 2,
              "version_minor": 0,
              "model_id": "e2c5763607e54c87bb20433c5da58d97"
            }
          },
          "metadata": {}
        },
        {
          "output_type": "display_data",
          "data": {
            "text/plain": [
              "  0%|          | 0/752 [00:00<?, ?it/s]"
            ],
            "application/vnd.jupyter.widget-view+json": {
              "version_major": 2,
              "version_minor": 0,
              "model_id": "d65e97bf19d64dedbfbbcfa730dde11c"
            }
          },
          "metadata": {}
        },
        {
          "output_type": "stream",
          "name": "stdout",
          "text": [
            "Epoch: 4\n",
            "Training loss: 0.445148378049406\n",
            "Training acc: 0.7310540576991454\n",
            "Train f1: 0.591965996391302\n",
            "Test acc: 0.7383083335932059\n",
            "Test f1: 0.7617650677088756\n",
            "model saved\n"
          ]
        }
      ]
    },
    {
      "cell_type": "markdown",
      "source": [
        "## Plot"
      ],
      "metadata": {
        "id": "0ywmrzeG-QBM"
      }
    },
    {
      "cell_type": "code",
      "source": [
        "print(train_acc_list)"
      ],
      "metadata": {
        "id": "EU7-QY1wKLdW"
      },
      "execution_count": null,
      "outputs": []
    },
    {
      "cell_type": "code",
      "source": [
        "print(train_f1_list)"
      ],
      "metadata": {
        "id": "tbnZ0dOHXWCW"
      },
      "execution_count": null,
      "outputs": []
    },
    {
      "cell_type": "code",
      "source": [
        "print(test_acc_list)"
      ],
      "metadata": {
        "id": "7o60OSpwKNQ2"
      },
      "execution_count": null,
      "outputs": []
    },
    {
      "cell_type": "code",
      "source": [
        "print(test_f1_list)"
      ],
      "metadata": {
        "id": "v14mN92VXaaT"
      },
      "execution_count": null,
      "outputs": []
    },
    {
      "cell_type": "code",
      "source": [
        "\n",
        "import matplotlib.pyplot as plt\n",
        "epochs = range(1,11)\n",
        "plt.plot(epochs, test_acc_list, 'g', label='Test Accuracy_score')\n",
        "plt.plot(epochs, train_acc_list, 'b', label='Train Accuracy_score')\n",
        "plt.title('Accuracy_score vs Epochs')\n",
        "plt.xlabel('Epochs')\n",
        "plt.ylabel('Accuracy_score')\n",
        "plt.legend()\n",
        "plt.show()"
      ],
      "metadata": {
        "id": "ig0O1ihQ-SDp"
      },
      "execution_count": null,
      "outputs": []
    },
    {
      "cell_type": "markdown",
      "source": [
        "## Test acc"
      ],
      "metadata": {
        "id": "qBiq9hY1Gcmw"
      }
    },
    {
      "cell_type": "code",
      "source": [
        "from sklearn.metrics import accuracy_score\n",
        "\n",
        "preds, targets = eval_distilbert(model, test_loader, device=device)\n",
        "preds = preds.round()\n",
        "acc = accuracy_score(targets.cpu(), preds.cpu())\n",
        "print(acc)"
      ],
      "metadata": {
        "colab": {
          "base_uri": "https://localhost:8080/",
          "height": 66,
          "referenced_widgets": [
            "4dd7046e8af048aa9de6e9965f499cd0",
            "eec9d110e9134fbc94fba0f6129dc9c8",
            "4a2ebd5e4acc4e5a961b6c6bad3c59d8",
            "257b8f19930f4763a0c1b97184af9203",
            "59be2c5433f54fe0994b464b16eafa3b",
            "5a8e2243caa94f1dbbf482dbbe5c86e6",
            "7a31ac04b9d34acd90a3e736e55c0673",
            "90bf09bfc64e47a98f259f79ef991614",
            "bafed802e9ce4f4fbe6128fcf14f044c",
            "1c6c3784857b479f98da5c346ac55e5d",
            "924d06f6ee3c49b28e4bb84da073d18c"
          ]
        },
        "id": "tT5DxUiHGeiM",
        "outputId": "a1454e5e-f0b9-44f0-e0f9-5b2b264a5774"
      },
      "execution_count": null,
      "outputs": [
        {
          "output_type": "display_data",
          "data": {
            "text/plain": [
              "  0%|          | 0/752 [00:00<?, ?it/s]"
            ],
            "application/vnd.jupyter.widget-view+json": {
              "version_major": 2,
              "version_minor": 0,
              "model_id": "4dd7046e8af048aa9de6e9965f499cd0"
            }
          },
          "metadata": {}
        },
        {
          "output_type": "stream",
          "name": "stdout",
          "text": [
            "0.7282876477375495\n"
          ]
        }
      ]
    },
    {
      "cell_type": "code",
      "source": [
        "from sklearn.metrics import accuracy_score\n",
        "from sklearn.metrics import confusion_matrix\n",
        "\n",
        "preds, targets = eval_distilbert(model, test_loader, device=device)\n",
        "preds = preds.round()\n",
        "acc = accuracy_score(targets.cpu(), preds.cpu())\n",
        "print(acc)\n",
        "\n",
        "cm = confusion_matrix(targets.cpu(),preds.cpu())"
      ],
      "metadata": {
        "id": "oe5aoe-jQjhG"
      },
      "execution_count": null,
      "outputs": []
    },
    {
      "cell_type": "code",
      "source": [
        "cm"
      ],
      "metadata": {
        "id": "wfMcNGOF_ZUz"
      },
      "execution_count": null,
      "outputs": []
    },
    {
      "cell_type": "code",
      "source": [
        "import array"
      ],
      "metadata": {
        "id": "WzWCOnhWa6e9"
      },
      "execution_count": null,
      "outputs": []
    },
    {
      "cell_type": "code",
      "source": [
        "cm = [[50000,     0], [16692, 31308]]"
      ],
      "metadata": {
        "id": "oDsl3eU5a3C1"
      },
      "execution_count": null,
      "outputs": []
    },
    {
      "cell_type": "code",
      "source": [
        "import matplotlib.pyplot as plt\n",
        "from sklearn.datasets import make_classification\n",
        "from sklearn.metrics import confusion_matrix, ConfusionMatrixDisplay\n",
        "from sklearn.model_selection import train_test_split\n",
        "from sklearn.svm import SVC\n",
        "# X, y = make_classification(random_state=0)\n",
        "# X_train, X_test, y_train, y_test = train_test_split(X, y,\n",
        "#                                                     random_state=0)\n",
        "# clf = SVC(random_state=0)\n",
        "# clf.fit(X_train, y_train)\n",
        "\n",
        "# predictions = clf.predict(X_test)\n",
        "# cm = confusion_matrix(y_test, predictions, labels=clf.classes_)\n",
        "# plt.figure(figsize=(30,30))  \n",
        "\n",
        "cm = cm\n",
        "\n",
        "plt = ConfusionMatrixDisplay(confusion_matrix=cm,\n",
        "                              display_labels=[1,0])\n",
        "# plt.plot()\n",
        "\n",
        "display(plt.plot())"
      ],
      "metadata": {
        "id": "NC4D5S1eAT3I"
      },
      "execution_count": null,
      "outputs": []
    },
    {
      "cell_type": "markdown",
      "source": [
        "## Inference"
      ],
      "metadata": {
        "id": "-o9HviiFcQZ1"
      }
    },
    {
      "cell_type": "code",
      "source": [
        "model.state_dict()\n",
        "model.to(device)"
      ],
      "metadata": {
        "id": "kO-dUqy8fh_s"
      },
      "execution_count": null,
      "outputs": []
    },
    {
      "cell_type": "code",
      "source": [
        "# e.g.\n",
        "# computer science, machine learning\n",
        "# rnn, ir, natural language processing\n",
        "# computer vision\n",
        "\n",
        "subclass = \"sddsssssddd\"\n",
        "superclass = \"x\"\n",
        "\n",
        "claim = create_sentece_parent(superclass, subclass)\n",
        "print(claim)\n",
        "preds = (model(model.tokenize(claim).to(device)))\n",
        "print(preds)\n",
        "print(\"=\" * 80)\n",
        "claim = create_sentece_parent(subclass, superclass)\n",
        "print(claim)\n",
        "preds = (model(model.tokenize(claim).to(device)))\n",
        "print(preds)"
      ],
      "metadata": {
        "id": "HPqc4SG7gNJ4"
      },
      "execution_count": null,
      "outputs": []
    },
    {
      "cell_type": "markdown",
      "source": [
        "## save/load model"
      ],
      "metadata": {
        "id": "lOwLWCENdzkd"
      }
    },
    {
      "cell_type": "code",
      "source": [
        "def save_mode(model, path_name):\n",
        "  prefix = \"/content/drive/MyDrive/599/project_data/baseline_model_\"\n",
        "  full_path = prefix + path_name\n",
        "  torch.save(model.state_dict(), full_path)"
      ],
      "metadata": {
        "id": "pKsePecHIcih"
      },
      "execution_count": null,
      "outputs": []
    },
    {
      "cell_type": "code",
      "source": [
        "torch.save(model.state_dict(), \"/content/drive/MyDrive/599/project_data/baseline_model\")"
      ],
      "metadata": {
        "id": "Br5moTODd1JQ"
      },
      "execution_count": null,
      "outputs": []
    },
    {
      "cell_type": "code",
      "source": [
        "model = CustomDistilBert()\n",
        "model.load_state_dict(torch.load(\"/content/drive/MyDrive/599/project_data/baseline_model\"))\n",
        "model.eval()"
      ],
      "metadata": {
        "id": "JwYFl7X7d1ro"
      },
      "execution_count": null,
      "outputs": []
    },
    {
      "cell_type": "code",
      "source": [
        "freeze_params(model.get_distilbert()) "
      ],
      "metadata": {
        "id": "_EkI_ZibSjNQ"
      },
      "execution_count": null,
      "outputs": []
    },
    {
      "cell_type": "code",
      "source": [
        "model.state_dict()\n",
        "model = model.to(device)"
      ],
      "metadata": {
        "id": "99pRnjkKgFcE"
      },
      "execution_count": null,
      "outputs": []
    },
    {
      "cell_type": "markdown",
      "source": [
        "# soft prompt model"
      ],
      "metadata": {
        "id": "FdDkvc8NBpmd"
      }
    },
    {
      "cell_type": "code",
      "source": [
        "def pad_attention_mask(mask, p):\n",
        "    # TODO: your work below\n",
        "    pass\n",
        "    mask = torch.nn.functional.pad(mask,(p,0,0,0), value = 1)\n",
        "    return mask"
      ],
      "metadata": {
        "id": "NYO1u3O1BrL9"
      },
      "execution_count": null,
      "outputs": []
    },
    {
      "cell_type": "code",
      "source": [
        "class SoftPrompting(nn.Module):\n",
        "    def __init__(self, p: int, e: int):\n",
        "        super().__init__()\n",
        "        self.p = p\n",
        "        self.e = e\n",
        "        self.prompts = nn.Parameter(torch.randn((p, e)),requires_grad=True)\n",
        "        # self.prompts = torch.randn((p, e),requires_grad=True)\n",
        "        \n",
        "    def forward(self, embedded):\n",
        "        # TODO: your work below\n",
        "        pass\n",
        "        p = self.p\n",
        "        prompts = self.prompts\n",
        "        # [batch, word, dim]\n",
        "        result = torch.nn.functional.pad(embedded,(0,0,p,0))\n",
        "        for i in range(p):\n",
        "          result[:,i,:] = prompts[i,:]\n",
        "          \n",
        "        return result"
      ],
      "metadata": {
        "id": "UPEjNfgkBtsd"
      },
      "execution_count": null,
      "outputs": []
    },
    {
      "cell_type": "code",
      "source": [
        "class CustomSciBert(nn.Module):\n",
        "    def __init__(self):\n",
        "        super().__init__()\n",
        "\n",
        "        # TODO: your work below\n",
        "        pass\n",
        "        self.distilbert = transformers.AutoModel.from_pretrained('allenai/scibert_scivocab_uncased')\n",
        "        self.tokenizer = transformers.AutoTokenizer.from_pretrained('allenai/scibert_scivocab_uncased')\n",
        "        dim = self.distilbert.config.hidden_size\n",
        "\n",
        "          \n",
        "        #dim = self.distilbert.config.dim\n",
        "        self.pred_layer = nn.Linear(dim,1)  \n",
        "        self.sigmoid = nn.Sigmoid()\n",
        "        self.criterion = nn.BCELoss()\n",
        "    # vvvvv DO NOT CHANGE BELOW THIS LINE vvvvv\n",
        "    def get_distilbert(self):\n",
        "        return self.distilbert\n",
        "    def get_tokenizer(self):\n",
        "        return self.tokenizer\n",
        "    def get_pred_layer(self):\n",
        "        return self.pred_layer\n",
        "    def get_sigmoid(self):\n",
        "        return self.sigmoid\n",
        "    \n",
        "    def get_criterion(self):\n",
        "        return self.criterion\n",
        "    # ^^^^^ DO NOT CHANGE ABOVE THIS LINE ^^^^^\n",
        "    def assign_optimizer(self, **kwargs):\n",
        "        # TODO: your work below\n",
        "        pass\n",
        "        optimizer = torch.optim.Adam(self.parameters(), **kwargs)\n",
        "        return optimizer\n",
        "\n",
        "    def slice_cls_hidden_state(\n",
        "        self, x: transformers.modeling_outputs.BaseModelOutput\n",
        "    ) -> torch.Tensor:\n",
        "        # TODO: your work below\n",
        "        pass\n",
        "        return x.last_hidden_state[:,0,:]\n",
        "\n",
        "\n",
        "    def tokenize(\n",
        "        self,\n",
        "        premise: \"list[str]\",\n",
        "        # hypothesis: \"list[str]\",\n",
        "        max_length: int = 128,\n",
        "        truncation: bool = True,\n",
        "        padding: bool = True,\n",
        "    ):\n",
        "        # TODO: your work below\n",
        "        pass\n",
        "        model_tokenize = self.get_tokenizer()\n",
        "        return model_tokenize(premise, max_length=max_length, truncation=truncation, padding=padding,\n",
        "                         return_tensors='pt')\n",
        "\n",
        "    def forward(self, inputs: transformers.BatchEncoding):\n",
        "        # TODO: your work below\n",
        "        pass\n",
        "        model = self.get_distilbert()\n",
        "        pred = self.get_pred_layer()\n",
        "        sigmoid = self.get_sigmoid()\n",
        "\n",
        "        output = model(inputs_embeds = inputs.input_embedded, attention_mask = inputs.attention_mask)\n",
        "        output = self.slice_cls_hidden_state(output)\n",
        "        output = pred(output)\n",
        "        output = sigmoid(output)\n",
        "        output = torch.squeeze(output)\n",
        "        \n",
        "        return output"
      ],
      "metadata": {
        "id": "ggHJj_ZGBwAA"
      },
      "execution_count": null,
      "outputs": []
    },
    {
      "cell_type": "markdown",
      "source": [
        "## Traning"
      ],
      "metadata": {
        "id": "vabM4IQ5B42u"
      }
    },
    {
      "cell_type": "code",
      "source": [
        "device = torch.device(\"cuda\" if torch.cuda.is_available() else \"cpu\")"
      ],
      "metadata": {
        "id": "V-pNfVNaB8Ms"
      },
      "execution_count": null,
      "outputs": []
    },
    {
      "cell_type": "code",
      "source": [
        "def train_SoftPrompting(sp, model, loader, device):\n",
        "    model.train()\n",
        "    sp.train()\n",
        "    criterion = model.get_criterion()\n",
        "    # optimizer = model.assign_optimizer()\n",
        "    total_loss = 0.0\n",
        "    optimizer = torch.optim.Adam([{'params': model.parameters(), 'lr': 1e-4},\n",
        "                                  {'params': sp.parameters(), 'lr': 1e-4}])\n",
        "    # print(sp.prompts)\n",
        "    # print(\"-\"*80)\n",
        "    # print(model.pred_layer.weight)\n",
        "    for claim, label in tqdm(loader):\n",
        "        optimizer.zero_grad()\n",
        "\n",
        "        batch = model.tokenize(claim).to(device)\n",
        "        batch.input_embedded = sp(model.get_distilbert().embeddings(batch.input_ids))\n",
        "        batch.attention_mask = pad_attention_mask(batch.attention_mask, 5)\n",
        "        # inputs = model.tokenize(premise, hypothesis).to(device)\n",
        "        \n",
        "        target = label.to(device, dtype=torch.float32)\n",
        "        pred = model(batch)\n",
        "        loss = criterion(pred, target)\n",
        "        loss.backward()\n",
        "        optimizer.step()\n",
        "        total_loss += loss.item()\n",
        "        \n",
        "    # print(sp.prompts.grad)\n",
        "    return total_loss / len(loader), pred, target"
      ],
      "metadata": {
        "id": "pK0W7W9mB6Dm"
      },
      "execution_count": null,
      "outputs": []
    },
    {
      "cell_type": "code",
      "source": [
        "@torch.no_grad()\n",
        "def eval_SoftPrompting(sp, model, loader, device):\n",
        "    model.eval()\n",
        "    sp.eval()\n",
        "    targets = []\n",
        "    preds = []\n",
        "    for claim, target in tqdm(loader):\n",
        "\n",
        "        batch = model.tokenize(claim).to(device)\n",
        "        batch.input_embedded = sp(model.get_distilbert().embeddings(batch.input_ids))\n",
        "        batch.attention_mask = pad_attention_mask(batch.attention_mask, 5)\n",
        "        # inputs = model.tokenize(premise, hypothesis).to(device)\n",
        "        \n",
        "        pred = model(batch).to(device)\n",
        "\n",
        "        preds.append(pred)\n",
        "        targets.append(target)\n",
        "    return torch.cat(preds), torch.cat(targets)"
      ],
      "metadata": {
        "id": "a_QfQC1nB-cn"
      },
      "execution_count": null,
      "outputs": []
    },
    {
      "cell_type": "code",
      "source": [
        "claim = [\"one\", \"one\", \"one\", \"one\", \"one\", \"one\", \"one\", \"one\", \"one\", \"one\", \"one\", \"one\" ]\n",
        "label = [1,1,1,1,1,1, 1,1,1,1,1,1]\n",
        "dataset = {'claim':claim, 'label':label}"
      ],
      "metadata": {
        "id": "_5HQ7VgN93Nd"
      },
      "execution_count": null,
      "outputs": []
    },
    {
      "cell_type": "code",
      "source": [
        "\n",
        "import pandas as pd\n",
        "from sklearn.metrics import f1_score  # Make sure sklearn is installed\n",
        "from sklearn.metrics import accuracy_score\n",
        "\n",
        "sample_size = None  # Change this if you want to take a subset of data for testing. Using None to train whole dataset\n",
        "batch_size = 128\n",
        "n_epochs = 10\n",
        "num_words = 50000\n",
        "\n",
        "# If you use GPUs, use the code below:\n",
        "device = torch.device(\"cuda\" if torch.cuda.is_available() else \"cpu\")\n",
        "\n",
        "# ###################### PART 1: TEST CODE ######################\n",
        "# Prefilled code showing you how to use the helper functions\n",
        "\n",
        "\n",
        "train_raw = {}\n",
        "if sample_size is not None:\n",
        "    for key in [\"claim\", \"label\"]:\n",
        "        train_raw[key] = dataset[key][:sample_size]\n",
        "    test_raw =   dataset \n",
        "else:\n",
        "  train_raw = train_dataset\n",
        "  test_raw =  test_dataset \n",
        "\n",
        "# ###################### PART 2: TEST CODE ######################\n",
        "\n",
        "model = CustomSciBert().to(device)\n",
        "freeze_params(model.get_distilbert()) # Now, model should have no trainable parameters\n",
        "\n",
        "sp = SoftPrompting(p=5, e=model.get_distilbert().embeddings.word_embeddings.embedding_dim).to(device)\n",
        "\n",
        "\n",
        "train_loader = torch.utils.data.DataLoader(\n",
        "    NLIDataset(train_raw), batch_size=batch_size, shuffle=True\n",
        ")\n",
        "\n",
        "test_loader = torch.utils.data.DataLoader(\n",
        "    NLIDataset(test_dataset), batch_size=batch_size, shuffle=False\n",
        ")\n",
        "\n",
        "\n",
        "train_f1_scores = []\n",
        "train_acc_list = []\n",
        "train_loss = []\n",
        "\n",
        "test_f1_scores = []\n",
        "test_acc_list = []\n",
        "# upload a plot of the validation loss, \n",
        "# and another of the validation accuracy over each of the 10 epochs you trained the model for\n"
      ],
      "metadata": {
        "colab": {
          "base_uri": "https://localhost:8080/"
        },
        "id": "hbBLKuaGB_rJ",
        "outputId": "a11eca66-564a-43b0-e121-1276b6c46191"
      },
      "execution_count": null,
      "outputs": [
        {
          "output_type": "stream",
          "name": "stderr",
          "text": [
            "Some weights of the model checkpoint at allenai/scibert_scivocab_uncased were not used when initializing BertModel: ['cls.seq_relationship.weight', 'cls.seq_relationship.bias', 'cls.predictions.transform.LayerNorm.weight', 'cls.predictions.bias', 'cls.predictions.transform.dense.weight', 'cls.predictions.decoder.weight', 'cls.predictions.transform.LayerNorm.bias', 'cls.predictions.decoder.bias', 'cls.predictions.transform.dense.bias']\n",
            "- This IS expected if you are initializing BertModel from the checkpoint of a model trained on another task or with another architecture (e.g. initializing a BertForSequenceClassification model from a BertForPreTraining model).\n",
            "- This IS NOT expected if you are initializing BertModel from the checkpoint of a model that you expect to be exactly identical (initializing a BertForSequenceClassification model from a BertForSequenceClassification model).\n"
          ]
        }
      ]
    },
    {
      "cell_type": "code",
      "source": [
        "len(train_raw['label'])"
      ],
      "metadata": {
        "colab": {
          "base_uri": "https://localhost:8080/"
        },
        "id": "l1seCZRWcoCz",
        "outputId": "2ff4d57e-f627-4eb0-f567-8fc7f0fc9ace"
      },
      "execution_count": null,
      "outputs": [
        {
          "output_type": "execute_result",
          "data": {
            "text/plain": [
              "326244"
            ]
          },
          "metadata": {},
          "execution_count": 68
        }
      ]
    },
    {
      "cell_type": "code",
      "source": [
        "for epoch in range(n_epochs):\n",
        "\n",
        "    loss, preds, targets = train_SoftPrompting(sp, model, train_loader, device=device)\n",
        "\n",
        "    train_loss.append(loss)\n",
        "\n",
        "    preds = preds.round()\n",
        "    trainACC = accuracy_score(targets.detach().cpu(), preds.detach().cpu())\n",
        "    train_acc_list.append(trainACC)\n",
        "    \n",
        "    trainF1 = f1_score(targets.detach().cpu(), preds.detach().cpu())\n",
        "    train_f1_scores.append(trainF1)\n",
        "\n",
        "    # test\n",
        "    preds, targets = eval_SoftPrompting(sp, model, test_loader, device=device)\n",
        "    preds = preds.round()\n",
        "    targets = targets.cpu().detach().numpy()\n",
        "    preds = preds.cpu().detach().numpy()\n",
        "\n",
        "    f1score = f1_score(targets, preds)\n",
        "    test_f1_scores.append(f1score)\n",
        "\n",
        "    testACC = accuracy_score(targets, preds)\n",
        "    test_acc_list.append(testACC)\n",
        "\n",
        "    print(\"Epoch:\", epoch)\n",
        "    print(\"Training loss:\", loss)\n",
        "    print(\"Train acc:\", trainACC)\n",
        "    print(\"Train F1:\", trainF1)\n",
        "\n",
        "    print(\"Test acc:\", testACC)\n",
        "    print(\"Test F1:\", f1score)\n",
        "    print( )"
      ],
      "metadata": {
        "colab": {
          "base_uri": "https://localhost:8080/",
          "height": 389,
          "referenced_widgets": [
            "e062bcb05f6f4e579661c05a65ba2ce3",
            "936a1f958d784a509067ab33b3f3b598",
            "8df4db10bf16430e95cc5fd96e068316",
            "f4e13c62aeec45ca987484f80991d008",
            "1d11e3504c4e4108a3157fc6d9ce24d2",
            "126e68135e8547cab788a6259f6984d8",
            "30cf7811edd54649adbacaca9bddf0ba",
            "ed96f4ddc2dc434ab15a6cbc7128e317",
            "db29c9b53d0d47eab30e3b8917c70c82",
            "9df29120c2d24dd4907b5ab99ff48708",
            "9c8028806b4f4d5da863cc642b0321ee"
          ]
        },
        "id": "VZoN2QpmCCGc",
        "outputId": "cfd09c85-778c-4528-9bb8-5f4aa5fd2e28"
      },
      "execution_count": null,
      "outputs": [
        {
          "output_type": "display_data",
          "data": {
            "text/plain": [
              "  0%|          | 0/2549 [00:00<?, ?it/s]"
            ],
            "application/vnd.jupyter.widget-view+json": {
              "version_major": 2,
              "version_minor": 0,
              "model_id": "e062bcb05f6f4e579661c05a65ba2ce3"
            }
          },
          "metadata": {}
        },
        {
          "output_type": "error",
          "ename": "KeyboardInterrupt",
          "evalue": "ignored",
          "traceback": [
            "\u001b[0;31m---------------------------------------------------------------------------\u001b[0m",
            "\u001b[0;31mKeyboardInterrupt\u001b[0m                         Traceback (most recent call last)",
            "\u001b[0;32m<ipython-input-104-e4121f795e80>\u001b[0m in \u001b[0;36m<module>\u001b[0;34m\u001b[0m\n\u001b[1;32m      1\u001b[0m \u001b[0;32mfor\u001b[0m \u001b[0mepoch\u001b[0m \u001b[0;32min\u001b[0m \u001b[0mrange\u001b[0m\u001b[0;34m(\u001b[0m\u001b[0mn_epochs\u001b[0m\u001b[0;34m)\u001b[0m\u001b[0;34m:\u001b[0m\u001b[0;34m\u001b[0m\u001b[0;34m\u001b[0m\u001b[0m\n\u001b[1;32m      2\u001b[0m \u001b[0;34m\u001b[0m\u001b[0m\n\u001b[0;32m----> 3\u001b[0;31m     \u001b[0mloss\u001b[0m\u001b[0;34m,\u001b[0m \u001b[0mpreds\u001b[0m\u001b[0;34m,\u001b[0m \u001b[0mtargets\u001b[0m \u001b[0;34m=\u001b[0m \u001b[0mtrain_SoftPrompting\u001b[0m\u001b[0;34m(\u001b[0m\u001b[0msp\u001b[0m\u001b[0;34m,\u001b[0m \u001b[0mmodel\u001b[0m\u001b[0;34m,\u001b[0m \u001b[0mtrain_loader\u001b[0m\u001b[0;34m,\u001b[0m \u001b[0mdevice\u001b[0m\u001b[0;34m=\u001b[0m\u001b[0mdevice\u001b[0m\u001b[0;34m)\u001b[0m\u001b[0;34m\u001b[0m\u001b[0;34m\u001b[0m\u001b[0m\n\u001b[0m\u001b[1;32m      4\u001b[0m \u001b[0;34m\u001b[0m\u001b[0m\n\u001b[1;32m      5\u001b[0m     \u001b[0mtrain_loss\u001b[0m\u001b[0;34m.\u001b[0m\u001b[0mappend\u001b[0m\u001b[0;34m(\u001b[0m\u001b[0mloss\u001b[0m\u001b[0;34m)\u001b[0m\u001b[0;34m\u001b[0m\u001b[0;34m\u001b[0m\u001b[0m\n",
            "\u001b[0;32m<ipython-input-63-4615a6d6aabe>\u001b[0m in \u001b[0;36mtrain_SoftPrompting\u001b[0;34m(sp, model, loader, device)\u001b[0m\n\u001b[1;32m     23\u001b[0m         \u001b[0mloss\u001b[0m\u001b[0;34m.\u001b[0m\u001b[0mbackward\u001b[0m\u001b[0;34m(\u001b[0m\u001b[0;34m)\u001b[0m\u001b[0;34m\u001b[0m\u001b[0;34m\u001b[0m\u001b[0m\n\u001b[1;32m     24\u001b[0m         \u001b[0moptimizer\u001b[0m\u001b[0;34m.\u001b[0m\u001b[0mstep\u001b[0m\u001b[0;34m(\u001b[0m\u001b[0;34m)\u001b[0m\u001b[0;34m\u001b[0m\u001b[0;34m\u001b[0m\u001b[0m\n\u001b[0;32m---> 25\u001b[0;31m         \u001b[0mtotal_loss\u001b[0m \u001b[0;34m+=\u001b[0m \u001b[0mloss\u001b[0m\u001b[0;34m.\u001b[0m\u001b[0mitem\u001b[0m\u001b[0;34m(\u001b[0m\u001b[0;34m)\u001b[0m\u001b[0;34m\u001b[0m\u001b[0;34m\u001b[0m\u001b[0m\n\u001b[0m\u001b[1;32m     26\u001b[0m \u001b[0;34m\u001b[0m\u001b[0m\n\u001b[1;32m     27\u001b[0m     \u001b[0;31m# print(sp.prompts.grad)\u001b[0m\u001b[0;34m\u001b[0m\u001b[0;34m\u001b[0m\u001b[0;34m\u001b[0m\u001b[0m\n",
            "\u001b[0;31mKeyboardInterrupt\u001b[0m: "
          ]
        }
      ]
    },
    {
      "cell_type": "markdown",
      "source": [
        "## model save"
      ],
      "metadata": {
        "id": "x7bEspt0Svmi"
      }
    },
    {
      "cell_type": "code",
      "source": [
        "torch.save(sp.state_dict(), \"/content/drive/MyDrive/599/project_data/sp\")\n",
        "torch.save(model.state_dict(), \"/content/drive/MyDrive/599/project_data/model_sp\")"
      ],
      "metadata": {
        "colab": {
          "base_uri": "https://localhost:8080/",
          "height": 183
        },
        "id": "tRYpdPFaSw2F",
        "outputId": "ee5f9e1c-e6cf-4974-8150-9cb020381add"
      },
      "execution_count": null,
      "outputs": [
        {
          "output_type": "error",
          "ename": "NameError",
          "evalue": "ignored",
          "traceback": [
            "\u001b[0;31m---------------------------------------------------------------------------\u001b[0m",
            "\u001b[0;31mNameError\u001b[0m                                 Traceback (most recent call last)",
            "\u001b[0;32m<ipython-input-39-4a149b0a0eb4>\u001b[0m in \u001b[0;36m<module>\u001b[0;34m\u001b[0m\n\u001b[0;32m----> 1\u001b[0;31m \u001b[0mtorch\u001b[0m\u001b[0;34m.\u001b[0m\u001b[0msave\u001b[0m\u001b[0;34m(\u001b[0m\u001b[0msp\u001b[0m\u001b[0;34m.\u001b[0m\u001b[0mstate_dict\u001b[0m\u001b[0;34m(\u001b[0m\u001b[0;34m)\u001b[0m\u001b[0;34m,\u001b[0m \u001b[0;34m\"/content/drive/MyDrive/599/project_data/sp\"\u001b[0m\u001b[0;34m)\u001b[0m\u001b[0;34m\u001b[0m\u001b[0;34m\u001b[0m\u001b[0m\n\u001b[0m\u001b[1;32m      2\u001b[0m \u001b[0mtorch\u001b[0m\u001b[0;34m.\u001b[0m\u001b[0msave\u001b[0m\u001b[0;34m(\u001b[0m\u001b[0mmodel\u001b[0m\u001b[0;34m.\u001b[0m\u001b[0mstate_dict\u001b[0m\u001b[0;34m(\u001b[0m\u001b[0;34m)\u001b[0m\u001b[0;34m,\u001b[0m \u001b[0;34m\"/content/drive/MyDrive/599/project_data/model_sp\"\u001b[0m\u001b[0;34m)\u001b[0m\u001b[0;34m\u001b[0m\u001b[0;34m\u001b[0m\u001b[0m\n",
            "\u001b[0;31mNameError\u001b[0m: name 'sp' is not defined"
          ]
        }
      ]
    },
    {
      "cell_type": "markdown",
      "source": [
        "## plot"
      ],
      "metadata": {
        "id": "xKU7RnjkTMqQ"
      }
    },
    {
      "cell_type": "code",
      "source": [
        "# first 10 epochs's data"
      ],
      "metadata": {
        "id": "uZE9LOttVxG9"
      },
      "execution_count": null,
      "outputs": []
    },
    {
      "cell_type": "code",
      "source": [
        "train_acc_list = [0.67, 0.69, 0.75, 0.7,0.66,0.68,0.81, 0.71, 0.77,0.77]"
      ],
      "metadata": {
        "id": "PJFbDtRKTP_h"
      },
      "execution_count": null,
      "outputs": []
    },
    {
      "cell_type": "code",
      "source": [
        "train_f1_list = [0.45901639344262296, 0.5753424657534247,0.6153846153846154, 0.5945945945945945,0.5405405405405406,\n",
        "                 0.5428571428571428, 0.6885245901639343, 0.6233766233766234, 0.676056338028169, 0.6567164179104478]"
      ],
      "metadata": {
        "id": "9YHYlvSkTUU8"
      },
      "execution_count": null,
      "outputs": []
    },
    {
      "cell_type": "code",
      "source": [
        "test_acc_list = [0.6885919199215726,0.7300758474794902,0.7274340849285382,0.7545740673855839, 0.7494246942882204,\n",
        "                 0.762850214127238,0.7742118569733244, 0.7811361642846086,0.780465404261906,0.7824570455600847]"
      ],
      "metadata": {
        "id": "uImOBTS5TQX2"
      },
      "execution_count": null,
      "outputs": []
    },
    {
      "cell_type": "code",
      "source": [
        "test_f1_list = [0.69164035437295, 0.7654816873627114, 0.7514281143244336, 0.7787977715152024,0.7505137267795495\n",
        "                0.7630751466540204, 0.7788201043225101, 0.7878781817272591, 0.7839808289839769, 0.7858209637599439]"
      ],
      "metadata": {
        "id": "F18v5EawTYHv"
      },
      "execution_count": null,
      "outputs": []
    },
    {
      "cell_type": "markdown",
      "source": [
        "# Xnetwork"
      ],
      "metadata": {
        "id": "1-fK1pWbsSRw"
      }
    },
    {
      "cell_type": "code",
      "source": [
        "import networkx as nx"
      ],
      "metadata": {
        "id": "fUx45T7asR31"
      },
      "execution_count": null,
      "outputs": []
    },
    {
      "cell_type": "code",
      "source": [
        "G = nx.Graph()"
      ],
      "metadata": {
        "id": "BsP3dQdHsM59"
      },
      "execution_count": null,
      "outputs": []
    },
    {
      "cell_type": "code",
      "source": [
        "G.add_nodes_from([2, 3])"
      ],
      "metadata": {
        "id": "_MmE4zRLsSf1"
      },
      "execution_count": null,
      "outputs": []
    },
    {
      "cell_type": "code",
      "source": [
        "G.number_of_nodes()"
      ],
      "metadata": {
        "id": "60L8eNaYwaC4"
      },
      "execution_count": null,
      "outputs": []
    },
    {
      "cell_type": "code",
      "source": [
        "G.number_of_edges()"
      ],
      "metadata": {
        "id": "7hT7_5nLwi-c"
      },
      "execution_count": null,
      "outputs": []
    },
    {
      "cell_type": "code",
      "source": [
        "G.add_edges_from([(1, 2), (1, 3)])"
      ],
      "metadata": {
        "id": "eiJHFpC4wtx9"
      },
      "execution_count": null,
      "outputs": []
    },
    {
      "cell_type": "code",
      "source": [
        "G = nx.Graph()"
      ],
      "metadata": {
        "id": "R_UfzVxCxtw2"
      },
      "execution_count": null,
      "outputs": []
    },
    {
      "cell_type": "markdown",
      "source": [
        "# SPARQL"
      ],
      "metadata": {
        "id": "93IQBMtInyi-"
      }
    },
    {
      "cell_type": "code",
      "source": [
        "!pip install sparqlwrapper"
      ],
      "metadata": {
        "id": "vfVyoqdhn2KL"
      },
      "execution_count": null,
      "outputs": []
    },
    {
      "cell_type": "code",
      "source": [
        "from SPARQLWrapper import SPARQLWrapper, JSON\n",
        "\n",
        "sparql = SPARQLWrapper(\n",
        "    \"http://vocabs.ardc.edu.au/repository/api/sparql/\"\n",
        "    \"csiro_international-chronostratigraphic-chart_geologic-time-scale-2020\"\n",
        ")\n",
        "sparql.setReturnFormat(JSON)\n",
        "\n",
        "# gets the first 3 geological ages\n",
        "# from a Geological Timescale database,\n",
        "# via a SPARQL endpoint\n",
        "sparql.setQuery(\"\"\"\n",
        "    PREFIX gts: <http://resource.geosciml.org/ontology/timescale/gts#>\n",
        "\n",
        "    SELECT *\n",
        "    WHERE {\n",
        "        ?a a gts:Age .\n",
        "    }\n",
        "    ORDER BY ?a\n",
        "    LIMIT 3\n",
        "    \"\"\"\n",
        ")\n",
        "\n",
        "try:\n",
        "    ret = sparql.queryAndConvert()\n",
        "\n",
        "    for r in ret[\"results\"][\"bindings\"]:\n",
        "        print(r)\n",
        "except Exception as e:\n",
        "    print(e)"
      ],
      "metadata": {
        "id": "IVnEP3ckoeZC"
      },
      "execution_count": null,
      "outputs": []
    },
    {
      "cell_type": "code",
      "source": [
        "from SPARQLWrapper import SPARQLWrapper, JSON\n",
        "\n",
        "sparql = SPARQLWrapper(\n",
        "    \"https://scholkg.kmi.open.ac.uk/sparqlendpoint/\"\n",
        ")\n",
        "sparql.setReturnFormat(JSON)\n",
        "\n",
        "# gets the first 3 geological ages\n",
        "# from a Geological Timescale database,\n",
        "# via a SPARQL endpoint\n",
        "sparql.setQuery(\"\"\"\n",
        "    ## Example query: Select all statements about Wikipedia.  \n",
        "    PREFIX rdf:  <http://www.w3.org/1999/02/22-rdf-syntax-ns#> \n",
        "    PREFIX cskg: <http://scholkg.kmi.open.ac.uk/cskg/resource/> # CS-KG resources \n",
        "    PREFIX cskg-ont: <http://scholkg.kmi.open.ac.uk/cskg/ontology#> # CS-KG ontology \n",
        "    PREFIX provo: <http://www.w3.org/ns/prov#> \n",
        "    PREFIX cso: <http://cso.kmi.open.ac.uk/schema/cso#> \n",
        "    \n",
        "    # ?type_sub ?pre ?obj ?type_obj ?sup\n",
        "    SELECT ?sub ?type_sub ?pre ?obj ?type_obj ?sup FROM <http://scholkg.kmi.open.ac.uk/cskg> \n",
        "    WHERE { #?t rdf:subject cskg:computer_science . \n",
        "      ?t rdf:subject ?sub . \n",
        "      ?t rdf:predicate ?pre . \n",
        "      ?t rdf:object ?obj . \n",
        "      ?sub rdf:type ?type_sub .  \n",
        "      ?obj rdf:type ?type_obj . \n",
        "      ?t cskg-ont:hasSupport ?sup . \n",
        "      FILTER(?sup =  and ?sup < 5)} \n",
        "    \"\"\"\n",
        ")\n",
        "\n",
        "try:\n",
        "    ret = sparql.queryAndConvert()\n",
        "    print(len(ret[\"results\"][\"bindings\"]))\n",
        "\n",
        "except Exception as e:\n",
        "    print(e)"
      ],
      "metadata": {
        "id": "FLBdQi7RonEM"
      },
      "execution_count": null,
      "outputs": []
    },
    {
      "cell_type": "code",
      "source": [
        "query = \"\"\"\n",
        "PREFIX rdfs: <http://www.w3.org/2000/01/rdf-schema#>\n",
        "PREFIX rdf:  <http://www.w3.org/1999/02/22-rdf-syntax-ns#> \n",
        "PREFIX cskg: <http://scholkg.kmi.open.ac.uk/cskg/resource/> # CS-KG resources \n",
        "PREFIX cskg-ont: <http://scholkg.kmi.open.ac.uk/cskg/ontology#> # CS-KG ontology \n",
        "PREFIX provo: <http://www.w3.org/ns/prov#> \n",
        "PREFIX cso: <http://cso.kmi.open.ac.uk/schema/cso#> \n",
        "PREFIX rdfs: <http://www.w3.org/2000/01/rdf-schema#>\n",
        "PREFIX owl: <http://www.w3.org/2002/07/owl#>\n",
        "PREFIX skos: <http://www.w3.org/2004/02/skos/core#>\n",
        "\n",
        "SELECT (COUNT(?sub) as ?count)\n",
        "WHERE {{ \n",
        "  ?t rdf:subject ?sub . ?t rdf:predicate ?pred. ?t rdf:object ?obj . \n",
        "  ?sub rdf:type cskg-ont:{subj} .  ?obj rdf:type cskg-ont:{obj}. ?t cskg-ont:hasSupport ?sup . \n",
        "  ?pred rdfs:subPropertyOf ?super .\n",
        "  ?inverse owl:inverseOf ?super .\n",
        "  FILTER(?sup > 5)\n",
        "  FILTER(?super {equal} ?inverse)\n",
        "}} LIMIT 10\n",
        "\"\"\"\n",
        "\n",
        "\"\"\"\n",
        "SELECT ?sup (COUNT(?sup) as ?count)\n",
        "WHERE { \n",
        "  ?t rdf:subject ?sub . ?t rdf:predicate ?pred. ?t rdf:object ?obj . ?t cskg-ont:hasSupport ?sup . \n",
        "  FILTER(?sup < 5)\n",
        "} GROUP BY ?sup ORDER BY ?sup\n",
        "\"\"\""
      ],
      "metadata": {
        "id": "lxLm709FgMms"
      },
      "execution_count": null,
      "outputs": []
    },
    {
      "cell_type": "code",
      "source": [
        "!pip install matplotlib -U"
      ],
      "metadata": {
        "id": "Pxu9_L-knbg_"
      },
      "execution_count": null,
      "outputs": []
    },
    {
      "cell_type": "code",
      "source": [
        "print(query.format(subj='Method', obj='Method', equal='='))"
      ],
      "metadata": {
        "id": "WB1hQYYQg2yw"
      },
      "execution_count": null,
      "outputs": []
    },
    {
      "cell_type": "code",
      "source": [
        "types = ['Material', 'Method', 'Metric', 'OtherEntity', 'Task']\n",
        "signs = ['=', '!=']"
      ],
      "metadata": {
        "id": "ad0Zq9c3hD-R"
      },
      "execution_count": null,
      "outputs": []
    },
    {
      "cell_type": "code",
      "source": [
        "def run_query(query):\n",
        "    sparql.setQuery(query)\n",
        "\n",
        "    try:\n",
        "        ret = sparql.queryAndConvert()\n",
        "        return ret[\"results\"][\"bindings\"]\n",
        "    except Exception as e:\n",
        "        print(e)"
      ],
      "metadata": {
        "id": "vFoGhQPRhaoV"
      },
      "execution_count": null,
      "outputs": []
    },
    {
      "cell_type": "code",
      "source": [
        "from SPARQLWrapper import SPARQLWrapper, JSON\n",
        "from tqdm.notebook import tqdm\n",
        "from collections import defaultdict\n",
        "\n",
        "sparql = SPARQLWrapper(\n",
        "    \"https://scholkg.kmi.open.ac.uk/sparqlendpoint/\"\n",
        ")\n",
        "sparql.setReturnFormat(JSON)\n",
        "\n",
        "result = defaultdict(dict)\n",
        "\n",
        "\n",
        "for sub in tqdm(types):\n",
        "    for obj in tqdm(types):\n",
        "        double_count = run_query(query.format(subj=sub, obj=obj, equal='='))\n",
        "        count = int(double_count[0]['count']['value']) // 2\n",
        "        single_count = run_query(query.format(subj=sub, obj=obj, equal='!='))\n",
        "        count += int(single_count[0]['count']['value'])\n",
        "        result[sub][obj] = count"
      ],
      "metadata": {
        "id": "I8lPIi98gJZy"
      },
      "execution_count": null,
      "outputs": []
    },
    {
      "cell_type": "code",
      "source": [
        "result = {'Method': {'Material': 168149,\n",
        "              'Method': 856197,\n",
        "              'Metric': 77112,\n",
        "              'OtherEntity': 377030,\n",
        "              'Task': 197729},\n",
        "             'Metric': {'Material': 5103,\n",
        "              'Method': 57115,\n",
        "              'Metric': 13565,\n",
        "              'OtherEntity': 12426,\n",
        "              'Task': 11595},\n",
        "             'OtherEntity': {'Material': 41231,\n",
        "              'Method': 245739,\n",
        "              'Metric': 18795,\n",
        "              'OtherEntity': 166719,\n",
        "              'Task': 13631},\n",
        "             'Task': {'Material': 65558,\n",
        "              'Method': 291844,\n",
        "              'Metric': 22515,\n",
        "              'OtherEntity': 83641,\n",
        "              'Task': 85642},\n",
        "             'Material': {'Material': 18166,\n",
        "              'Method': 19450,\n",
        "              'Metric': 4761,\n",
        "              'OtherEntity': 34994,\n",
        "              'Task': 9510}}"
      ],
      "metadata": {
        "id": "5aqRwbanqk07"
      },
      "execution_count": null,
      "outputs": []
    },
    {
      "cell_type": "code",
      "source": [],
      "metadata": {
        "id": "szRYkXa3lhXT"
      },
      "execution_count": null,
      "outputs": []
    },
    {
      "cell_type": "code",
      "source": [
        "m = [[0 for _ in range(5)] for _ in range(5)]\n",
        "for i, sub in enumerate(types):\n",
        "    for j, obj in enumerate(types):\n",
        "        m[i][j] = result[sub][obj]\n",
        "\n",
        "m = np.array(m)"
      ],
      "metadata": {
        "id": "pp4mQDTnoAhZ"
      },
      "execution_count": null,
      "outputs": []
    },
    {
      "cell_type": "code",
      "source": [
        "m = m / 1000"
      ],
      "metadata": {
        "id": "7-jPxnHNKeOL"
      },
      "execution_count": null,
      "outputs": []
    },
    {
      "cell_type": "code",
      "source": [
        "m"
      ],
      "metadata": {
        "id": "fKOib_MJKq-8"
      },
      "execution_count": null,
      "outputs": []
    },
    {
      "cell_type": "code",
      "source": [
        "row_sum = m.sum(0, keepdims=True)\n",
        "column_sum = m.sum(1, keepdims=True)\n"
      ],
      "metadata": {
        "id": "_Cdn3bV6IORq"
      },
      "execution_count": null,
      "outputs": []
    },
    {
      "cell_type": "code",
      "source": [],
      "metadata": {
        "id": "tTT5E4zbIUIW"
      },
      "execution_count": null,
      "outputs": []
    },
    {
      "cell_type": "code",
      "source": [
        "m = m / (column_sum @ row_sum)"
      ],
      "metadata": {
        "id": "Kuw7aBtpJQH9"
      },
      "execution_count": null,
      "outputs": []
    },
    {
      "cell_type": "code",
      "source": [
        "m"
      ],
      "metadata": {
        "id": "T8VQhehZKzMZ"
      },
      "execution_count": null,
      "outputs": []
    },
    {
      "cell_type": "code",
      "source": [
        "import numpy as np\n",
        "import matplotlib\n",
        "import matplotlib as mpl\n",
        "import matplotlib.pyplot as plt\n",
        "\n",
        "m = np.array(m).round(5)\n",
        "fig, ax = plt.subplots(figsize=(10,10))\n",
        "im = ax.imshow(m)\n",
        "\n",
        "ax.set_xticks(np.arange(len(types)), labels=types)\n",
        "ax.set_yticks(np.arange(len(types)), labels=types)\n",
        "\n",
        "# Rotate the tick labels and set their alignment.\n",
        "plt.setp(ax.get_xticklabels(), rotation=45, ha=\"right\",\n",
        "         rotation_mode=\"anchor\")\n",
        "\n",
        "# Loop over data dimensions and create text annotations.\n",
        "for i in range(len(types)):\n",
        "    for j in range(len(types)):\n",
        "        text = ax.text(j, i, m[i, j],\n",
        "                       ha=\"center\", va=\"center\", color=\"w\")"
      ],
      "metadata": {
        "id": "KZE66nYZmkZP"
      },
      "execution_count": null,
      "outputs": []
    },
    {
      "cell_type": "markdown",
      "source": [
        "## HISTOGRAM"
      ],
      "metadata": {
        "id": "FXuBBmfLqslw"
      }
    },
    {
      "cell_type": "code",
      "source": [
        "import pandas as pd\n"
      ],
      "metadata": {
        "id": "yeJzHg18qwQ8"
      },
      "execution_count": null,
      "outputs": []
    },
    {
      "cell_type": "code",
      "source": [
        "queries = pd.read_csv(\"Query.csv\")"
      ],
      "metadata": {
        "id": "GZ1PkdlGqx_p"
      },
      "execution_count": null,
      "outputs": []
    },
    {
      "cell_type": "code",
      "source": [
        "queries"
      ],
      "metadata": {
        "id": "_YKSrVsEq59p"
      },
      "execution_count": null,
      "outputs": []
    },
    {
      "cell_type": "markdown",
      "source": [
        "# Load CSKG"
      ],
      "metadata": {
        "id": "RC6pBYbiqrMC"
      }
    },
    {
      "cell_type": "code",
      "source": [
        "from google.colab import drive\n",
        "drive.mount('/content/drive')"
      ],
      "metadata": {
        "colab": {
          "base_uri": "https://localhost:8080/"
        },
        "id": "W1-edh5yIS0C",
        "outputId": "1165a8ca-9759-4b0d-e458-1e2ccf822f09"
      },
      "execution_count": null,
      "outputs": [
        {
          "output_type": "stream",
          "name": "stdout",
          "text": [
            "Mounted at /content/drive\n"
          ]
        }
      ]
    },
    {
      "cell_type": "code",
      "source": [
        "import pandas as pd\n",
        "import random"
      ],
      "metadata": {
        "id": "3GftPqEnrLFT"
      },
      "execution_count": null,
      "outputs": []
    },
    {
      "cell_type": "code",
      "source": [
        "CSKG_task = pd.read_csv(\"/content/drive/MyDrive/Master/CSKG/Query_sup_at_least5.csv\")"
      ],
      "metadata": {
        "id": "Mzqr6j56qoYp"
      },
      "execution_count": null,
      "outputs": []
    },
    {
      "cell_type": "code",
      "source": [
        "CSKG_task\n"
      ],
      "metadata": {
        "id": "DbCCKMmHrXDV"
      },
      "execution_count": null,
      "outputs": []
    },
    {
      "cell_type": "code",
      "source": [
        "CSKG_cut_task = CSKG_task[[\"sub\", \"obj\", \"sup\"]]"
      ],
      "metadata": {
        "id": "GcxJquJ8sAaK"
      },
      "execution_count": null,
      "outputs": []
    },
    {
      "cell_type": "code",
      "source": [
        "CSKG_cut_task.shape"
      ],
      "metadata": {
        "id": "6V2YRqxsJB7V"
      },
      "execution_count": null,
      "outputs": []
    },
    {
      "cell_type": "code",
      "source": [
        "import networkx as nx\n",
        "G = nx.DiGraph()"
      ],
      "metadata": {
        "id": "N0niqX70x0UV"
      },
      "execution_count": null,
      "outputs": []
    },
    {
      "cell_type": "code",
      "source": [
        "for index, row in CSKG_cut_task.iterrows():\n",
        "  #t = (row['sub'], row['obj'])\n",
        "  G.add_edge(row['sub'], row['obj'], weight=row['sup'])\n",
        "  "
      ],
      "metadata": {
        "id": "CPdPJSMexRE3"
      },
      "execution_count": null,
      "outputs": []
    },
    {
      "cell_type": "code",
      "source": [
        "G.number_of_nodes()"
      ],
      "metadata": {
        "id": "pBshteq1zC_p"
      },
      "execution_count": null,
      "outputs": []
    },
    {
      "cell_type": "code",
      "source": [
        "G.number_of_edges()"
      ],
      "metadata": {
        "id": "b8BXwLLt0FN7"
      },
      "execution_count": null,
      "outputs": []
    },
    {
      "cell_type": "code",
      "source": [
        "CSKG_cut_task['sub'][0]\n",
        "CSKG_cut_task['obj'][0]\n"
      ],
      "metadata": {
        "id": "jrt1E2QlvKAU"
      },
      "execution_count": null,
      "outputs": []
    },
    {
      "cell_type": "code",
      "source": [
        "index = random.randint(0, 363143)\n",
        "index"
      ],
      "metadata": {
        "id": "naG0zUlsTKZ2"
      },
      "execution_count": null,
      "outputs": []
    },
    {
      "cell_type": "code",
      "source": [
        "print(nx.has_path(G,CSKG_cut_task['sub'][index],CSKG_cut_task['obj'][index]))\n",
        "print(nx.has_path(G,CSKG_cut_task['obj'][index],CSKG_cut_task['sub'][index]))\n",
        "print(CSKG_cut_task['sub'][index])\n",
        "print(CSKG_cut_task['obj'][index])"
      ],
      "metadata": {
        "id": "JhKC26RvTGs_"
      },
      "execution_count": null,
      "outputs": []
    },
    {
      "cell_type": "code",
      "source": [
        "cycles = nx.simple_cycles(G)\n",
        "cycles_2_list = []"
      ],
      "metadata": {
        "id": "o5vgjfVaZHG9"
      },
      "execution_count": null,
      "outputs": []
    },
    {
      "cell_type": "code",
      "source": [
        "count = 0\n",
        "len_2 = 0\n",
        "for c in cycles:\n",
        "  length = (len(c))\n",
        "  # break\n",
        "  # print(length)\n",
        "  if  length == 2:\n",
        "    print(c[0], c[-1])\n",
        "    len_2 += 1\n",
        "    cycles_2_list.append(c)\n",
        "\n",
        "  count += 1\n",
        "  if count > 5000: \n",
        "    print(\"-\"*80)\n",
        "    print(len_2)\n",
        "    break\n"
      ],
      "metadata": {
        "id": "FMazptCtM-OJ"
      },
      "execution_count": null,
      "outputs": []
    },
    {
      "cell_type": "code",
      "source": [
        "def count_appearance(ent, dataFrame):\n",
        "  tmp = dataFrame.loc[(dataFrame['sub'] == ent) ]\n",
        "  return tmp.shape[0]"
      ],
      "metadata": {
        "id": "MFZRuhlYHoS2"
      },
      "execution_count": null,
      "outputs": []
    },
    {
      "cell_type": "code",
      "source": [
        "count = 0\n",
        "for c in cycles_2_list:\n",
        "  sub1 = c[0]\n",
        "  sub2 = c[1]\n",
        "  sub1_2_weight = G[sub1][sub2]\n",
        "  sub2_1_weight = G[sub2][sub1]\n",
        "\n",
        "  if sub1_2_weight['weight'] == sub2_1_weight['weight']:\n",
        "    df = dataFrame.loc[(dataFrame['sub'] == sub1) & (dataFrame['obj'] == sub2)]\n",
        "    print(df.to_markdown())\n",
        "    df = dataFrame.loc[(dataFrame['sub'] == sub2) & (dataFrame['obj'] == sub1)]\n",
        "    print(df.to_markdown())\n",
        "    \n",
        "    sub1_count = count_appearance(sub1, dataFrame)\n",
        "    sub2_count = count_appearance(sub2, dataFrame)\n",
        "    print(sub1_count)\n",
        "    print(sub2_count)\n",
        "    if not (sub1_count == 0) and not( sub2_count == 0):\n",
        "      count +=1\n",
        "    if sub1_count == 1:\n",
        "      toremove = dataFrame.loc[(dataFrame['sub'] == sub1) & (dataFrame['obj'] == sub2)].index.tolist()\n",
        "      dataFrame = dataFrame.drop(toremove)\n",
        "\n",
        "    if  sub2_count == 1:\n",
        "      toremove = dataFrame.loc[(dataFrame['sub'] == sub2) & (dataFrame['obj'] == sub1)].index.tolist()\n",
        "      dataFrame = dataFrame.drop(toremove)\n",
        "\n",
        "    if sub1_count == sub2_count:\n",
        "      toremove = dataFrame.loc[(dataFrame['sub'] == sub1) & (dataFrame['obj'] == sub2)].index.tolist()\n",
        "      dataFrame = dataFrame.drop(toremove)\n",
        "\n",
        "      toremove = dataFrame.loc[(dataFrame['sub'] == sub2) & (dataFrame['obj'] == sub1)].index.tolist()\n",
        "      dataFrame = dataFrame.drop(toremove)\n",
        "\n",
        "    if sub1_count < sub2_count:\n",
        "      toremove = dataFrame.loc[(dataFrame['sub'] == sub1) & (dataFrame['obj'] == sub2)].index.tolist()\n",
        "      dataFrame = dataFrame.drop(toremove)\n",
        "    else:\n",
        "      toremove = dataFrame.loc[(dataFrame['sub'] == sub2) & (dataFrame['obj'] == sub1)].index.tolist()\n",
        "      dataFrame = dataFrame.drop(toremove)      \n",
        "\n",
        "\n",
        "print(count)\n"
      ],
      "metadata": {
        "id": "jc6QarTzE9c5"
      },
      "execution_count": null,
      "outputs": []
    },
    {
      "cell_type": "code",
      "source": [
        "dataFrame = CSKG_cut_task.copy()"
      ],
      "metadata": {
        "id": "3NvsraeK7-mS"
      },
      "execution_count": null,
      "outputs": []
    },
    {
      "cell_type": "code",
      "source": [
        "dataFrame.shape"
      ],
      "metadata": {
        "id": "Boz8EEyY-FzZ"
      },
      "execution_count": null,
      "outputs": []
    },
    {
      "cell_type": "code",
      "source": [
        "true = [370, 82388, 18802, 28312, 17944 ]"
      ],
      "metadata": {
        "id": "TMZ2Et5hADoF"
      },
      "execution_count": null,
      "outputs": []
    },
    {
      "cell_type": "code",
      "source": [
        "for c in cycles_2_list:\n",
        "  sub1 = c[0]\n",
        "  sub2 = c[1]\n",
        "  sub1_2_weight = G[sub1][sub2]\n",
        "  sub2_1_weight = G[sub2][sub1]\n",
        "  df = dataFrame.loc[(dataFrame['sub'] == sub1) & (dataFrame['obj'] == sub2)]\n",
        "  print(df.to_markdown())\n",
        "  df = (dataFrame.loc[(dataFrame['sub'] == sub2) & (dataFrame['obj'] == sub1)])\n",
        "  print(df.to_markdown())\n",
        "\n",
        "  # remove the edge with smaller sup\n",
        "  print(\"to remove!\")\n",
        "   # if sub1_2_weight['weight'] <= sub2_1_weight['weight']:\n",
        "  toremove = dataFrame.loc[(dataFrame['sub'] == sub1) & (dataFrame['obj'] == sub2)].index.tolist()\n",
        "\n",
        "  if len(list(set(toremove) & set(true))) == 0:\n",
        "\n",
        "    dataFrame = dataFrame.drop(toremove)\n",
        "  # elif sub2_1_weight['weight'] <= sub1_2_weight['weight']:\n",
        "  toremove = dataFrame.loc[(dataFrame['sub'] == sub2) & (dataFrame['obj'] == sub1)].index.tolist()\n",
        "  if len(list(set(toremove) & set(true))) == 0:\n",
        "    \n",
        "    dataFrame = dataFrame.drop(toremove)\n",
        "  # else:\n",
        "    #toremove = []\n",
        "  #print(toremove)\n",
        "  # dataFrame = dataFrame.drop(toremove)\n",
        "  print()\n",
        "  # break"
      ],
      "metadata": {
        "id": "KG3ueoaJ6jYl"
      },
      "execution_count": null,
      "outputs": []
    },
    {
      "cell_type": "code",
      "source": [
        "dataFrame.to_csv(\"/content/drive/MyDrive/Master/CSKG/Query_sup_at_least5_no_cycle2.csv\")  "
      ],
      "metadata": {
        "id": "e3K5oO3f_MKQ"
      },
      "execution_count": null,
      "outputs": []
    },
    {
      "cell_type": "markdown",
      "source": [
        "## DataFrame remove long cycles"
      ],
      "metadata": {
        "id": "X-4TF491ccov"
      }
    },
    {
      "cell_type": "code",
      "source": [
        "def read_cycle(list_nodes, G, dataFrame):\n",
        "  edges = []\n",
        "  length = len(list_nodes)\n",
        "  for index in range(length):\n",
        "    sub1 = list_nodes[index]\n",
        "    sub2 = list_nodes[(index + 1) % length]\n",
        "    edge = G[sub1][sub2]['weight']\n",
        "    edges.append(edge)\n",
        "\n",
        "  min_index = pd.Series(edges).idxmin()\n",
        "  sub1 = list_nodes[min_index]\n",
        "  sub2 = list_nodes[(min_index + 1) % length] \n",
        "  print(min_index)\n",
        "  print(edges[min_index])\n",
        "  print(sub1)\n",
        "  print(sub2)\n",
        "  toremove = dataFrame.loc[(dataFrame['sub'] == sub1) & (dataFrame['obj'] == sub2) & (dataFrame['sup'] == edges[min_index])].index.tolist()\n",
        "  print(toremove)\n",
        "  dataFrame = dataFrame.drop(toremove)\n",
        "  return dataFrame, sub1, sub2"
      ],
      "metadata": {
        "id": "Ifat47zHnfRB"
      },
      "execution_count": null,
      "outputs": []
    },
    {
      "cell_type": "code",
      "source": [
        "dataFrame.to_csv(\"/content/drive/MyDrive/Master/CSKG/Hierarchy-SUP2-NO-CYCLES.csv\")  "
      ],
      "metadata": {
        "id": "K661w0XZdNnS"
      },
      "execution_count": null,
      "outputs": []
    },
    {
      "cell_type": "code",
      "source": [
        "dataFrame = pd.read_csv(\"/content/drive/MyDrive/Master/CSKG/Query-sup10.csv\")  \n",
        "dataFrame = dataFrame[[\"sub\", \"obj\", \"sup\"]]"
      ],
      "metadata": {
        "id": "_E123prNhxp_"
      },
      "execution_count": null,
      "outputs": []
    },
    {
      "cell_type": "code",
      "source": [
        "dataFrame = pd.read_csv(\"/content/drive/MyDrive/Master/CSKG/Hierarchy-SUP2.csv\")  \n",
        "dataFrame = dataFrame[[\"sub\", \"obj\", \"sup\"]]"
      ],
      "metadata": {
        "id": "CFtJ_LoryF3p"
      },
      "execution_count": null,
      "outputs": []
    },
    {
      "cell_type": "code",
      "source": [
        "dataFrame = dataFrame.iloc[:3000]"
      ],
      "metadata": {
        "id": "-cjrIDf_327n"
      },
      "execution_count": null,
      "outputs": []
    },
    {
      "cell_type": "code",
      "source": [
        "\n",
        "dataFrame"
      ],
      "metadata": {
        "id": "7iOipUnOyO-X"
      },
      "execution_count": null,
      "outputs": []
    },
    {
      "cell_type": "code",
      "source": [
        "import networkx as nx\n",
        "G = nx.DiGraph()\n",
        "\n",
        "for index, row in dataFrame.iterrows():\n",
        "  #t = (row['sub'], row['obj'])\n",
        "  G.add_edge(row['sub'], row['obj'], weight=row['sup'])"
      ],
      "metadata": {
        "id": "JUP7hnJgaVEi"
      },
      "execution_count": null,
      "outputs": []
    },
    {
      "cell_type": "code",
      "source": [
        "import networkx as nx\n",
        "G = nx.Graph()\n",
        "\n",
        "for index, row in dataFrame.iterrows():\n",
        "  #t = (row['sub'], row['obj'])\n",
        "  G.add_edge(row['sub'], row['obj'], weight=1)"
      ],
      "metadata": {
        "id": "D2i5NLMTngi7"
      },
      "execution_count": null,
      "outputs": []
    },
    {
      "cell_type": "code",
      "source": [
        "cycles = nx.cycle_basis(G)\n",
        "len(cycles)"
      ],
      "metadata": {
        "id": "KgS_6k_7ifSa"
      },
      "execution_count": null,
      "outputs": []
    },
    {
      "cell_type": "code",
      "source": [
        "cycles = nx.recursive_simple_cycles(G)"
      ],
      "metadata": {
        "id": "qB4JFvIop28U"
      },
      "execution_count": null,
      "outputs": []
    },
    {
      "cell_type": "code",
      "source": [
        "cycles = nx.simple_cycles(G)\n",
        "cycles_list = []"
      ],
      "metadata": {
        "id": "roYfqDnKmQgg"
      },
      "execution_count": null,
      "outputs": []
    },
    {
      "cell_type": "code",
      "source": [
        "count = 0\n",
        "len_2 = 0\n",
        "for c in cycles:\n",
        "  length = (len(c))\n",
        "  # break\n",
        "  print(length)\n",
        "  # print(c[0], c[-1])\n",
        "  cycles_list.append(length)\n",
        "\n",
        "  count += 1\n",
        "  if count >= 18643:\n",
        "    print(count) \n",
        "    break\n",
        "\n",
        "print('*'*80)\n",
        "print(count)"
      ],
      "metadata": {
        "id": "Hu2EDKLSmN13"
      },
      "execution_count": null,
      "outputs": []
    },
    {
      "cell_type": "code",
      "source": [
        "lengths = [len(c) for c in cycles]\n",
        "bin = [2*i for i in range(100)]"
      ],
      "metadata": {
        "id": "8EeY5M-gXTnp"
      },
      "execution_count": null,
      "outputs": []
    },
    {
      "cell_type": "code",
      "source": [
        "import matplotlib.pyplot as plt\n",
        "import numpy as np\n",
        "\n",
        "# x = lengths\n",
        "x = cycles_list\n",
        "\n",
        "plt.figure(figsize=(20, 10))\n",
        "plt.hist(x, bins =100 )\n",
        "plt.title(\"# of cycles with different length for 310,000 graph\")\n",
        "plt.show() \n"
      ],
      "metadata": {
        "id": "sZePuvY1Xkq9"
      },
      "execution_count": null,
      "outputs": []
    },
    {
      "cell_type": "code",
      "source": [
        "G.number_of_edges()"
      ],
      "metadata": {
        "id": "F_ALGUnLi6R4"
      },
      "execution_count": null,
      "outputs": []
    },
    {
      "cell_type": "code",
      "source": [
        "dataFrame.shape"
      ],
      "metadata": {
        "id": "Kzj36ssDiVO6"
      },
      "execution_count": null,
      "outputs": []
    },
    {
      "cell_type": "code",
      "source": [
        "cycles = nx.simple_cycles(G)\n",
        "cycles_list = []"
      ],
      "metadata": {
        "id": "LaDB1655icif"
      },
      "execution_count": null,
      "outputs": []
    },
    {
      "cell_type": "code",
      "source": [
        "e = ('http://scholkg.kmi.open.ac.uk/cskg/resource/control_circuit', 'http://scholkg.kmi.open.ac.uk/cskg/resource/display_panel')\n",
        "G.remove_edge(*e)"
      ],
      "metadata": {
        "id": "icIH0wQN2LwK"
      },
      "execution_count": null,
      "outputs": []
    },
    {
      "cell_type": "code",
      "source": [
        "i = 0"
      ],
      "metadata": {
        "id": "7ZL8z3WjEn4i"
      },
      "execution_count": null,
      "outputs": []
    },
    {
      "cell_type": "code",
      "source": [
        "while (i < 500):\n",
        "  cycles = nx.simple_cycles(G)\n",
        "  cycles_list = []\n",
        "\n",
        "  for c in cycles:\n",
        "    length = (len(c))\n",
        "    # break\n",
        "    print(length)\n",
        "    print(c[0], c[-1])\n",
        "    cycles_list.append(c)\n",
        "    #if len(cycles_list) > 10:\n",
        "    break\n",
        "\n",
        "  #for cycle in cycles_list:\n",
        "  # dataFrame, sub, obj = read_cycle(cycle[0], G, dataFrame)\n",
        "  e = (cycles_list[0][-1], cycles_list[0][0])\n",
        "  G.remove_edge(*e)\n",
        "  print(dataFrame.shape)\n",
        "  print(G.number_of_edges())\n",
        "  i +=1"
      ],
      "metadata": {
        "id": "1pFpyQ9IEnh4"
      },
      "execution_count": null,
      "outputs": []
    },
    {
      "cell_type": "code",
      "source": [
        "i = 0"
      ],
      "metadata": {
        "id": "ImVvsMPsmsvM"
      },
      "execution_count": null,
      "outputs": []
    },
    {
      "cell_type": "code",
      "source": [
        "while (i < 5):\n",
        "  cycles = nx.simple_cycles(G)\n",
        "  cycles_list = []\n",
        "\n",
        "  for c in cycles:\n",
        "    length = (len(c))\n",
        "    # break\n",
        "    print(length)\n",
        "    print(c[0], c[-1])\n",
        "    cycles_list.append(c)\n",
        "    #if len(cycles_list) > 10:\n",
        "    break\n",
        "\n",
        "  #for cycle in cycles_list:\n",
        "  dataFrame, sub, obj = read_cycle(cycle[0], G, dataFrame)\n",
        "  e = (sub, obj)\n",
        "  G.remove_edge(*e)\n",
        "  print(dataFrame.shape)\n",
        "  print(G.number_of_edges())\n",
        "  i +=1 \n",
        "  if i % 1000 ==0 :\n",
        "    dataFrame.to_csv(\"/content/drive/MyDrive/Master/CSKG/Hierarchy-SUP2-NO-CYCLES_\" + str(6000+i*100) + \".csv\")  "
      ],
      "metadata": {
        "id": "dYkqUChcmZG6"
      },
      "execution_count": null,
      "outputs": []
    },
    {
      "cell_type": "code",
      "source": [
        "dataFrame.to_csv(\"/content/drive/MyDrive/Master/CSKG/Hierarchy-SUP2-NO-CYCLES_2.csv\")  "
      ],
      "metadata": {
        "id": "JqPVxz0Zy-I0"
      },
      "execution_count": null,
      "outputs": []
    },
    {
      "cell_type": "code",
      "source": [
        "dataFrame, sub, obj = read_cycle(cycles_list[0], G, dataFrame)\n",
        "e = (sub, obj)\n",
        "G.remove_edge(*e)"
      ],
      "metadata": {
        "id": "6VxEeCKVmBJu"
      },
      "execution_count": null,
      "outputs": []
    },
    {
      "cell_type": "markdown",
      "source": [
        "# Randome"
      ],
      "metadata": {
        "id": "c0c1VD8J9foK"
      }
    },
    {
      "cell_type": "code",
      "source": [
        "import pandas as pd\n",
        "# how to remove rows\n",
        "# Create DataFrame\n",
        "dataFrame = pd.DataFrame([[10, 15],[10, 15], [20, 25], [30, 35], [40, 45]],index=['w','q', 'x', 'y', 'z'],columns=['a', 'b'])\n",
        "\n",
        "# DataFrame\n",
        "print(dataFrame)\n",
        "\n",
        "# deleting a row\n",
        "\n",
        "print(dataFrame.loc[(dataFrame['a'] == 10) & (dataFrame['b'] == 15)].index.tolist())\n",
        "toremove = dataFrame.loc[(dataFrame['a'] == 10) & (dataFrame['b'] == 15)].index.tolist()\n",
        "\n",
        "dataFrame = dataFrame.drop(toremove)\n",
        "print(dataFrame.to_markdown())"
      ],
      "metadata": {
        "id": "LUfyvoyc9hWm"
      },
      "execution_count": null,
      "outputs": []
    },
    {
      "cell_type": "code",
      "source": [
        "import matplotlib.pyplot as plt\n",
        "  \n",
        "# values on x and y axis\n",
        "x = [1, 2, 3, 4, 5]\n",
        "y = [6, 7, 8, 9, 10]\n",
        "  \n",
        "# plot in it's default size\n",
        "display(plt.plot(x, y))\n",
        "  \n",
        "# changing the size of figure to 2X2\n",
        "plt.figure(figsize=(2, 2))\n",
        "display(plt.plot(x, y))"
      ],
      "metadata": {
        "id": "V_UyMpqRBzHv"
      },
      "execution_count": null,
      "outputs": []
    },
    {
      "cell_type": "code",
      "source": [
        "train = torch.load('/content/drive/MyDrive/599/project_data/train_loader_experiment.pth')"
      ],
      "metadata": {
        "id": "EmhAu9XKZxSq"
      },
      "execution_count": null,
      "outputs": []
    },
    {
      "cell_type": "code",
      "source": [
        "from google.colab import runtime\n",
        "runtime.unassign()"
      ],
      "metadata": {
        "id": "xytjuXnv0eFy"
      },
      "execution_count": null,
      "outputs": []
    }
  ]
}